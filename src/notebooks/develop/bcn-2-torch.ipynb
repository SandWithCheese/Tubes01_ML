{
 "cells": [
  {
   "cell_type": "code",
   "execution_count": 1,
   "metadata": {},
   "outputs": [],
   "source": [
    "import torch\n",
    "from torch import nn\n",
    "from torch.utils.data import DataLoader\n",
    "from torchvision.datasets import MNIST\n",
    "from torchvision.transforms import ToTensor"
   ]
  },
  {
   "cell_type": "code",
   "execution_count": 2,
   "metadata": {},
   "outputs": [
    {
     "name": "stdout",
     "output_type": "stream",
     "text": [
      "60000 10000\n"
     ]
    }
   ],
   "source": [
    "training_data = MNIST(root=\"data\", train=True, download=True, transform=ToTensor())\n",
    "test_data = MNIST(root=\"data\", train=False, download=True, transform=ToTensor())\n",
    "print(len(training_data), len(test_data))"
   ]
  },
  {
   "cell_type": "code",
   "execution_count": 3,
   "metadata": {},
   "outputs": [
    {
     "name": "stdout",
     "output_type": "stream",
     "text": [
      "Shape of X [N C H W]: torch.Size([64, 1, 28, 28])\n",
      "Shape of y: torch.Size([64]) torch.int64\n"
     ]
    }
   ],
   "source": [
    "batch_size = 64\n",
    "\n",
    "# create data loaders\n",
    "training_loader = DataLoader(training_data, batch_size=batch_size)\n",
    "test_loader = DataLoader(test_data, batch_size=64)\n",
    "\n",
    "for X, y in test_loader:\n",
    "    print(f\"Shape of X [N C H W]: {X.shape}\")\n",
    "    print(f\"Shape of y: {y.shape} {y.dtype}\")\n",
    "    break"
   ]
  },
  {
   "cell_type": "code",
   "execution_count": 4,
   "metadata": {},
   "outputs": [
    {
     "name": "stdout",
     "output_type": "stream",
     "text": [
      "Using cuda device\n"
     ]
    }
   ],
   "source": [
    "# get cpu, gpu or mps device for training.\n",
    "device = (\n",
    "    \"cuda\"\n",
    "    if torch.cuda.is_available()\n",
    "    else \"mps\"\n",
    "    if torch.backends.mps.is_available()\n",
    "    else \"cpu\"\n",
    ")\n",
    "print(f\"Using {device} device\")"
   ]
  },
  {
   "cell_type": "code",
   "execution_count": 5,
   "metadata": {},
   "outputs": [],
   "source": [
    "class NeuralNetwork(nn.Module):\n",
    "    def __init__(self):\n",
    "        super(NeuralNetwork, self).__init__()\n",
    "        self.flatten = nn.Flatten()\n",
    "        self.linear_relu_stack = nn.Sequential(\n",
    "            nn.Linear(28 * 28, 512),\n",
    "            nn.ReLU(),\n",
    "            nn.Linear(512, 512),\n",
    "            nn.ReLU(),\n",
    "            nn.Linear(512, 10),\n",
    "            nn.ReLU(),\n",
    "        )\n",
    "\n",
    "    def forward(self, x):\n",
    "        x = self.flatten(x)\n",
    "        logits = self.linear_relu_stack(x)\n",
    "        return logits"
   ]
  },
  {
   "cell_type": "code",
   "execution_count": 6,
   "metadata": {},
   "outputs": [
    {
     "name": "stdout",
     "output_type": "stream",
     "text": [
      "NeuralNetwork(\n",
      "  (flatten): Flatten(start_dim=1, end_dim=-1)\n",
      "  (linear_relu_stack): Sequential(\n",
      "    (0): Linear(in_features=784, out_features=512, bias=True)\n",
      "    (1): ReLU()\n",
      "    (2): Linear(in_features=512, out_features=512, bias=True)\n",
      "    (3): ReLU()\n",
      "    (4): Linear(in_features=512, out_features=10, bias=True)\n",
      "    (5): ReLU()\n",
      "  )\n",
      ")\n"
     ]
    }
   ],
   "source": [
    "device = torch.device(\"cuda\" if torch.cuda.is_available() else \"cpu\")\n",
    "model = NeuralNetwork().to(device)\n",
    "print(model)"
   ]
  },
  {
   "cell_type": "code",
   "execution_count": 7,
   "metadata": {},
   "outputs": [],
   "source": [
    "loss_fn = nn.CrossEntropyLoss()\n",
    "optimizer = torch.optim.SGD(model.parameters(), lr=1e-3, momentum=0.9)"
   ]
  },
  {
   "cell_type": "code",
   "execution_count": 8,
   "metadata": {},
   "outputs": [],
   "source": [
    "def train(dataloader, model, loss_fn, optimizer):\n",
    "    size = len(dataloader.dataset)\n",
    "    print(f\"size: {size}\")\n",
    "    for batch, (X, y) in enumerate(dataloader):\n",
    "        X = X.to(device)  # Move input data to the device (GPU or CPU)\n",
    "        y = y.to(device)  # Move target labels to the device (GPU or CPU)\n",
    "\n",
    "        # compute predicted y by passing X to the model\n",
    "        prediction = model(X)        # compute the loss\n",
    "        loss = loss_fn(prediction, y)      #  apply zero gradients, perform a backward pass, and update the weights\n",
    "        optimizer.zero_grad()  \n",
    "        loss.backward()  \n",
    "        optimizer.step()          # print training progress\n",
    "        if batch % 100 == 0:\n",
    "            loss_value = loss.item()  \n",
    "            current = batch * len(X)\n",
    "            print(f\"loss: {loss_value:>7f}  [{current:>5d}/{size:>5d}]\")\n",
    "\n",
    "def test(dataloader, model, loss_fn):\n",
    "    size = len(dataloader.dataset)\n",
    "    num_batches = len(dataloader)\n",
    "    model.eval()\n",
    "    test_loss, correct = 0,0\n",
    "    with torch.no_grad():\n",
    "        for X, y in dataloader:\n",
    "            X = X.to(device)\n",
    "            y = y.to(device)\n",
    "            prediction = model(X)\n",
    "            test_loss += loss_fn(prediction, y).item()\n",
    "            correct += (prediction.argmax(1) == y).type(torch.float).sum().item()\n",
    "        test_loss /= num_batches\n",
    "        correct /= size\n",
    "    print(f\"Test Error: \\n Accuracy: {(100*correct):>0.1f}%, Avg loss: {test_loss:>8f} \\n\")"
   ]
  },
  {
   "cell_type": "code",
   "execution_count": 9,
   "metadata": {},
   "outputs": [
    {
     "name": "stdout",
     "output_type": "stream",
     "text": [
      "Epoch 1\n",
      "-------------------------------\n",
      "size: 60000\n",
      "loss: 2.301475  [    0/60000]\n",
      "loss: 2.273239  [ 6400/60000]\n",
      "loss: 2.256021  [12800/60000]\n",
      "loss: 2.127163  [19200/60000]\n",
      "loss: 2.103697  [25600/60000]\n",
      "loss: 2.026656  [32000/60000]\n",
      "loss: 1.704990  [38400/60000]\n",
      "loss: 1.589985  [44800/60000]\n",
      "loss: 1.251858  [51200/60000]\n",
      "loss: 1.202046  [57600/60000]\n",
      "Test Error: \n",
      " Accuracy: 69.3%, Avg loss: 1.108224 \n",
      "\n",
      "Epoch 2\n",
      "-------------------------------\n",
      "size: 60000\n",
      "loss: 1.208255  [    0/60000]\n",
      "loss: 1.085050  [ 6400/60000]\n",
      "loss: 1.005336  [12800/60000]\n",
      "loss: 0.738770  [19200/60000]\n",
      "loss: 0.740419  [25600/60000]\n",
      "loss: 0.793943  [32000/60000]\n",
      "loss: 0.812519  [38400/60000]\n",
      "loss: 0.785065  [44800/60000]\n",
      "loss: 0.664968  [51200/60000]\n",
      "loss: 0.698157  [57600/60000]\n",
      "Test Error: \n",
      " Accuracy: 88.1%, Avg loss: 0.514717 \n",
      "\n",
      "Epoch 3\n",
      "-------------------------------\n",
      "size: 60000\n",
      "loss: 0.562591  [    0/60000]\n",
      "loss: 0.447395  [ 6400/60000]\n",
      "loss: 0.430890  [12800/60000]\n",
      "loss: 0.460386  [19200/60000]\n",
      "loss: 0.379351  [25600/60000]\n",
      "loss: 0.387807  [32000/60000]\n",
      "loss: 0.262366  [38400/60000]\n",
      "loss: 0.497698  [44800/60000]\n",
      "loss: 0.409060  [51200/60000]\n",
      "loss: 0.486545  [57600/60000]\n",
      "Test Error: \n",
      " Accuracy: 90.1%, Avg loss: 0.348649 \n",
      "\n",
      "Epoch 4\n",
      "-------------------------------\n",
      "size: 60000\n",
      "loss: 0.350947  [    0/60000]\n",
      "loss: 0.323302  [ 6400/60000]\n",
      "loss: 0.287246  [12800/60000]\n",
      "loss: 0.410186  [19200/60000]\n",
      "loss: 0.302890  [25600/60000]\n",
      "loss: 0.339817  [32000/60000]\n",
      "loss: 0.201682  [38400/60000]\n",
      "loss: 0.439100  [44800/60000]\n",
      "loss: 0.357208  [51200/60000]\n",
      "loss: 0.451206  [57600/60000]\n",
      "Test Error: \n",
      " Accuracy: 91.1%, Avg loss: 0.308870 \n",
      "\n",
      "Epoch 5\n",
      "-------------------------------\n",
      "size: 60000\n",
      "loss: 0.290027  [    0/60000]\n",
      "loss: 0.284525  [ 6400/60000]\n",
      "loss: 0.228819  [12800/60000]\n",
      "loss: 0.377673  [19200/60000]\n",
      "loss: 0.264100  [25600/60000]\n",
      "loss: 0.310077  [32000/60000]\n",
      "loss: 0.180127  [38400/60000]\n",
      "loss: 0.403808  [44800/60000]\n",
      "loss: 0.317503  [51200/60000]\n",
      "loss: 0.421985  [57600/60000]\n",
      "Test Error: \n",
      " Accuracy: 91.9%, Avg loss: 0.283436 \n",
      "\n",
      "Done!\n"
     ]
    }
   ],
   "source": [
    "epoch = 5\n",
    "for t in range(epoch):\n",
    "  print(f\"Epoch {t+1}\\n-------------------------------\")\n",
    "  train(training_loader, model, loss_fn, optimizer)\n",
    "  test(test_loader, model, loss_fn)\n",
    "print(\"Done!\")"
   ]
  },
  {
   "cell_type": "code",
   "execution_count": 13,
   "metadata": {},
   "outputs": [
    {
     "name": "stdout",
     "output_type": "stream",
     "text": [
      "Predicted: '2', Actual: '2'\n"
     ]
    }
   ],
   "source": [
    "classes = [\n",
    "    \"0\", \"1\", \"2\", \"3\", \"4\",\n",
    "    \"5\", \"6\", \"7\", \"8\", \"9\"\n",
    "]\n",
    "\n",
    "model.eval()\n",
    "\n",
    "sample_index = 1\n",
    "x, y = test_data[sample_index][0], test_data[sample_index][1]\n",
    "\n",
    "with torch.no_grad():\n",
    "    x = x.to(device)\n",
    "    prediction = model(x.unsqueeze(0))\n",
    "\n",
    "    predicted, actual = classes[prediction.argmax(dim=1)], classes[y]\n",
    "    print(f\"Predicted: '{predicted}', Actual: '{actual}'\")"
   ]
  }
 ],
 "metadata": {
  "kernelspec": {
   "display_name": ".venv",
   "language": "python",
   "name": "python3"
  },
  "language_info": {
   "codemirror_mode": {
    "name": "ipython",
    "version": 3
   },
   "file_extension": ".py",
   "mimetype": "text/x-python",
   "name": "python",
   "nbconvert_exporter": "python",
   "pygments_lexer": "ipython3",
   "version": "3.12.0"
  }
 },
 "nbformat": 4,
 "nbformat_minor": 2
}
