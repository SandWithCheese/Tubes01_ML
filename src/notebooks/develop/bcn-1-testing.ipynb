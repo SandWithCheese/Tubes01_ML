{
 "cells": [
  {
   "cell_type": "code",
   "execution_count": 1,
   "metadata": {},
   "outputs": [
    {
     "name": "stdout",
     "output_type": "stream",
     "text": [
      "Healthcheck\n"
     ]
    }
   ],
   "source": [
    "from ffnn.healthcheck import healthcheck\n",
    "healthcheck()"
   ]
  },
  {
   "cell_type": "code",
   "execution_count": 2,
   "metadata": {},
   "outputs": [],
   "source": [
    "from ffnn.ffnn import FFNN\n",
    "from ffnn.types import ActivationFunction, LossFunction, WeightInitializer, WeightsSetup"
   ]
  },
  {
   "cell_type": "code",
   "execution_count": 3,
   "metadata": {},
   "outputs": [
    {
     "name": "stdout",
     "output_type": "stream",
     "text": [
      "Layer initialized: 2 -> 3\n",
      "Activation: ActivationFunction.RELU\n",
      "Weights setup: WeightsSetup(initializer=<WeightInitializer.UNIFORM: 2>, lower_bound=0, upper_bound=1, mean=None, variance=None, seed=819)\n",
      "Weight initializer: WeightInitializer.UNIFORM\n",
      "\n",
      "Layer initialized: 3 -> 2\n",
      "Activation: ActivationFunction.SIGMOID\n",
      "Weights setup: WeightsSetup(initializer=<WeightInitializer.NORMAL: 3>, lower_bound=None, upper_bound=None, mean=0, variance=1, seed=819)\n",
      "Weight initializer: WeightInitializer.NORMAL\n",
      "\n",
      "FFNN initialized\n",
      "Layer sizes: [2, 3, 2]\n",
      "Activation functions: [<ActivationFunction.RELU: 2>, <ActivationFunction.SIGMOID: 3>]\n",
      "Loss function: LossFunction.MEAN_SQUARED_ERROR\n",
      "Weights setup: [WeightsSetup(initializer=<WeightInitializer.UNIFORM: 2>, lower_bound=0, upper_bound=1, mean=None, variance=None, seed=819), WeightsSetup(initializer=<WeightInitializer.NORMAL: 3>, lower_bound=None, upper_bound=None, mean=0, variance=1, seed=819)]\n",
      "Learning rate: 0.01\n",
      "Batch size: 32\n",
      "Epochs: 100\n",
      "Verbose: False\n",
      "Random state: 819\n"
     ]
    }
   ],
   "source": [
    "# 2 node di input layer, 3 node di hidden layer, 2 node di output layer\n",
    "layer_sizes = [2, 3, 2]\n",
    "\n",
    "activation_functions = [\n",
    "    ActivationFunction.RELU, \n",
    "    ActivationFunction.SIGMOID\n",
    "]\n",
    "\n",
    "loss_function = LossFunction.MEAN_SQUARED_ERROR\n",
    "\n",
    "weights_setup = [\n",
    "    WeightsSetup(initializer=WeightInitializer.UNIFORM, lower_bound=0, upper_bound=1, seed=1),\n",
    "    WeightsSetup(initializer=WeightInitializer.NORMAL, mean=0, variance=1, seed=1),\n",
    "]\n",
    "\n",
    "model = FFNN(\n",
    "    layer_sizes=layer_sizes, \n",
    "    activation_functions=activation_functions, \n",
    "    loss_function=loss_function, \n",
    "    weights_setup=weights_setup\n",
    ")"
   ]
  }
 ],
 "metadata": {
  "kernelspec": {
   "display_name": ".venv",
   "language": "python",
   "name": "python3"
  },
  "language_info": {
   "codemirror_mode": {
    "name": "ipython",
    "version": 3
   },
   "file_extension": ".py",
   "mimetype": "text/x-python",
   "name": "python",
   "nbconvert_exporter": "python",
   "pygments_lexer": "ipython3",
   "version": "3.12.0"
  }
 },
 "nbformat": 4,
 "nbformat_minor": 2
}
