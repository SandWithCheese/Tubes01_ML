{
 "cells": [
  {
   "cell_type": "code",
   "execution_count": 1,
   "metadata": {},
   "outputs": [
    {
     "name": "stdout",
     "output_type": "stream",
     "text": [
      "Healthcheck\n"
     ]
    }
   ],
   "source": [
    "from ffnn.healthcheck import healthcheck\n",
    "healthcheck()"
   ]
  },
  {
   "cell_type": "code",
   "execution_count": 2,
   "metadata": {},
   "outputs": [
    {
     "name": "stderr",
     "output_type": "stream",
     "text": [
      "c:\\Projects\\Tubes01_ML\\.venv\\Lib\\site-packages\\tqdm\\auto.py:21: TqdmWarning: IProgress not found. Please update jupyter and ipywidgets. See https://ipywidgets.readthedocs.io/en/stable/user_install.html\n",
      "  from .autonotebook import tqdm as notebook_tqdm\n"
     ]
    }
   ],
   "source": [
    "from ffnn.ffnn import FFNN\n",
    "from ffnn.types import ActivationFunction, LossFunction, WeightInitializer, WeightsSetup\n",
    "import numpy as np"
   ]
  },
  {
   "cell_type": "code",
   "execution_count": 3,
   "metadata": {},
   "outputs": [],
   "source": [
    "# 2 node di input layer, 2 node di hidden layer, 2 node di output layer\n",
    "layer_sizes = [2, 2, 2]\n",
    "\n",
    "activation_functions = [\n",
    "    ActivationFunction.SIGMOID, \n",
    "    ActivationFunction.SOFTMAX\n",
    "]\n",
    "\n",
    "loss_function = LossFunction.CATEGORICAL_CROSS_ENTROPY\n",
    "\n",
    "weights_setup = [\n",
    "    WeightsSetup(initializer=WeightInitializer.UNIFORM, lower_bound=0, upper_bound=1, seed=1),\n",
    "    WeightsSetup(initializer=WeightInitializer.NORMAL, mean=0, variance=1, seed=1),\n",
    "]\n",
    "\n",
    "model = FFNN(\n",
    "    layer_sizes=layer_sizes, \n",
    "    activation_functions=activation_functions, \n",
    "    loss_function=loss_function, \n",
    "    weights_setup=weights_setup,\n",
    "    epochs=2,\n",
    "    learning_rate=0.5,\n",
    "    verbose=True,\n",
    "    random_state=42,\n",
    "    batch_size=1\n",
    ")"
   ]
  },
  {
   "cell_type": "code",
   "execution_count": 4,
   "metadata": {},
   "outputs": [],
   "source": [
    "# Inisialisasi 10 data dummy untuk input dan target\n",
    "dummy_size = 10\n",
    "input_data = np.random.uniform(0.01, 0.1, (dummy_size, 2))  # 10 sampel, 2 fitur\n",
    "target_data = np.random.uniform(0.01, 1.0, (dummy_size, 2))  # 10 sampel, 2 output\n",
    "\n",
    "# Inisialisasi bobot dan bias\n",
    "weights = [\n",
    "    np.random.uniform(0.1, 0.3, (2, 2)),  # Bobot layer pertama (2 input -> 2 hidden)\n",
    "    np.random.uniform(0.4, 0.6, (2, 2)),  # Bobot layer kedua (2 hidden -> 2 output)\n",
    "]\n",
    "\n",
    "biases = [\n",
    "    np.random.uniform(0.3, 0.4, (2,)),  # Bias layer pertama\n",
    "    np.random.uniform(0.6, 0.7, (2,)),  # Bias layer kedua\n",
    "]\n",
    "\n",
    "# Set bobot dan bias ke model\n",
    "model.set_weights(weights)\n",
    "model.set_biases(biases)"
   ]
  },
  {
   "cell_type": "code",
   "execution_count": 5,
   "metadata": {},
   "outputs": [
    {
     "name": "stderr",
     "output_type": "stream",
     "text": [
      "Training...: 100%|██████████| 2/2 [00:00<00:00, 977.69it/s]\n"
     ]
    },
    {
     "name": "stdout",
     "output_type": "stream",
     "text": [
      "Epoch 1 - Training Loss: 0.592965706185612, Validation Loss: 0.8316758778397824\n",
      "Epoch 2 - Training Loss: 0.6117087972780746, Validation Loss: 0.8654910363014117\n"
     ]
    },
    {
     "data": {
      "application/vnd.plotly.v1+json": {
       "config": {
        "displayModeBar": true,
        "plotlyServerURL": "https://plot.ly",
        "scrollZoom": true,
        "toImageButtonOptions": {
         "filename": "neural_network_visualization",
         "format": "png",
         "height": 800,
         "scale": 2,
         "width": 1200
        }
       },
       "data": [
        {
         "hoverinfo": "text",
         "hoverlabel": {
          "bgcolor": "white",
          "bordercolor": "black",
          "font": {
           "family": "Arial",
           "size": 12
          }
         },
         "hovertemplate": "<b>Connection:</b> L0 N0 → L1 N0<br><b>Type:</b> Weight<br><b>Value:</b> 0.0997<br><b>Gradient:</b> 0.001677<extra></extra>",
         "line": {
          "color": "rgba(123, 165, 209, 0.8)",
          "width": 0.5
         },
         "mode": "lines",
         "opacity": 0.7,
         "type": "scatter",
         "x": [
          0,
          10.526315789473683,
          21.052631578947366,
          31.57894736842105,
          42.10526315789473,
          52.63157894736842,
          63.1578947368421,
          73.68421052631578,
          84.21052631578947,
          94.73684210526315,
          105.26315789473684,
          115.78947368421053,
          126.3157894736842,
          136.8421052631579,
          147.36842105263156,
          157.89473684210526,
          168.42105263157893,
          178.94736842105263,
          189.4736842105263,
          200
         ],
         "y": [
          -50,
          -50,
          -50,
          -49.99999999999999,
          -50,
          -50,
          -50,
          -50,
          -50,
          -50,
          -50,
          -50,
          -50,
          -50,
          -50,
          -50,
          -50,
          -50,
          -50,
          -50
         ]
        },
        {
         "hoverinfo": "text",
         "hoverlabel": {
          "bgcolor": "white",
          "bordercolor": "black",
          "font": {
           "family": "Arial",
           "size": 12
          }
         },
         "hovertemplate": "<b>Connection:</b> L0 N0 → L1 N1<br><b>Type:</b> Weight<br><b>Value:</b> 0.1411<br><b>Gradient:</b> 0.001412<extra></extra>",
         "line": {
          "color": "rgba(123, 165, 209, 0.8)",
          "width": 0.5
         },
         "mode": "lines",
         "opacity": 0.7,
         "type": "scatter",
         "x": [
          0,
          10.526315789473683,
          21.052631578947366,
          31.57894736842105,
          42.10526315789473,
          52.63157894736842,
          63.1578947368421,
          73.68421052631578,
          84.21052631578947,
          94.73684210526315,
          105.26315789473684,
          115.78947368421053,
          126.3157894736842,
          136.8421052631579,
          147.36842105263156,
          157.89473684210526,
          168.42105263157893,
          178.94736842105263,
          189.4736842105263,
          200
         ],
         "y": [
          -50,
          -47.36842105263158,
          -44.73684210526316,
          -42.10526315789473,
          -39.473684210526315,
          -36.8421052631579,
          -34.21052631578947,
          -31.57894736842105,
          -28.947368421052634,
          -26.315789473684216,
          -23.68421052631579,
          -21.052631578947366,
          -18.42105263157895,
          -15.789473684210526,
          -13.157894736842108,
          -10.526315789473683,
          -7.8947368421052655,
          -5.263157894736842,
          -2.631578947368424,
          0
         ]
        },
        {
         "hoverinfo": "text",
         "hoverlabel": {
          "bgcolor": "white",
          "bordercolor": "black",
          "font": {
           "family": "Arial",
           "size": 12
          }
         },
         "hovertemplate": "<b>Connection:</b> L0 N1 → L1 N0<br><b>Type:</b> Weight<br><b>Value:</b> 0.2743<br><b>Gradient:</b> 0.001730<extra></extra>",
         "line": {
          "color": "rgba(123, 165, 209, 0.8)",
          "width": 0.8230270042982305
         },
         "mode": "lines",
         "opacity": 0.7,
         "type": "scatter",
         "x": [
          0,
          10.526315789473683,
          21.052631578947366,
          31.57894736842105,
          42.10526315789473,
          52.63157894736842,
          63.1578947368421,
          73.68421052631578,
          84.21052631578947,
          94.73684210526315,
          105.26315789473684,
          115.78947368421053,
          126.3157894736842,
          136.8421052631579,
          147.36842105263156,
          157.89473684210526,
          168.42105263157893,
          178.94736842105263,
          189.4736842105263,
          200
         ],
         "y": [
          0,
          -2.631578947368421,
          -5.263157894736842,
          -7.894736842105263,
          -10.526315789473683,
          -13.157894736842104,
          -15.789473684210526,
          -18.421052631578945,
          -21.052631578947366,
          -23.684210526315788,
          -26.31578947368421,
          -28.947368421052634,
          -31.57894736842105,
          -34.21052631578947,
          -36.84210526315789,
          -39.473684210526315,
          -42.10526315789473,
          -44.73684210526316,
          -47.368421052631575,
          -50
         ]
        },
        {
         "hoverinfo": "text",
         "hoverlabel": {
          "bgcolor": "white",
          "bordercolor": "black",
          "font": {
           "family": "Arial",
           "size": 12
          }
         },
         "hovertemplate": "<b>Connection:</b> L0 N1 → L1 N1<br><b>Type:</b> Weight<br><b>Value:</b> 0.2229<br><b>Gradient:</b> 0.001457<extra></extra>",
         "line": {
          "color": "rgba(123, 165, 209, 0.8)",
          "width": 0.6688001296866033
         },
         "mode": "lines",
         "opacity": 0.7,
         "type": "scatter",
         "x": [
          0,
          10.526315789473683,
          21.052631578947366,
          31.57894736842105,
          42.10526315789473,
          52.63157894736842,
          63.1578947368421,
          73.68421052631578,
          84.21052631578947,
          94.73684210526315,
          105.26315789473684,
          115.78947368421053,
          126.3157894736842,
          136.8421052631579,
          147.36842105263156,
          157.89473684210526,
          168.42105263157893,
          178.94736842105263,
          189.4736842105263,
          200
         ],
         "y": [
          0,
          0,
          0,
          0,
          0,
          0,
          0,
          0,
          0,
          0,
          0,
          0,
          0,
          0,
          0,
          0,
          0,
          0,
          0,
          0
         ]
        },
        {
         "hoverinfo": "text",
         "hoverlabel": {
          "bgcolor": "white",
          "bordercolor": "black",
          "font": {
           "family": "Arial",
           "size": 12
          }
         },
         "hovertemplate": "<b>Connection:</b> L0 Bias → L1 N0<br><b>Type:</b> Bias<br><b>Value:</b> 0.2532<br><b>Gradient:</b> 0.022100<extra></extra>",
         "line": {
          "color": "rgba(200, 100, 200, 0.8)",
          "width": 1
         },
         "mode": "lines",
         "opacity": 0.7,
         "type": "scatter",
         "x": [
          -50,
          -36.8421052631579,
          -23.68421052631579,
          -10.526315789473681,
          2.6315789473684177,
          15.78947368421052,
          28.94736842105263,
          42.105263157894726,
          55.263157894736835,
          68.42105263157893,
          81.57894736842104,
          94.73684210526316,
          107.89473684210526,
          121.05263157894737,
          134.21052631578945,
          147.3684210526316,
          160.52631578947367,
          173.68421052631578,
          186.8421052631579,
          200
         ],
         "y": [
          75,
          68.42105263157895,
          61.8421052631579,
          55.26315789473684,
          48.68421052631579,
          42.10526315789475,
          35.526315789473685,
          28.94736842105263,
          22.368421052631586,
          15.789473684210535,
          9.210526315789476,
          2.6315789473684177,
          -3.9473684210526265,
          -10.526315789473685,
          -17.10526315789473,
          -23.684210526315788,
          -30.263157894736835,
          -36.8421052631579,
          -43.42105263157894,
          -50
         ]
        },
        {
         "hoverinfo": "text",
         "hoverlabel": {
          "bgcolor": "white",
          "bordercolor": "black",
          "font": {
           "family": "Arial",
           "size": 12
          }
         },
         "hovertemplate": "<b>Connection:</b> L0 Bias → L1 N1<br><b>Type:</b> Bias<br><b>Value:</b> 0.2361<br><b>Gradient:</b> 0.022802<extra></extra>",
         "line": {
          "color": "rgba(200, 100, 200, 0.8)",
          "width": 1
         },
         "mode": "lines",
         "opacity": 0.7,
         "type": "scatter",
         "x": [
          -50,
          -36.8421052631579,
          -23.68421052631579,
          -10.526315789473681,
          2.6315789473684177,
          15.78947368421052,
          28.94736842105263,
          42.105263157894726,
          55.263157894736835,
          68.42105263157893,
          81.57894736842104,
          94.73684210526316,
          107.89473684210526,
          121.05263157894737,
          134.21052631578945,
          147.3684210526316,
          160.52631578947367,
          173.68421052631578,
          186.8421052631579,
          200
         ],
         "y": [
          75,
          71.05263157894737,
          67.10526315789474,
          63.1578947368421,
          59.21052631578947,
          55.26315789473685,
          51.31578947368421,
          47.368421052631575,
          43.42105263157895,
          39.47368421052632,
          35.526315789473685,
          31.57894736842105,
          27.631578947368425,
          23.684210526315788,
          19.73684210526316,
          15.789473684210526,
          11.842105263157897,
          7.894736842105263,
          3.9473684210526354,
          0
         ]
        },
        {
         "hoverinfo": "text",
         "hoverlabel": {
          "bgcolor": "white",
          "bordercolor": "black",
          "font": {
           "family": "Arial",
           "size": 12
          }
         },
         "hovertemplate": "<b>Connection:</b> L1 N0 → L2 N0<br><b>Type:</b> Weight<br><b>Value:</b> 0.0391<br><b>Gradient:</b> 0.125632<extra></extra>",
         "line": {
          "color": "rgba(123, 165, 209, 0.8)",
          "width": 0.5
         },
         "mode": "lines",
         "opacity": 0.7,
         "type": "scatter",
         "x": [
          200,
          210.5263157894737,
          221.05263157894737,
          231.57894736842104,
          242.10526315789474,
          252.63157894736844,
          263.1578947368421,
          273.6842105263158,
          284.2105263157895,
          294.7368421052632,
          305.2631578947368,
          315.7894736842105,
          326.3157894736842,
          336.84210526315786,
          347.36842105263156,
          357.89473684210526,
          368.4210526315789,
          378.9473684210526,
          389.4736842105263,
          400
         ],
         "y": [
          -50,
          -50,
          -50,
          -49.99999999999999,
          -50,
          -50,
          -50,
          -50,
          -50,
          -50,
          -50,
          -50,
          -50,
          -50,
          -50,
          -50,
          -50,
          -50,
          -50,
          -50
         ]
        },
        {
         "hoverinfo": "text",
         "hoverlabel": {
          "bgcolor": "white",
          "bordercolor": "black",
          "font": {
           "family": "Arial",
           "size": 12
          }
         },
         "hovertemplate": "<b>Connection:</b> L1 N0 → L2 N1<br><b>Type:</b> Weight<br><b>Value:</b> 0.0862<br><b>Gradient:</b> 0.125677<extra></extra>",
         "line": {
          "color": "rgba(123, 165, 209, 0.8)",
          "width": 0.5
         },
         "mode": "lines",
         "opacity": 0.7,
         "type": "scatter",
         "x": [
          200,
          210.5263157894737,
          221.05263157894737,
          231.57894736842104,
          242.10526315789474,
          252.63157894736844,
          263.1578947368421,
          273.6842105263158,
          284.2105263157895,
          294.7368421052632,
          305.2631578947368,
          315.7894736842105,
          326.3157894736842,
          336.84210526315786,
          347.36842105263156,
          357.89473684210526,
          368.4210526315789,
          378.9473684210526,
          389.4736842105263,
          400
         ],
         "y": [
          -50,
          -47.36842105263158,
          -44.73684210526316,
          -42.10526315789473,
          -39.473684210526315,
          -36.8421052631579,
          -34.21052631578947,
          -31.57894736842105,
          -28.947368421052634,
          -26.315789473684216,
          -23.68421052631579,
          -21.052631578947366,
          -18.42105263157895,
          -15.789473684210526,
          -13.157894736842108,
          -10.526315789473683,
          -7.8947368421052655,
          -5.263157894736842,
          -2.631578947368424,
          0
         ]
        },
        {
         "hoverinfo": "text",
         "hoverlabel": {
          "bgcolor": "white",
          "bordercolor": "black",
          "font": {
           "family": "Arial",
           "size": 12
          }
         },
         "hovertemplate": "<b>Connection:</b> L1 N1 → L2 N0<br><b>Type:</b> Weight<br><b>Value:</b> 0.1134<br><b>Gradient:</b> 0.065125<extra></extra>",
         "line": {
          "color": "rgba(123, 165, 209, 0.8)",
          "width": 0.5
         },
         "mode": "lines",
         "opacity": 0.7,
         "type": "scatter",
         "x": [
          200,
          210.5263157894737,
          221.05263157894737,
          231.57894736842104,
          242.10526315789474,
          252.63157894736844,
          263.1578947368421,
          273.6842105263158,
          284.2105263157895,
          294.7368421052632,
          305.2631578947368,
          315.7894736842105,
          326.3157894736842,
          336.84210526315786,
          347.36842105263156,
          357.89473684210526,
          368.4210526315789,
          378.9473684210526,
          389.4736842105263,
          400
         ],
         "y": [
          0,
          -2.631578947368421,
          -5.263157894736842,
          -7.894736842105263,
          -10.526315789473683,
          -13.157894736842104,
          -15.789473684210526,
          -18.421052631578945,
          -21.052631578947366,
          -23.684210526315788,
          -26.31578947368421,
          -28.947368421052634,
          -31.57894736842105,
          -34.21052631578947,
          -36.84210526315789,
          -39.473684210526315,
          -42.10526315789473,
          -44.73684210526316,
          -47.368421052631575,
          -50
         ]
        },
        {
         "hoverinfo": "text",
         "hoverlabel": {
          "bgcolor": "white",
          "bordercolor": "black",
          "font": {
           "family": "Arial",
           "size": 12
          }
         },
         "hovertemplate": "<b>Connection:</b> L1 N1 → L2 N1<br><b>Type:</b> Weight<br><b>Value:</b> 0.0483<br><b>Gradient:</b> 0.065148<extra></extra>",
         "line": {
          "color": "rgba(123, 165, 209, 0.8)",
          "width": 0.5
         },
         "mode": "lines",
         "opacity": 0.7,
         "type": "scatter",
         "x": [
          200,
          210.5263157894737,
          221.05263157894737,
          231.57894736842104,
          242.10526315789474,
          252.63157894736844,
          263.1578947368421,
          273.6842105263158,
          284.2105263157895,
          294.7368421052632,
          305.2631578947368,
          315.7894736842105,
          326.3157894736842,
          336.84210526315786,
          347.36842105263156,
          357.89473684210526,
          368.4210526315789,
          378.9473684210526,
          389.4736842105263,
          400
         ],
         "y": [
          0,
          0,
          0,
          0,
          0,
          0,
          0,
          0,
          0,
          0,
          0,
          0,
          0,
          0,
          0,
          0,
          0,
          0,
          0,
          0
         ]
        },
        {
         "hoverinfo": "text",
         "hoverlabel": {
          "bgcolor": "white",
          "bordercolor": "black",
          "font": {
           "family": "Arial",
           "size": 12
          }
         },
         "hovertemplate": "<b>Connection:</b> L1 Bias → L2 N0<br><b>Type:</b> Bias<br><b>Value:</b> -0.0308<br><b>Gradient:</b> 0.216071<extra></extra>",
         "line": {
          "color": "rgba(200, 100, 200, 0.8)",
          "width": 1
         },
         "mode": "lines",
         "opacity": 0.7,
         "type": "scatter",
         "x": [
          150,
          163.1578947368421,
          176.31578947368422,
          189.4736842105263,
          202.6315789473684,
          215.78947368421052,
          228.94736842105263,
          242.1052631578947,
          255.26315789473682,
          268.42105263157896,
          281.57894736842104,
          294.7368421052632,
          307.89473684210526,
          321.05263157894734,
          334.2105263157894,
          347.36842105263156,
          360.52631578947364,
          373.6842105263158,
          386.84210526315786,
          400
         ],
         "y": [
          75,
          68.42105263157895,
          61.8421052631579,
          55.26315789473684,
          48.68421052631579,
          42.10526315789475,
          35.526315789473685,
          28.94736842105263,
          22.368421052631586,
          15.789473684210535,
          9.210526315789476,
          2.6315789473684177,
          -3.9473684210526265,
          -10.526315789473685,
          -17.10526315789473,
          -23.684210526315788,
          -30.263157894736835,
          -36.8421052631579,
          -43.42105263157894,
          -50
         ]
        },
        {
         "hoverinfo": "text",
         "hoverlabel": {
          "bgcolor": "white",
          "bordercolor": "black",
          "font": {
           "family": "Arial",
           "size": 12
          }
         },
         "hovertemplate": "<b>Connection:</b> L1 Bias → L2 N1<br><b>Type:</b> Bias<br><b>Value:</b> 0.0211<br><b>Gradient:</b> 0.112007<extra></extra>",
         "line": {
          "color": "rgba(200, 100, 200, 0.8)",
          "width": 1
         },
         "mode": "lines",
         "opacity": 0.7,
         "type": "scatter",
         "x": [
          150,
          163.1578947368421,
          176.31578947368422,
          189.4736842105263,
          202.6315789473684,
          215.78947368421052,
          228.94736842105263,
          242.1052631578947,
          255.26315789473682,
          268.42105263157896,
          281.57894736842104,
          294.7368421052632,
          307.89473684210526,
          321.05263157894734,
          334.2105263157894,
          347.36842105263156,
          360.52631578947364,
          373.6842105263158,
          386.84210526315786,
          400
         ],
         "y": [
          75,
          71.05263157894737,
          67.10526315789474,
          63.1578947368421,
          59.21052631578947,
          55.26315789473685,
          51.31578947368421,
          47.368421052631575,
          43.42105263157895,
          39.47368421052632,
          35.526315789473685,
          31.57894736842105,
          27.631578947368425,
          23.684210526315788,
          19.73684210526316,
          15.789473684210526,
          11.842105263157897,
          7.894736842105263,
          3.9473684210526354,
          0
         ]
        },
        {
         "hoverinfo": "text",
         "hovertext": [
          "L0 N0<br>Layer: Input Layer",
          "L0 N1<br>Layer: Input Layer",
          "L0 Bias<br>Layer: Input Layer",
          "L1 N0<br>Layer: Hidden Layer 1",
          "L1 N1<br>Layer: Hidden Layer 1",
          "L1 Bias<br>Layer: Hidden Layer 1",
          "L2 N0<br>Layer: Output Layer",
          "L2 N1<br>Layer: Output Layer"
         ],
         "marker": {
          "color": [
           "lightblue",
           "lightblue",
           "pink",
           "lightyellow",
           "lightyellow",
           "pink",
           "lightgreen",
           "lightgreen"
          ],
          "line": {
           "color": "black",
           "width": 2
          },
          "size": 25
         },
         "mode": "markers+text",
         "text": [
          "L0 N0",
          "L0 N1",
          "L0 Bias",
          "L1 N0",
          "L1 N1",
          "L1 Bias",
          "L2 N0",
          "L2 N1"
         ],
         "textposition": "top center",
         "type": "scatter",
         "x": [
          0,
          0,
          -50,
          200,
          200,
          150,
          400,
          400
         ],
         "y": [
          -50,
          0,
          75,
          -50,
          0,
          75,
          -50,
          0
         ]
        }
       ],
       "layout": {
        "annotations": [
         {
          "font": {
           "color": "black",
           "size": 16
          },
          "showarrow": false,
          "text": "Input Layer",
          "x": 0,
          "y": 100
         },
         {
          "font": {
           "color": "black",
           "size": 16
          },
          "showarrow": false,
          "text": "Hidden Layer 1",
          "x": 200,
          "y": 100
         },
         {
          "font": {
           "color": "black",
           "size": 16
          },
          "showarrow": false,
          "text": "Output Layer",
          "x": 400,
          "y": 100
         },
         {
          "align": "left",
          "bgcolor": "rgba(255, 255, 255, 0.7)",
          "bordercolor": "gray",
          "borderpad": 4,
          "borderwidth": 1,
          "font": {
           "size": 12
          },
          "showarrow": false,
          "text": "<b>Legend:</b><br>• Blue edges: Positive weights<br>• Red edges: Negative weights<br>• Purple edges: Bias connections<br>• Thickness indicates weight magnitude",
          "x": 0.02,
          "xref": "paper",
          "y": 0.02,
          "yref": "paper"
         }
        ],
        "height": 800,
        "hovermode": "closest",
        "margin": {
         "b": 20,
         "l": 5,
         "r": 5,
         "t": 40
        },
        "plot_bgcolor": "rgba(240, 240, 240, 0.2)",
        "showlegend": false,
        "template": {
         "data": {
          "bar": [
           {
            "error_x": {
             "color": "#2a3f5f"
            },
            "error_y": {
             "color": "#2a3f5f"
            },
            "marker": {
             "line": {
              "color": "#E5ECF6",
              "width": 0.5
             },
             "pattern": {
              "fillmode": "overlay",
              "size": 10,
              "solidity": 0.2
             }
            },
            "type": "bar"
           }
          ],
          "barpolar": [
           {
            "marker": {
             "line": {
              "color": "#E5ECF6",
              "width": 0.5
             },
             "pattern": {
              "fillmode": "overlay",
              "size": 10,
              "solidity": 0.2
             }
            },
            "type": "barpolar"
           }
          ],
          "carpet": [
           {
            "aaxis": {
             "endlinecolor": "#2a3f5f",
             "gridcolor": "white",
             "linecolor": "white",
             "minorgridcolor": "white",
             "startlinecolor": "#2a3f5f"
            },
            "baxis": {
             "endlinecolor": "#2a3f5f",
             "gridcolor": "white",
             "linecolor": "white",
             "minorgridcolor": "white",
             "startlinecolor": "#2a3f5f"
            },
            "type": "carpet"
           }
          ],
          "choropleth": [
           {
            "colorbar": {
             "outlinewidth": 0,
             "ticks": ""
            },
            "type": "choropleth"
           }
          ],
          "contour": [
           {
            "colorbar": {
             "outlinewidth": 0,
             "ticks": ""
            },
            "colorscale": [
             [
              0,
              "#0d0887"
             ],
             [
              0.1111111111111111,
              "#46039f"
             ],
             [
              0.2222222222222222,
              "#7201a8"
             ],
             [
              0.3333333333333333,
              "#9c179e"
             ],
             [
              0.4444444444444444,
              "#bd3786"
             ],
             [
              0.5555555555555556,
              "#d8576b"
             ],
             [
              0.6666666666666666,
              "#ed7953"
             ],
             [
              0.7777777777777778,
              "#fb9f3a"
             ],
             [
              0.8888888888888888,
              "#fdca26"
             ],
             [
              1,
              "#f0f921"
             ]
            ],
            "type": "contour"
           }
          ],
          "contourcarpet": [
           {
            "colorbar": {
             "outlinewidth": 0,
             "ticks": ""
            },
            "type": "contourcarpet"
           }
          ],
          "heatmap": [
           {
            "colorbar": {
             "outlinewidth": 0,
             "ticks": ""
            },
            "colorscale": [
             [
              0,
              "#0d0887"
             ],
             [
              0.1111111111111111,
              "#46039f"
             ],
             [
              0.2222222222222222,
              "#7201a8"
             ],
             [
              0.3333333333333333,
              "#9c179e"
             ],
             [
              0.4444444444444444,
              "#bd3786"
             ],
             [
              0.5555555555555556,
              "#d8576b"
             ],
             [
              0.6666666666666666,
              "#ed7953"
             ],
             [
              0.7777777777777778,
              "#fb9f3a"
             ],
             [
              0.8888888888888888,
              "#fdca26"
             ],
             [
              1,
              "#f0f921"
             ]
            ],
            "type": "heatmap"
           }
          ],
          "histogram": [
           {
            "marker": {
             "pattern": {
              "fillmode": "overlay",
              "size": 10,
              "solidity": 0.2
             }
            },
            "type": "histogram"
           }
          ],
          "histogram2d": [
           {
            "colorbar": {
             "outlinewidth": 0,
             "ticks": ""
            },
            "colorscale": [
             [
              0,
              "#0d0887"
             ],
             [
              0.1111111111111111,
              "#46039f"
             ],
             [
              0.2222222222222222,
              "#7201a8"
             ],
             [
              0.3333333333333333,
              "#9c179e"
             ],
             [
              0.4444444444444444,
              "#bd3786"
             ],
             [
              0.5555555555555556,
              "#d8576b"
             ],
             [
              0.6666666666666666,
              "#ed7953"
             ],
             [
              0.7777777777777778,
              "#fb9f3a"
             ],
             [
              0.8888888888888888,
              "#fdca26"
             ],
             [
              1,
              "#f0f921"
             ]
            ],
            "type": "histogram2d"
           }
          ],
          "histogram2dcontour": [
           {
            "colorbar": {
             "outlinewidth": 0,
             "ticks": ""
            },
            "colorscale": [
             [
              0,
              "#0d0887"
             ],
             [
              0.1111111111111111,
              "#46039f"
             ],
             [
              0.2222222222222222,
              "#7201a8"
             ],
             [
              0.3333333333333333,
              "#9c179e"
             ],
             [
              0.4444444444444444,
              "#bd3786"
             ],
             [
              0.5555555555555556,
              "#d8576b"
             ],
             [
              0.6666666666666666,
              "#ed7953"
             ],
             [
              0.7777777777777778,
              "#fb9f3a"
             ],
             [
              0.8888888888888888,
              "#fdca26"
             ],
             [
              1,
              "#f0f921"
             ]
            ],
            "type": "histogram2dcontour"
           }
          ],
          "mesh3d": [
           {
            "colorbar": {
             "outlinewidth": 0,
             "ticks": ""
            },
            "type": "mesh3d"
           }
          ],
          "parcoords": [
           {
            "line": {
             "colorbar": {
              "outlinewidth": 0,
              "ticks": ""
             }
            },
            "type": "parcoords"
           }
          ],
          "pie": [
           {
            "automargin": true,
            "type": "pie"
           }
          ],
          "scatter": [
           {
            "fillpattern": {
             "fillmode": "overlay",
             "size": 10,
             "solidity": 0.2
            },
            "type": "scatter"
           }
          ],
          "scatter3d": [
           {
            "line": {
             "colorbar": {
              "outlinewidth": 0,
              "ticks": ""
             }
            },
            "marker": {
             "colorbar": {
              "outlinewidth": 0,
              "ticks": ""
             }
            },
            "type": "scatter3d"
           }
          ],
          "scattercarpet": [
           {
            "marker": {
             "colorbar": {
              "outlinewidth": 0,
              "ticks": ""
             }
            },
            "type": "scattercarpet"
           }
          ],
          "scattergeo": [
           {
            "marker": {
             "colorbar": {
              "outlinewidth": 0,
              "ticks": ""
             }
            },
            "type": "scattergeo"
           }
          ],
          "scattergl": [
           {
            "marker": {
             "colorbar": {
              "outlinewidth": 0,
              "ticks": ""
             }
            },
            "type": "scattergl"
           }
          ],
          "scattermap": [
           {
            "marker": {
             "colorbar": {
              "outlinewidth": 0,
              "ticks": ""
             }
            },
            "type": "scattermap"
           }
          ],
          "scattermapbox": [
           {
            "marker": {
             "colorbar": {
              "outlinewidth": 0,
              "ticks": ""
             }
            },
            "type": "scattermapbox"
           }
          ],
          "scatterpolar": [
           {
            "marker": {
             "colorbar": {
              "outlinewidth": 0,
              "ticks": ""
             }
            },
            "type": "scatterpolar"
           }
          ],
          "scatterpolargl": [
           {
            "marker": {
             "colorbar": {
              "outlinewidth": 0,
              "ticks": ""
             }
            },
            "type": "scatterpolargl"
           }
          ],
          "scatterternary": [
           {
            "marker": {
             "colorbar": {
              "outlinewidth": 0,
              "ticks": ""
             }
            },
            "type": "scatterternary"
           }
          ],
          "surface": [
           {
            "colorbar": {
             "outlinewidth": 0,
             "ticks": ""
            },
            "colorscale": [
             [
              0,
              "#0d0887"
             ],
             [
              0.1111111111111111,
              "#46039f"
             ],
             [
              0.2222222222222222,
              "#7201a8"
             ],
             [
              0.3333333333333333,
              "#9c179e"
             ],
             [
              0.4444444444444444,
              "#bd3786"
             ],
             [
              0.5555555555555556,
              "#d8576b"
             ],
             [
              0.6666666666666666,
              "#ed7953"
             ],
             [
              0.7777777777777778,
              "#fb9f3a"
             ],
             [
              0.8888888888888888,
              "#fdca26"
             ],
             [
              1,
              "#f0f921"
             ]
            ],
            "type": "surface"
           }
          ],
          "table": [
           {
            "cells": {
             "fill": {
              "color": "#EBF0F8"
             },
             "line": {
              "color": "white"
             }
            },
            "header": {
             "fill": {
              "color": "#C8D4E3"
             },
             "line": {
              "color": "white"
             }
            },
            "type": "table"
           }
          ]
         },
         "layout": {
          "annotationdefaults": {
           "arrowcolor": "#2a3f5f",
           "arrowhead": 0,
           "arrowwidth": 1
          },
          "autotypenumbers": "strict",
          "coloraxis": {
           "colorbar": {
            "outlinewidth": 0,
            "ticks": ""
           }
          },
          "colorscale": {
           "diverging": [
            [
             0,
             "#8e0152"
            ],
            [
             0.1,
             "#c51b7d"
            ],
            [
             0.2,
             "#de77ae"
            ],
            [
             0.3,
             "#f1b6da"
            ],
            [
             0.4,
             "#fde0ef"
            ],
            [
             0.5,
             "#f7f7f7"
            ],
            [
             0.6,
             "#e6f5d0"
            ],
            [
             0.7,
             "#b8e186"
            ],
            [
             0.8,
             "#7fbc41"
            ],
            [
             0.9,
             "#4d9221"
            ],
            [
             1,
             "#276419"
            ]
           ],
           "sequential": [
            [
             0,
             "#0d0887"
            ],
            [
             0.1111111111111111,
             "#46039f"
            ],
            [
             0.2222222222222222,
             "#7201a8"
            ],
            [
             0.3333333333333333,
             "#9c179e"
            ],
            [
             0.4444444444444444,
             "#bd3786"
            ],
            [
             0.5555555555555556,
             "#d8576b"
            ],
            [
             0.6666666666666666,
             "#ed7953"
            ],
            [
             0.7777777777777778,
             "#fb9f3a"
            ],
            [
             0.8888888888888888,
             "#fdca26"
            ],
            [
             1,
             "#f0f921"
            ]
           ],
           "sequentialminus": [
            [
             0,
             "#0d0887"
            ],
            [
             0.1111111111111111,
             "#46039f"
            ],
            [
             0.2222222222222222,
             "#7201a8"
            ],
            [
             0.3333333333333333,
             "#9c179e"
            ],
            [
             0.4444444444444444,
             "#bd3786"
            ],
            [
             0.5555555555555556,
             "#d8576b"
            ],
            [
             0.6666666666666666,
             "#ed7953"
            ],
            [
             0.7777777777777778,
             "#fb9f3a"
            ],
            [
             0.8888888888888888,
             "#fdca26"
            ],
            [
             1,
             "#f0f921"
            ]
           ]
          },
          "colorway": [
           "#636efa",
           "#EF553B",
           "#00cc96",
           "#ab63fa",
           "#FFA15A",
           "#19d3f3",
           "#FF6692",
           "#B6E880",
           "#FF97FF",
           "#FECB52"
          ],
          "font": {
           "color": "#2a3f5f"
          },
          "geo": {
           "bgcolor": "white",
           "lakecolor": "white",
           "landcolor": "#E5ECF6",
           "showlakes": true,
           "showland": true,
           "subunitcolor": "white"
          },
          "hoverlabel": {
           "align": "left"
          },
          "hovermode": "closest",
          "mapbox": {
           "style": "light"
          },
          "paper_bgcolor": "white",
          "plot_bgcolor": "#E5ECF6",
          "polar": {
           "angularaxis": {
            "gridcolor": "white",
            "linecolor": "white",
            "ticks": ""
           },
           "bgcolor": "#E5ECF6",
           "radialaxis": {
            "gridcolor": "white",
            "linecolor": "white",
            "ticks": ""
           }
          },
          "scene": {
           "xaxis": {
            "backgroundcolor": "#E5ECF6",
            "gridcolor": "white",
            "gridwidth": 2,
            "linecolor": "white",
            "showbackground": true,
            "ticks": "",
            "zerolinecolor": "white"
           },
           "yaxis": {
            "backgroundcolor": "#E5ECF6",
            "gridcolor": "white",
            "gridwidth": 2,
            "linecolor": "white",
            "showbackground": true,
            "ticks": "",
            "zerolinecolor": "white"
           },
           "zaxis": {
            "backgroundcolor": "#E5ECF6",
            "gridcolor": "white",
            "gridwidth": 2,
            "linecolor": "white",
            "showbackground": true,
            "ticks": "",
            "zerolinecolor": "white"
           }
          },
          "shapedefaults": {
           "line": {
            "color": "#2a3f5f"
           }
          },
          "ternary": {
           "aaxis": {
            "gridcolor": "white",
            "linecolor": "white",
            "ticks": ""
           },
           "baxis": {
            "gridcolor": "white",
            "linecolor": "white",
            "ticks": ""
           },
           "bgcolor": "#E5ECF6",
           "caxis": {
            "gridcolor": "white",
            "linecolor": "white",
            "ticks": ""
           }
          },
          "title": {
           "x": 0.05
          },
          "xaxis": {
           "automargin": true,
           "gridcolor": "white",
           "linecolor": "white",
           "ticks": "",
           "title": {
            "standoff": 15
           },
           "zerolinecolor": "white",
           "zerolinewidth": 2
          },
          "yaxis": {
           "automargin": true,
           "gridcolor": "white",
           "linecolor": "white",
           "ticks": "",
           "title": {
            "standoff": 15
           },
           "zerolinecolor": "white",
           "zerolinewidth": 2
          }
         }
        },
        "title": {
         "text": "Neural Network Architecture Visualization"
        },
        "width": 1200,
        "xaxis": {
         "range": [
          -100,
          500
         ],
         "showgrid": false,
         "showticklabels": false,
         "zeroline": false
        },
        "yaxis": {
         "scaleanchor": "x",
         "scaleratio": 1,
         "showgrid": false,
         "showticklabels": false,
         "zeroline": false
        }
       }
      }
     },
     "metadata": {},
     "output_type": "display_data"
    }
   ],
   "source": [
    "model.fit(input_data, target_data)\n",
    "model.show_graph()"
   ]
  },
  {
   "cell_type": "code",
   "execution_count": 6,
   "metadata": {},
   "outputs": [],
   "source": [
    "from sklearn.datasets import fetch_openml\n",
    "from sklearn.model_selection import train_test_split\n",
    "import warnings "
   ]
  },
  {
   "cell_type": "code",
   "execution_count": 7,
   "metadata": {},
   "outputs": [],
   "source": [
    "# warnings.filterwarnings('ignore') "
   ]
  },
  {
   "cell_type": "code",
   "execution_count": 8,
   "metadata": {},
   "outputs": [],
   "source": [
    "X, y = fetch_openml(\"mnist_784\", version=1, return_X_y=True, as_frame=False)\n",
    "y = np.eye(10)[y.astype(int)]"
   ]
  },
  {
   "cell_type": "code",
   "execution_count": 9,
   "metadata": {},
   "outputs": [
    {
     "name": "stdout",
     "output_type": "stream",
     "text": [
      "(21000, 784) (49000, 784)\n"
     ]
    }
   ],
   "source": [
    "X_train, X_test, y_train, y_test = train_test_split(X, y, random_state=0, test_size=0.7)\n",
    "print(X_train.shape, X_test.shape)"
   ]
  },
  {
   "cell_type": "code",
   "execution_count": 10,
   "metadata": {},
   "outputs": [],
   "source": [
    "layer_sizes = [784, 256, 128, 10]\n",
    "# layer_sizes = [784, 50, 10]\n",
    "# layer_sizes = [784, 10]\n",
    "\n",
    "activation_functions = [\n",
    "    ActivationFunction.RELU,\n",
    "    ActivationFunction.RELU,\n",
    "    ActivationFunction.SOFTMAX,\n",
    "]\n",
    "\n",
    "loss_function = LossFunction.CATEGORICAL_CROSS_ENTROPY\n",
    "\n",
    "weights_setup = [\n",
    "    # WeightsSetup(initializer=WeightInitializer.ZERO),\n",
    "    # WeightsSetup(initializer=WeightInitializer.ZERO),\n",
    "    WeightsSetup(WeightInitializer.XAVIER, seed=42),\n",
    "    WeightsSetup(WeightInitializer.XAVIER, seed=42),\n",
    "    WeightsSetup(WeightInitializer.XAVIER, seed=42),\n",
    "    # WeightsSetup(WeightInitializer.NORMAL, mean=0, variance=1, seed=42),\n",
    "    # WeightsSetup(WeightInitializer.NORMAL, mean=0, variance=1, seed=42),\n",
    "    # WeightsSetup(WeightInitializer.NORMAL, mean=0, variance=1, seed=42),\n",
    "    # WeightsSetup(WeightInitializer.UNIFORM, lower_bound=0, upper_bound=1, seed=42),\n",
    "    # WeightsSetup(WeightInitializer.UNIFORM, lower_bound=0, upper_bound=1, seed=42),\n",
    "    # WeightsSetup(WeightInitializer.UNIFORM, lower_bound=0, upper_bound=1, seed=42),\n",
    "]\n",
    "\n",
    "model = FFNN(\n",
    "    layer_sizes=layer_sizes, \n",
    "    activation_functions=activation_functions, \n",
    "    loss_function=loss_function, \n",
    "    weights_setup=weights_setup,\n",
    "    # epochs=100,\n",
    "    verbose=True,\n",
    "    learning_rate=0.001,\n",
    "    # batch_size=256,\n",
    "    random_state=42,\n",
    "    # l1_lambda=0.0001,  # L1 regularization\n",
    "    # l2_lambda=0.0001,  # L2 regularization\n",
    ")"
   ]
  },
  {
   "cell_type": "code",
   "execution_count": 11,
   "metadata": {},
   "outputs": [
    {
     "name": "stderr",
     "output_type": "stream",
     "text": [
      "Training...:   1%|          | 1/100 [00:00<00:58,  1.69it/s]"
     ]
    },
    {
     "name": "stdout",
     "output_type": "stream",
     "text": [
      "Epoch 1 - Training Loss: 5.7988382490003385, Validation Loss: 2.309005763789581\n"
     ]
    },
    {
     "name": "stderr",
     "output_type": "stream",
     "text": [
      "Training...:   2%|▏         | 2/100 [00:01<00:56,  1.73it/s]"
     ]
    },
    {
     "name": "stdout",
     "output_type": "stream",
     "text": [
      "Epoch 2 - Training Loss: 2.30278759285331, Validation Loss: 2.301986812126215\n"
     ]
    },
    {
     "name": "stderr",
     "output_type": "stream",
     "text": [
      "Training...:   3%|▎         | 3/100 [00:01<00:54,  1.77it/s]"
     ]
    },
    {
     "name": "stdout",
     "output_type": "stream",
     "text": [
      "Epoch 3 - Training Loss: 2.3015054522121754, Validation Loss: 2.3023753091617656\n"
     ]
    },
    {
     "name": "stderr",
     "output_type": "stream",
     "text": [
      "Training...:   4%|▍         | 4/100 [00:02<00:55,  1.75it/s]"
     ]
    },
    {
     "name": "stdout",
     "output_type": "stream",
     "text": [
      "Epoch 4 - Training Loss: 2.3013469689785375, Validation Loss: 2.302832315714802\n"
     ]
    },
    {
     "name": "stderr",
     "output_type": "stream",
     "text": [
      "Training...:   5%|▌         | 5/100 [00:02<00:54,  1.75it/s]"
     ]
    },
    {
     "name": "stdout",
     "output_type": "stream",
     "text": [
      "Epoch 5 - Training Loss: 2.3018756392730437, Validation Loss: 2.300848441702658\n"
     ]
    },
    {
     "name": "stderr",
     "output_type": "stream",
     "text": [
      "Training...:   6%|▌         | 6/100 [00:03<00:54,  1.74it/s]"
     ]
    },
    {
     "name": "stdout",
     "output_type": "stream",
     "text": [
      "Epoch 6 - Training Loss: 2.301814346012551, Validation Loss: 2.301053016120278\n"
     ]
    },
    {
     "name": "stderr",
     "output_type": "stream",
     "text": [
      "Training...:   7%|▋         | 7/100 [00:04<00:53,  1.74it/s]"
     ]
    },
    {
     "name": "stdout",
     "output_type": "stream",
     "text": [
      "Epoch 7 - Training Loss: 2.3017720749440365, Validation Loss: 2.301248249267737\n"
     ]
    },
    {
     "name": "stderr",
     "output_type": "stream",
     "text": [
      "Training...:   8%|▊         | 8/100 [00:04<00:52,  1.75it/s]"
     ]
    },
    {
     "name": "stdout",
     "output_type": "stream",
     "text": [
      "Epoch 8 - Training Loss: 2.301531884190377, Validation Loss: 2.302342644295795\n"
     ]
    },
    {
     "name": "stderr",
     "output_type": "stream",
     "text": [
      "Training...:   9%|▉         | 9/100 [00:05<00:52,  1.75it/s]"
     ]
    },
    {
     "name": "stdout",
     "output_type": "stream",
     "text": [
      "Epoch 9 - Training Loss: 2.301657336219182, Validation Loss: 2.3022709699131925\n"
     ]
    },
    {
     "name": "stderr",
     "output_type": "stream",
     "text": [
      "Training...:  10%|█         | 10/100 [00:05<00:51,  1.75it/s]"
     ]
    },
    {
     "name": "stdout",
     "output_type": "stream",
     "text": [
      "Epoch 10 - Training Loss: 2.3020180768657963, Validation Loss: 2.3007442884618428\n"
     ]
    },
    {
     "name": "stderr",
     "output_type": "stream",
     "text": [
      "Training...:  11%|█         | 11/100 [00:06<00:51,  1.71it/s]"
     ]
    },
    {
     "name": "stdout",
     "output_type": "stream",
     "text": [
      "Epoch 11 - Training Loss: 2.301392272206255, Validation Loss: 2.3029474712244737\n"
     ]
    },
    {
     "name": "stderr",
     "output_type": "stream",
     "text": [
      "Training...:  12%|█▏        | 12/100 [00:06<00:51,  1.70it/s]"
     ]
    },
    {
     "name": "stdout",
     "output_type": "stream",
     "text": [
      "Epoch 12 - Training Loss: 2.301576969923729, Validation Loss: 2.302263751249773\n"
     ]
    },
    {
     "name": "stderr",
     "output_type": "stream",
     "text": [
      "Training...:  13%|█▎        | 13/100 [00:07<00:50,  1.72it/s]"
     ]
    },
    {
     "name": "stdout",
     "output_type": "stream",
     "text": [
      "Epoch 13 - Training Loss: 2.3017018137278638, Validation Loss: 2.301831985111676\n"
     ]
    },
    {
     "name": "stderr",
     "output_type": "stream",
     "text": [
      "Training...:  14%|█▍        | 14/100 [00:08<00:49,  1.73it/s]"
     ]
    },
    {
     "name": "stdout",
     "output_type": "stream",
     "text": [
      "Epoch 14 - Training Loss: 2.3015771980088386, Validation Loss: 2.3018621043936216\n"
     ]
    },
    {
     "name": "stderr",
     "output_type": "stream",
     "text": [
      "Training...:  15%|█▌        | 15/100 [00:08<00:49,  1.71it/s]"
     ]
    },
    {
     "name": "stdout",
     "output_type": "stream",
     "text": [
      "Epoch 15 - Training Loss: 2.3018711523413, Validation Loss: 2.301251534369132\n"
     ]
    },
    {
     "name": "stderr",
     "output_type": "stream",
     "text": [
      "Training...:  16%|█▌        | 16/100 [00:09<00:50,  1.67it/s]"
     ]
    },
    {
     "name": "stdout",
     "output_type": "stream",
     "text": [
      "Epoch 16 - Training Loss: 2.301827712097796, Validation Loss: 2.3012780204768375\n"
     ]
    },
    {
     "name": "stderr",
     "output_type": "stream",
     "text": [
      "Training...:  17%|█▋        | 17/100 [00:09<00:50,  1.66it/s]"
     ]
    },
    {
     "name": "stdout",
     "output_type": "stream",
     "text": [
      "Epoch 17 - Training Loss: 2.301543005926082, Validation Loss: 2.302442085588326\n"
     ]
    },
    {
     "name": "stderr",
     "output_type": "stream",
     "text": [
      "Training...:  18%|█▊        | 18/100 [00:10<00:48,  1.68it/s]"
     ]
    },
    {
     "name": "stdout",
     "output_type": "stream",
     "text": [
      "Epoch 18 - Training Loss: 2.3016993073240157, Validation Loss: 2.3017789763015832\n"
     ]
    },
    {
     "name": "stderr",
     "output_type": "stream",
     "text": [
      "Training...:  19%|█▉        | 19/100 [00:11<00:48,  1.67it/s]"
     ]
    },
    {
     "name": "stdout",
     "output_type": "stream",
     "text": [
      "Epoch 19 - Training Loss: 2.301858363362012, Validation Loss: 2.300978221042922\n"
     ]
    },
    {
     "name": "stderr",
     "output_type": "stream",
     "text": [
      "Training...:  20%|██        | 20/100 [00:11<00:48,  1.66it/s]"
     ]
    },
    {
     "name": "stdout",
     "output_type": "stream",
     "text": [
      "Epoch 20 - Training Loss: 2.3016802657618887, Validation Loss: 2.301300979611053\n"
     ]
    },
    {
     "name": "stderr",
     "output_type": "stream",
     "text": [
      "Training...:  21%|██        | 21/100 [00:12<00:46,  1.68it/s]"
     ]
    },
    {
     "name": "stdout",
     "output_type": "stream",
     "text": [
      "Epoch 21 - Training Loss: 2.301617825094855, Validation Loss: 2.3017037509204017\n"
     ]
    },
    {
     "name": "stderr",
     "output_type": "stream",
     "text": [
      "Training...:  22%|██▏       | 22/100 [00:12<00:47,  1.64it/s]"
     ]
    },
    {
     "name": "stdout",
     "output_type": "stream",
     "text": [
      "Epoch 22 - Training Loss: 2.3016620631955895, Validation Loss: 2.3016486896137067\n"
     ]
    },
    {
     "name": "stderr",
     "output_type": "stream",
     "text": [
      "Training...:  23%|██▎       | 23/100 [00:13<00:46,  1.67it/s]"
     ]
    },
    {
     "name": "stdout",
     "output_type": "stream",
     "text": [
      "Epoch 23 - Training Loss: 2.301729147397555, Validation Loss: 2.301239044594925\n"
     ]
    },
    {
     "name": "stderr",
     "output_type": "stream",
     "text": [
      "Training...:  24%|██▍       | 24/100 [00:14<00:43,  1.74it/s]"
     ]
    },
    {
     "name": "stdout",
     "output_type": "stream",
     "text": [
      "Epoch 24 - Training Loss: 2.301852161071679, Validation Loss: 2.3006513431443874\n"
     ]
    },
    {
     "name": "stderr",
     "output_type": "stream",
     "text": [
      "Training...:  25%|██▌       | 25/100 [00:14<00:42,  1.77it/s]"
     ]
    },
    {
     "name": "stdout",
     "output_type": "stream",
     "text": [
      "Epoch 25 - Training Loss: 2.3015150249570016, Validation Loss: 2.3020792486081856\n"
     ]
    },
    {
     "name": "stderr",
     "output_type": "stream",
     "text": [
      "Training...:  26%|██▌       | 26/100 [00:15<00:42,  1.76it/s]"
     ]
    },
    {
     "name": "stdout",
     "output_type": "stream",
     "text": [
      "Epoch 26 - Training Loss: 2.301912548442304, Validation Loss: 2.300567458291033\n"
     ]
    },
    {
     "name": "stderr",
     "output_type": "stream",
     "text": [
      "Training...:  27%|██▋       | 27/100 [00:15<00:40,  1.79it/s]"
     ]
    },
    {
     "name": "stdout",
     "output_type": "stream",
     "text": [
      "Epoch 27 - Training Loss: 2.301349585249136, Validation Loss: 2.302905153915237\n"
     ]
    },
    {
     "name": "stderr",
     "output_type": "stream",
     "text": [
      "Training...:  28%|██▊       | 28/100 [00:16<00:40,  1.78it/s]"
     ]
    },
    {
     "name": "stdout",
     "output_type": "stream",
     "text": [
      "Epoch 28 - Training Loss: 2.3017589114492667, Validation Loss: 2.300970261090561\n"
     ]
    },
    {
     "name": "stderr",
     "output_type": "stream",
     "text": [
      "Training...:  29%|██▉       | 29/100 [00:16<00:39,  1.80it/s]"
     ]
    },
    {
     "name": "stdout",
     "output_type": "stream",
     "text": [
      "Epoch 29 - Training Loss: 2.301694544263121, Validation Loss: 2.3012366775444235\n"
     ]
    },
    {
     "name": "stderr",
     "output_type": "stream",
     "text": [
      "Training...:  30%|███       | 30/100 [00:17<00:39,  1.78it/s]"
     ]
    },
    {
     "name": "stdout",
     "output_type": "stream",
     "text": [
      "Epoch 30 - Training Loss: 2.301668522248255, Validation Loss: 2.3013918886284195\n"
     ]
    },
    {
     "name": "stderr",
     "output_type": "stream",
     "text": [
      "Training...:  31%|███       | 31/100 [00:17<00:39,  1.76it/s]"
     ]
    },
    {
     "name": "stdout",
     "output_type": "stream",
     "text": [
      "Epoch 31 - Training Loss: 2.301474310649567, Validation Loss: 2.301927141438654\n"
     ]
    },
    {
     "name": "stderr",
     "output_type": "stream",
     "text": [
      "Training...:  32%|███▏      | 32/100 [00:18<00:38,  1.78it/s]"
     ]
    },
    {
     "name": "stdout",
     "output_type": "stream",
     "text": [
      "Epoch 32 - Training Loss: 2.301807881647192, Validation Loss: 2.301051408951922\n"
     ]
    },
    {
     "name": "stderr",
     "output_type": "stream",
     "text": [
      "Training...:  33%|███▎      | 33/100 [00:19<00:38,  1.76it/s]"
     ]
    },
    {
     "name": "stdout",
     "output_type": "stream",
     "text": [
      "Epoch 33 - Training Loss: 2.3015600496926676, Validation Loss: 2.3018229517269226\n"
     ]
    },
    {
     "name": "stderr",
     "output_type": "stream",
     "text": [
      "Training...:  34%|███▍      | 34/100 [00:19<00:37,  1.76it/s]"
     ]
    },
    {
     "name": "stdout",
     "output_type": "stream",
     "text": [
      "Epoch 34 - Training Loss: 2.3015056339003, Validation Loss: 2.3019894374726015\n"
     ]
    },
    {
     "name": "stderr",
     "output_type": "stream",
     "text": [
      "Training...:  35%|███▌      | 35/100 [00:20<00:37,  1.73it/s]"
     ]
    },
    {
     "name": "stdout",
     "output_type": "stream",
     "text": [
      "Epoch 35 - Training Loss: 2.301720301598244, Validation Loss: 2.301003363594956\n"
     ]
    },
    {
     "name": "stderr",
     "output_type": "stream",
     "text": [
      "Training...:  36%|███▌      | 36/100 [00:20<00:35,  1.82it/s]"
     ]
    },
    {
     "name": "stdout",
     "output_type": "stream",
     "text": [
      "Epoch 36 - Training Loss: 2.3011959743829618, Validation Loss: 2.3035342945117154\n"
     ]
    },
    {
     "name": "stderr",
     "output_type": "stream",
     "text": [
      "Training...:  37%|███▋      | 37/100 [00:21<00:34,  1.83it/s]"
     ]
    },
    {
     "name": "stdout",
     "output_type": "stream",
     "text": [
      "Epoch 37 - Training Loss: 2.301412437184056, Validation Loss: 2.302785855642611\n"
     ]
    },
    {
     "name": "stderr",
     "output_type": "stream",
     "text": [
      "Training...:  38%|███▊      | 38/100 [00:21<00:33,  1.85it/s]"
     ]
    },
    {
     "name": "stdout",
     "output_type": "stream",
     "text": [
      "Epoch 38 - Training Loss: 2.301936787144537, Validation Loss: 2.3007516743971954\n"
     ]
    },
    {
     "name": "stderr",
     "output_type": "stream",
     "text": [
      "Training...:  39%|███▉      | 39/100 [00:22<00:41,  1.48it/s]"
     ]
    },
    {
     "name": "stdout",
     "output_type": "stream",
     "text": [
      "Epoch 39 - Training Loss: 2.3018007161151086, Validation Loss: 2.3013470432308036\n"
     ]
    },
    {
     "name": "stderr",
     "output_type": "stream",
     "text": [
      "Training...:  40%|████      | 40/100 [00:23<00:47,  1.26it/s]"
     ]
    },
    {
     "name": "stdout",
     "output_type": "stream",
     "text": [
      "Epoch 40 - Training Loss: 2.301411354815343, Validation Loss: 2.302853880192662\n"
     ]
    },
    {
     "name": "stderr",
     "output_type": "stream",
     "text": [
      "Training...:  41%|████      | 41/100 [00:25<00:54,  1.08it/s]"
     ]
    },
    {
     "name": "stdout",
     "output_type": "stream",
     "text": [
      "Epoch 41 - Training Loss: 2.301504645126025, Validation Loss: 2.30246418164631\n"
     ]
    },
    {
     "name": "stderr",
     "output_type": "stream",
     "text": [
      "Training...:  42%|████▏     | 42/100 [00:25<00:52,  1.10it/s]"
     ]
    },
    {
     "name": "stdout",
     "output_type": "stream",
     "text": [
      "Epoch 42 - Training Loss: 2.301752295271943, Validation Loss: 2.3013098201340165\n"
     ]
    },
    {
     "name": "stderr",
     "output_type": "stream",
     "text": [
      "Training...:  43%|████▎     | 43/100 [00:26<00:53,  1.06it/s]"
     ]
    },
    {
     "name": "stdout",
     "output_type": "stream",
     "text": [
      "Epoch 43 - Training Loss: 2.3018377308170304, Validation Loss: 2.3013864828435917\n"
     ]
    },
    {
     "name": "stderr",
     "output_type": "stream",
     "text": [
      "Training...:  44%|████▍     | 44/100 [00:28<00:57,  1.03s/it]"
     ]
    },
    {
     "name": "stdout",
     "output_type": "stream",
     "text": [
      "Epoch 44 - Training Loss: 2.3013366527956087, Validation Loss: 2.303504338993626\n"
     ]
    },
    {
     "name": "stderr",
     "output_type": "stream",
     "text": [
      "Training...:  45%|████▌     | 45/100 [00:29<00:55,  1.02s/it]"
     ]
    },
    {
     "name": "stdout",
     "output_type": "stream",
     "text": [
      "Epoch 45 - Training Loss: 2.3016366548125986, Validation Loss: 2.3018204904812194\n"
     ]
    },
    {
     "name": "stderr",
     "output_type": "stream",
     "text": [
      "Training...:  46%|████▌     | 46/100 [00:30<00:56,  1.05s/it]"
     ]
    },
    {
     "name": "stdout",
     "output_type": "stream",
     "text": [
      "Epoch 46 - Training Loss: 2.3018429812252834, Validation Loss: 2.3008256606324955\n"
     ]
    },
    {
     "name": "stderr",
     "output_type": "stream",
     "text": [
      "Training...:  47%|████▋     | 47/100 [00:31<00:56,  1.07s/it]"
     ]
    },
    {
     "name": "stdout",
     "output_type": "stream",
     "text": [
      "Epoch 47 - Training Loss: 2.3016770759366434, Validation Loss: 2.301594689453209\n"
     ]
    },
    {
     "name": "stderr",
     "output_type": "stream",
     "text": [
      "Training...:  48%|████▊     | 48/100 [00:32<00:56,  1.09s/it]"
     ]
    },
    {
     "name": "stdout",
     "output_type": "stream",
     "text": [
      "Epoch 48 - Training Loss: 2.3015329392669353, Validation Loss: 2.3026327005901273\n"
     ]
    },
    {
     "name": "stderr",
     "output_type": "stream",
     "text": [
      "Training...:  49%|████▉     | 49/100 [00:33<00:51,  1.01s/it]"
     ]
    },
    {
     "name": "stdout",
     "output_type": "stream",
     "text": [
      "Epoch 49 - Training Loss: 2.3018753793280986, Validation Loss: 2.301167867572998\n"
     ]
    },
    {
     "name": "stderr",
     "output_type": "stream",
     "text": [
      "Training...:  50%|█████     | 50/100 [00:33<00:44,  1.14it/s]"
     ]
    },
    {
     "name": "stdout",
     "output_type": "stream",
     "text": [
      "Epoch 50 - Training Loss: 2.301828186995108, Validation Loss: 2.300942060245406\n"
     ]
    },
    {
     "name": "stderr",
     "output_type": "stream",
     "text": [
      "Training...:  51%|█████     | 51/100 [00:34<00:38,  1.27it/s]"
     ]
    },
    {
     "name": "stdout",
     "output_type": "stream",
     "text": [
      "Epoch 51 - Training Loss: 2.3015135711243087, Validation Loss: 2.301986918244463\n"
     ]
    },
    {
     "name": "stderr",
     "output_type": "stream",
     "text": [
      "Training...:  52%|█████▏    | 52/100 [00:35<00:34,  1.38it/s]"
     ]
    },
    {
     "name": "stdout",
     "output_type": "stream",
     "text": [
      "Epoch 52 - Training Loss: 2.3015755656793795, Validation Loss: 2.3017748180508777\n"
     ]
    },
    {
     "name": "stderr",
     "output_type": "stream",
     "text": [
      "Training...:  53%|█████▎    | 53/100 [00:35<00:31,  1.49it/s]"
     ]
    },
    {
     "name": "stdout",
     "output_type": "stream",
     "text": [
      "Epoch 53 - Training Loss: 2.301590176767613, Validation Loss: 2.301935170311165\n"
     ]
    },
    {
     "name": "stderr",
     "output_type": "stream",
     "text": [
      "Training...:  54%|█████▍    | 54/100 [00:36<00:28,  1.59it/s]"
     ]
    },
    {
     "name": "stdout",
     "output_type": "stream",
     "text": [
      "Epoch 54 - Training Loss: 2.3017898493952593, Validation Loss: 2.3012606247256393\n"
     ]
    },
    {
     "name": "stderr",
     "output_type": "stream",
     "text": [
      "Training...:  55%|█████▌    | 55/100 [00:36<00:26,  1.70it/s]"
     ]
    },
    {
     "name": "stdout",
     "output_type": "stream",
     "text": [
      "Epoch 55 - Training Loss: 2.3014961772076172, Validation Loss: 2.3023048282052407\n"
     ]
    },
    {
     "name": "stderr",
     "output_type": "stream",
     "text": [
      "Training...:  56%|█████▌    | 56/100 [00:37<00:25,  1.70it/s]"
     ]
    },
    {
     "name": "stdout",
     "output_type": "stream",
     "text": [
      "Epoch 56 - Training Loss: 2.301622348136564, Validation Loss: 2.3015243355839825\n"
     ]
    },
    {
     "name": "stderr",
     "output_type": "stream",
     "text": [
      "Training...:  57%|█████▋    | 57/100 [00:37<00:26,  1.63it/s]"
     ]
    },
    {
     "name": "stdout",
     "output_type": "stream",
     "text": [
      "Epoch 57 - Training Loss: 2.3016806287085725, Validation Loss: 2.3014308187372414\n"
     ]
    },
    {
     "name": "stderr",
     "output_type": "stream",
     "text": [
      "Training...:  58%|█████▊    | 58/100 [00:38<00:25,  1.68it/s]"
     ]
    },
    {
     "name": "stdout",
     "output_type": "stream",
     "text": [
      "Epoch 58 - Training Loss: 2.301513040038918, Validation Loss: 2.301869643277138\n"
     ]
    },
    {
     "name": "stderr",
     "output_type": "stream",
     "text": [
      "Training...:  59%|█████▉    | 59/100 [00:39<00:23,  1.71it/s]"
     ]
    },
    {
     "name": "stdout",
     "output_type": "stream",
     "text": [
      "Epoch 59 - Training Loss: 2.30171470562087, Validation Loss: 2.30168922026974\n"
     ]
    },
    {
     "name": "stderr",
     "output_type": "stream",
     "text": [
      "Training...:  60%|██████    | 60/100 [00:39<00:23,  1.72it/s]"
     ]
    },
    {
     "name": "stdout",
     "output_type": "stream",
     "text": [
      "Epoch 60 - Training Loss: 2.3014538283686803, Validation Loss: 2.302067587509113\n"
     ]
    },
    {
     "name": "stderr",
     "output_type": "stream",
     "text": [
      "Training...:  61%|██████    | 61/100 [00:40<00:23,  1.63it/s]"
     ]
    },
    {
     "name": "stdout",
     "output_type": "stream",
     "text": [
      "Epoch 61 - Training Loss: 2.301818997997747, Validation Loss: 2.3010077406930565\n"
     ]
    },
    {
     "name": "stderr",
     "output_type": "stream",
     "text": [
      "Training...:  62%|██████▏   | 62/100 [00:41<00:31,  1.20it/s]"
     ]
    },
    {
     "name": "stdout",
     "output_type": "stream",
     "text": [
      "Epoch 62 - Training Loss: 2.3013743828095565, Validation Loss: 2.303205115418517\n"
     ]
    },
    {
     "name": "stderr",
     "output_type": "stream",
     "text": [
      "Training...:  63%|██████▎   | 63/100 [00:42<00:34,  1.07it/s]"
     ]
    },
    {
     "name": "stdout",
     "output_type": "stream",
     "text": [
      "Epoch 63 - Training Loss: 2.3018006632903876, Validation Loss: 2.300876506843393\n"
     ]
    },
    {
     "name": "stderr",
     "output_type": "stream",
     "text": [
      "Training...:  64%|██████▍   | 64/100 [00:44<00:36,  1.01s/it]"
     ]
    },
    {
     "name": "stdout",
     "output_type": "stream",
     "text": [
      "Epoch 64 - Training Loss: 2.3016236917343136, Validation Loss: 2.301637973998704\n"
     ]
    },
    {
     "name": "stderr",
     "output_type": "stream",
     "text": [
      "Training...:  65%|██████▌   | 65/100 [00:45<00:38,  1.10s/it]"
     ]
    },
    {
     "name": "stdout",
     "output_type": "stream",
     "text": [
      "Epoch 65 - Training Loss: 2.3017890208816896, Validation Loss: 2.301184860419182\n"
     ]
    },
    {
     "name": "stderr",
     "output_type": "stream",
     "text": [
      "Training...:  66%|██████▌   | 66/100 [00:46<00:38,  1.12s/it]"
     ]
    },
    {
     "name": "stdout",
     "output_type": "stream",
     "text": [
      "Epoch 66 - Training Loss: 2.301509344656553, Validation Loss: 2.3019138166277595\n"
     ]
    },
    {
     "name": "stderr",
     "output_type": "stream",
     "text": [
      "Training...:  67%|██████▋   | 67/100 [00:47<00:39,  1.20s/it]"
     ]
    },
    {
     "name": "stdout",
     "output_type": "stream",
     "text": [
      "Epoch 67 - Training Loss: 2.301755673541715, Validation Loss: 2.300898589768747\n"
     ]
    },
    {
     "name": "stderr",
     "output_type": "stream",
     "text": [
      "Training...:  68%|██████▊   | 68/100 [00:48<00:32,  1.01s/it]"
     ]
    },
    {
     "name": "stdout",
     "output_type": "stream",
     "text": [
      "Epoch 68 - Training Loss: 2.3013448283791957, Validation Loss: 2.3025538976343034\n"
     ]
    },
    {
     "name": "stderr",
     "output_type": "stream",
     "text": [
      "Training...:  69%|██████▉   | 69/100 [00:49<00:27,  1.15it/s]"
     ]
    },
    {
     "name": "stdout",
     "output_type": "stream",
     "text": [
      "Epoch 69 - Training Loss: 2.301595393827898, Validation Loss: 2.3016816204554087\n"
     ]
    },
    {
     "name": "stderr",
     "output_type": "stream",
     "text": [
      "Training...:  70%|███████   | 70/100 [00:49<00:23,  1.29it/s]"
     ]
    },
    {
     "name": "stdout",
     "output_type": "stream",
     "text": [
      "Epoch 70 - Training Loss: 2.301774050751002, Validation Loss: 2.3007550546878948\n"
     ]
    },
    {
     "name": "stderr",
     "output_type": "stream",
     "text": [
      "Training...:  71%|███████   | 71/100 [00:50<00:20,  1.43it/s]"
     ]
    },
    {
     "name": "stdout",
     "output_type": "stream",
     "text": [
      "Epoch 71 - Training Loss: 2.3018539853043496, Validation Loss: 2.3005814882143354\n"
     ]
    },
    {
     "name": "stderr",
     "output_type": "stream",
     "text": [
      "Training...:  72%|███████▏  | 72/100 [00:50<00:18,  1.49it/s]"
     ]
    },
    {
     "name": "stdout",
     "output_type": "stream",
     "text": [
      "Epoch 72 - Training Loss: 2.301610730327175, Validation Loss: 2.3014756585684304\n"
     ]
    },
    {
     "name": "stderr",
     "output_type": "stream",
     "text": [
      "Training...:  73%|███████▎  | 73/100 [00:51<00:17,  1.53it/s]"
     ]
    },
    {
     "name": "stdout",
     "output_type": "stream",
     "text": [
      "Epoch 73 - Training Loss: 2.3015442153907517, Validation Loss: 2.302114754955693\n"
     ]
    },
    {
     "name": "stderr",
     "output_type": "stream",
     "text": [
      "Training...:  74%|███████▍  | 74/100 [00:52<00:17,  1.48it/s]"
     ]
    },
    {
     "name": "stdout",
     "output_type": "stream",
     "text": [
      "Epoch 74 - Training Loss: 2.301647923457806, Validation Loss: 2.3015554986414797\n"
     ]
    },
    {
     "name": "stderr",
     "output_type": "stream",
     "text": [
      "Training...:  75%|███████▌  | 75/100 [00:52<00:16,  1.49it/s]"
     ]
    },
    {
     "name": "stdout",
     "output_type": "stream",
     "text": [
      "Epoch 75 - Training Loss: 2.3014001263293435, Validation Loss: 2.3024880814849604\n"
     ]
    },
    {
     "name": "stderr",
     "output_type": "stream",
     "text": [
      "Training...:  76%|███████▌  | 76/100 [00:53<00:15,  1.52it/s]"
     ]
    },
    {
     "name": "stdout",
     "output_type": "stream",
     "text": [
      "Epoch 76 - Training Loss: 2.301671283360402, Validation Loss: 2.301241480818668\n"
     ]
    },
    {
     "name": "stderr",
     "output_type": "stream",
     "text": [
      "Training...:  77%|███████▋  | 77/100 [00:53<00:14,  1.55it/s]"
     ]
    },
    {
     "name": "stdout",
     "output_type": "stream",
     "text": [
      "Epoch 77 - Training Loss: 2.3014817981801032, Validation Loss: 2.302330533912268\n"
     ]
    },
    {
     "name": "stderr",
     "output_type": "stream",
     "text": [
      "Training...:  78%|███████▊  | 78/100 [00:54<00:14,  1.57it/s]"
     ]
    },
    {
     "name": "stdout",
     "output_type": "stream",
     "text": [
      "Epoch 78 - Training Loss: 2.3016645313671007, Validation Loss: 2.3012768044847416\n"
     ]
    },
    {
     "name": "stderr",
     "output_type": "stream",
     "text": [
      "Training...:  79%|███████▉  | 79/100 [00:55<00:12,  1.62it/s]"
     ]
    },
    {
     "name": "stdout",
     "output_type": "stream",
     "text": [
      "Epoch 79 - Training Loss: 2.301994456026413, Validation Loss: 2.300500742813807\n"
     ]
    },
    {
     "name": "stderr",
     "output_type": "stream",
     "text": [
      "Training...:  80%|████████  | 80/100 [00:55<00:11,  1.67it/s]"
     ]
    },
    {
     "name": "stdout",
     "output_type": "stream",
     "text": [
      "Epoch 80 - Training Loss: 2.301538419284134, Validation Loss: 2.3021621691393164\n"
     ]
    },
    {
     "name": "stderr",
     "output_type": "stream",
     "text": [
      "Training...:  81%|████████  | 81/100 [00:56<00:11,  1.69it/s]"
     ]
    },
    {
     "name": "stdout",
     "output_type": "stream",
     "text": [
      "Epoch 81 - Training Loss: 2.3017137837400674, Validation Loss: 2.3013841608376233\n"
     ]
    },
    {
     "name": "stderr",
     "output_type": "stream",
     "text": [
      "Training...:  82%|████████▏ | 82/100 [00:56<00:10,  1.72it/s]"
     ]
    },
    {
     "name": "stdout",
     "output_type": "stream",
     "text": [
      "Epoch 82 - Training Loss: 2.30160655567703, Validation Loss: 2.3021641844657488\n"
     ]
    },
    {
     "name": "stderr",
     "output_type": "stream",
     "text": [
      "Training...:  83%|████████▎ | 83/100 [00:57<00:10,  1.70it/s]"
     ]
    },
    {
     "name": "stdout",
     "output_type": "stream",
     "text": [
      "Epoch 83 - Training Loss: 2.3014718917089763, Validation Loss: 2.302308830359385\n"
     ]
    },
    {
     "name": "stderr",
     "output_type": "stream",
     "text": [
      "Training...:  84%|████████▍ | 84/100 [00:58<00:09,  1.66it/s]"
     ]
    },
    {
     "name": "stdout",
     "output_type": "stream",
     "text": [
      "Epoch 84 - Training Loss: 2.3015916802393956, Validation Loss: 2.301966277365276\n"
     ]
    },
    {
     "name": "stderr",
     "output_type": "stream",
     "text": [
      "Training...:  85%|████████▌ | 85/100 [00:58<00:09,  1.64it/s]"
     ]
    },
    {
     "name": "stdout",
     "output_type": "stream",
     "text": [
      "Epoch 85 - Training Loss: 2.3016570017123574, Validation Loss: 2.3014628714335528\n"
     ]
    },
    {
     "name": "stderr",
     "output_type": "stream",
     "text": [
      "Training...:  86%|████████▌ | 86/100 [00:59<00:09,  1.53it/s]"
     ]
    },
    {
     "name": "stdout",
     "output_type": "stream",
     "text": [
      "Epoch 86 - Training Loss: 2.301519830661893, Validation Loss: 2.3025007905469965\n"
     ]
    },
    {
     "name": "stderr",
     "output_type": "stream",
     "text": [
      "Training...:  87%|████████▋ | 87/100 [01:00<00:08,  1.50it/s]"
     ]
    },
    {
     "name": "stdout",
     "output_type": "stream",
     "text": [
      "Epoch 87 - Training Loss: 2.3015443882182467, Validation Loss: 2.3021560701609483\n"
     ]
    },
    {
     "name": "stderr",
     "output_type": "stream",
     "text": [
      "Training...:  88%|████████▊ | 88/100 [01:00<00:07,  1.54it/s]"
     ]
    },
    {
     "name": "stdout",
     "output_type": "stream",
     "text": [
      "Epoch 88 - Training Loss: 2.301827974042376, Validation Loss: 2.300982752362471\n"
     ]
    },
    {
     "name": "stderr",
     "output_type": "stream",
     "text": [
      "Training...:  89%|████████▉ | 89/100 [01:01<00:07,  1.53it/s]"
     ]
    },
    {
     "name": "stdout",
     "output_type": "stream",
     "text": [
      "Epoch 89 - Training Loss: 2.3019595087513323, Validation Loss: 2.3006452426862687\n"
     ]
    },
    {
     "name": "stderr",
     "output_type": "stream",
     "text": [
      "Training...:  90%|█████████ | 90/100 [01:02<00:06,  1.53it/s]"
     ]
    },
    {
     "name": "stdout",
     "output_type": "stream",
     "text": [
      "Epoch 90 - Training Loss: 2.301821988993872, Validation Loss: 2.300770244613799\n"
     ]
    },
    {
     "name": "stderr",
     "output_type": "stream",
     "text": [
      "Training...:  91%|█████████ | 91/100 [01:02<00:05,  1.55it/s]"
     ]
    },
    {
     "name": "stdout",
     "output_type": "stream",
     "text": [
      "Epoch 91 - Training Loss: 2.301730083329555, Validation Loss: 2.3008272803196808\n"
     ]
    },
    {
     "name": "stderr",
     "output_type": "stream",
     "text": [
      "Training...:  92%|█████████▏| 92/100 [01:03<00:05,  1.54it/s]"
     ]
    },
    {
     "name": "stdout",
     "output_type": "stream",
     "text": [
      "Epoch 92 - Training Loss: 2.3018217633032676, Validation Loss: 2.3010121810726716\n"
     ]
    },
    {
     "name": "stderr",
     "output_type": "stream",
     "text": [
      "Training...:  93%|█████████▎| 93/100 [01:03<00:04,  1.58it/s]"
     ]
    },
    {
     "name": "stdout",
     "output_type": "stream",
     "text": [
      "Epoch 93 - Training Loss: 2.301809946086774, Validation Loss: 2.300673038904642\n"
     ]
    },
    {
     "name": "stderr",
     "output_type": "stream",
     "text": [
      "Training...:  94%|█████████▍| 94/100 [01:04<00:03,  1.57it/s]"
     ]
    },
    {
     "name": "stdout",
     "output_type": "stream",
     "text": [
      "Epoch 94 - Training Loss: 2.301827846663279, Validation Loss: 2.300658744843274\n"
     ]
    },
    {
     "name": "stderr",
     "output_type": "stream",
     "text": [
      "Training...:  95%|█████████▌| 95/100 [01:05<00:03,  1.60it/s]"
     ]
    },
    {
     "name": "stdout",
     "output_type": "stream",
     "text": [
      "Epoch 95 - Training Loss: 2.3013658302754214, Validation Loss: 2.3026676213852535\n"
     ]
    },
    {
     "name": "stderr",
     "output_type": "stream",
     "text": [
      "Training...:  96%|█████████▌| 96/100 [01:05<00:02,  1.63it/s]"
     ]
    },
    {
     "name": "stdout",
     "output_type": "stream",
     "text": [
      "Epoch 96 - Training Loss: 2.301797214886001, Validation Loss: 2.301205404986302\n"
     ]
    },
    {
     "name": "stderr",
     "output_type": "stream",
     "text": [
      "Training...:  97%|█████████▋| 97/100 [01:06<00:01,  1.63it/s]"
     ]
    },
    {
     "name": "stdout",
     "output_type": "stream",
     "text": [
      "Epoch 97 - Training Loss: 2.30156539679041, Validation Loss: 2.301530199548625\n"
     ]
    },
    {
     "name": "stderr",
     "output_type": "stream",
     "text": [
      "Training...:  98%|█████████▊| 98/100 [01:06<00:01,  1.65it/s]"
     ]
    },
    {
     "name": "stdout",
     "output_type": "stream",
     "text": [
      "Epoch 98 - Training Loss: 2.3015384859590653, Validation Loss: 2.3022025107812425\n"
     ]
    },
    {
     "name": "stderr",
     "output_type": "stream",
     "text": [
      "Training...:  99%|█████████▉| 99/100 [01:07<00:00,  1.66it/s]"
     ]
    },
    {
     "name": "stdout",
     "output_type": "stream",
     "text": [
      "Epoch 99 - Training Loss: 2.301773126488646, Validation Loss: 2.301301018107085\n"
     ]
    },
    {
     "name": "stderr",
     "output_type": "stream",
     "text": [
      "Training...: 100%|██████████| 100/100 [01:08<00:00,  1.47it/s]"
     ]
    },
    {
     "name": "stdout",
     "output_type": "stream",
     "text": [
      "Epoch 100 - Training Loss: 2.30162341187543, Validation Loss: 2.3018496685621077\n"
     ]
    },
    {
     "name": "stderr",
     "output_type": "stream",
     "text": [
      "\n"
     ]
    }
   ],
   "source": [
    "model.fit(X_train, y_train)"
   ]
  },
  {
   "cell_type": "code",
   "execution_count": 12,
   "metadata": {},
   "outputs": [
    {
     "name": "stdout",
     "output_type": "stream",
     "text": [
      "Accuracy: 11.31%\n"
     ]
    }
   ],
   "source": [
    "y_pred = model.predict(X_test)\n",
    "y_true = y_test\n",
    "\n",
    "accuracy = np.mean(np.argmax(y_pred, axis=1) == np.argmax(y_true, axis=1))\n",
    "\n",
    "print(f\"Accuracy: {accuracy * 100:.2f}%\")"
   ]
  },
  {
   "cell_type": "code",
   "execution_count": 13,
   "metadata": {},
   "outputs": [],
   "source": [
    "import pandas as pd"
   ]
  },
  {
   "cell_type": "code",
   "execution_count": 14,
   "metadata": {},
   "outputs": [
    {
     "data": {
      "text/html": [
       "<div>\n",
       "<style scoped>\n",
       "    .dataframe tbody tr th:only-of-type {\n",
       "        vertical-align: middle;\n",
       "    }\n",
       "\n",
       "    .dataframe tbody tr th {\n",
       "        vertical-align: top;\n",
       "    }\n",
       "\n",
       "    .dataframe thead th {\n",
       "        text-align: right;\n",
       "    }\n",
       "</style>\n",
       "<table border=\"1\" class=\"dataframe\">\n",
       "  <thead>\n",
       "    <tr style=\"text-align: right;\">\n",
       "      <th></th>\n",
       "      <th>0</th>\n",
       "      <th>1</th>\n",
       "      <th>2</th>\n",
       "      <th>3</th>\n",
       "      <th>4</th>\n",
       "      <th>5</th>\n",
       "      <th>6</th>\n",
       "      <th>7</th>\n",
       "      <th>8</th>\n",
       "      <th>9</th>\n",
       "    </tr>\n",
       "  </thead>\n",
       "  <tbody>\n",
       "    <tr>\n",
       "      <th>0</th>\n",
       "      <td>0.096089</td>\n",
       "      <td>0.111311</td>\n",
       "      <td>0.100509</td>\n",
       "      <td>0.102608</td>\n",
       "      <td>0.098341</td>\n",
       "      <td>0.091938</td>\n",
       "      <td>0.100919</td>\n",
       "      <td>0.106092</td>\n",
       "      <td>0.095976</td>\n",
       "      <td>0.096218</td>\n",
       "    </tr>\n",
       "    <tr>\n",
       "      <th>1</th>\n",
       "      <td>0.096089</td>\n",
       "      <td>0.111311</td>\n",
       "      <td>0.100509</td>\n",
       "      <td>0.102608</td>\n",
       "      <td>0.098341</td>\n",
       "      <td>0.091938</td>\n",
       "      <td>0.100919</td>\n",
       "      <td>0.106092</td>\n",
       "      <td>0.095976</td>\n",
       "      <td>0.096218</td>\n",
       "    </tr>\n",
       "    <tr>\n",
       "      <th>2</th>\n",
       "      <td>0.096089</td>\n",
       "      <td>0.111311</td>\n",
       "      <td>0.100509</td>\n",
       "      <td>0.102608</td>\n",
       "      <td>0.098341</td>\n",
       "      <td>0.091938</td>\n",
       "      <td>0.100919</td>\n",
       "      <td>0.106092</td>\n",
       "      <td>0.095976</td>\n",
       "      <td>0.096218</td>\n",
       "    </tr>\n",
       "    <tr>\n",
       "      <th>3</th>\n",
       "      <td>0.096089</td>\n",
       "      <td>0.111311</td>\n",
       "      <td>0.100509</td>\n",
       "      <td>0.102608</td>\n",
       "      <td>0.098341</td>\n",
       "      <td>0.091938</td>\n",
       "      <td>0.100919</td>\n",
       "      <td>0.106092</td>\n",
       "      <td>0.095976</td>\n",
       "      <td>0.096218</td>\n",
       "    </tr>\n",
       "    <tr>\n",
       "      <th>4</th>\n",
       "      <td>0.096089</td>\n",
       "      <td>0.111311</td>\n",
       "      <td>0.100509</td>\n",
       "      <td>0.102608</td>\n",
       "      <td>0.098341</td>\n",
       "      <td>0.091938</td>\n",
       "      <td>0.100919</td>\n",
       "      <td>0.106092</td>\n",
       "      <td>0.095976</td>\n",
       "      <td>0.096218</td>\n",
       "    </tr>\n",
       "  </tbody>\n",
       "</table>\n",
       "</div>"
      ],
      "text/plain": [
       "          0         1         2         3         4         5         6  \\\n",
       "0  0.096089  0.111311  0.100509  0.102608  0.098341  0.091938  0.100919   \n",
       "1  0.096089  0.111311  0.100509  0.102608  0.098341  0.091938  0.100919   \n",
       "2  0.096089  0.111311  0.100509  0.102608  0.098341  0.091938  0.100919   \n",
       "3  0.096089  0.111311  0.100509  0.102608  0.098341  0.091938  0.100919   \n",
       "4  0.096089  0.111311  0.100509  0.102608  0.098341  0.091938  0.100919   \n",
       "\n",
       "          7         8         9  \n",
       "0  0.106092  0.095976  0.096218  \n",
       "1  0.106092  0.095976  0.096218  \n",
       "2  0.106092  0.095976  0.096218  \n",
       "3  0.106092  0.095976  0.096218  \n",
       "4  0.106092  0.095976  0.096218  "
      ]
     },
     "execution_count": 14,
     "metadata": {},
     "output_type": "execute_result"
    }
   ],
   "source": [
    "y_pred_df = pd.DataFrame(y_pred)\n",
    "y_pred_df.head()"
   ]
  },
  {
   "cell_type": "code",
   "execution_count": 15,
   "metadata": {},
   "outputs": [
    {
     "data": {
      "text/html": [
       "<div>\n",
       "<style scoped>\n",
       "    .dataframe tbody tr th:only-of-type {\n",
       "        vertical-align: middle;\n",
       "    }\n",
       "\n",
       "    .dataframe tbody tr th {\n",
       "        vertical-align: top;\n",
       "    }\n",
       "\n",
       "    .dataframe thead th {\n",
       "        text-align: right;\n",
       "    }\n",
       "</style>\n",
       "<table border=\"1\" class=\"dataframe\">\n",
       "  <thead>\n",
       "    <tr style=\"text-align: right;\">\n",
       "      <th></th>\n",
       "      <th>0</th>\n",
       "      <th>1</th>\n",
       "      <th>2</th>\n",
       "      <th>3</th>\n",
       "      <th>4</th>\n",
       "      <th>5</th>\n",
       "      <th>6</th>\n",
       "      <th>7</th>\n",
       "      <th>8</th>\n",
       "      <th>9</th>\n",
       "    </tr>\n",
       "  </thead>\n",
       "  <tbody>\n",
       "    <tr>\n",
       "      <th>0</th>\n",
       "      <td>1.0</td>\n",
       "      <td>0.0</td>\n",
       "      <td>0.0</td>\n",
       "      <td>0.0</td>\n",
       "      <td>0.0</td>\n",
       "      <td>0.0</td>\n",
       "      <td>0.0</td>\n",
       "      <td>0.0</td>\n",
       "      <td>0.0</td>\n",
       "      <td>0.0</td>\n",
       "    </tr>\n",
       "    <tr>\n",
       "      <th>1</th>\n",
       "      <td>0.0</td>\n",
       "      <td>0.0</td>\n",
       "      <td>0.0</td>\n",
       "      <td>0.0</td>\n",
       "      <td>1.0</td>\n",
       "      <td>0.0</td>\n",
       "      <td>0.0</td>\n",
       "      <td>0.0</td>\n",
       "      <td>0.0</td>\n",
       "      <td>0.0</td>\n",
       "    </tr>\n",
       "    <tr>\n",
       "      <th>2</th>\n",
       "      <td>0.0</td>\n",
       "      <td>1.0</td>\n",
       "      <td>0.0</td>\n",
       "      <td>0.0</td>\n",
       "      <td>0.0</td>\n",
       "      <td>0.0</td>\n",
       "      <td>0.0</td>\n",
       "      <td>0.0</td>\n",
       "      <td>0.0</td>\n",
       "      <td>0.0</td>\n",
       "    </tr>\n",
       "    <tr>\n",
       "      <th>3</th>\n",
       "      <td>0.0</td>\n",
       "      <td>0.0</td>\n",
       "      <td>1.0</td>\n",
       "      <td>0.0</td>\n",
       "      <td>0.0</td>\n",
       "      <td>0.0</td>\n",
       "      <td>0.0</td>\n",
       "      <td>0.0</td>\n",
       "      <td>0.0</td>\n",
       "      <td>0.0</td>\n",
       "    </tr>\n",
       "    <tr>\n",
       "      <th>4</th>\n",
       "      <td>0.0</td>\n",
       "      <td>0.0</td>\n",
       "      <td>0.0</td>\n",
       "      <td>0.0</td>\n",
       "      <td>0.0</td>\n",
       "      <td>0.0</td>\n",
       "      <td>0.0</td>\n",
       "      <td>1.0</td>\n",
       "      <td>0.0</td>\n",
       "      <td>0.0</td>\n",
       "    </tr>\n",
       "  </tbody>\n",
       "</table>\n",
       "</div>"
      ],
      "text/plain": [
       "     0    1    2    3    4    5    6    7    8    9\n",
       "0  1.0  0.0  0.0  0.0  0.0  0.0  0.0  0.0  0.0  0.0\n",
       "1  0.0  0.0  0.0  0.0  1.0  0.0  0.0  0.0  0.0  0.0\n",
       "2  0.0  1.0  0.0  0.0  0.0  0.0  0.0  0.0  0.0  0.0\n",
       "3  0.0  0.0  1.0  0.0  0.0  0.0  0.0  0.0  0.0  0.0\n",
       "4  0.0  0.0  0.0  0.0  0.0  0.0  0.0  1.0  0.0  0.0"
      ]
     },
     "execution_count": 15,
     "metadata": {},
     "output_type": "execute_result"
    }
   ],
   "source": [
    "y_true_df = pd.DataFrame(y_true)\n",
    "y_true_df.head()"
   ]
  },
  {
   "cell_type": "code",
   "execution_count": 16,
   "metadata": {},
   "outputs": [
    {
     "data": {
      "image/png": "[encoded data removed]",
      "text/plain": [
       "<Figure size 800x600 with 1 Axes>"
      ]
     },
     "metadata": {},
     "output_type": "display_data"
    },
    {
     "data": {
      "image/png": "[encoded data removed]",
      "text/plain": [
       "<Figure size 800x600 with 1 Axes>"
      ]
     },
     "metadata": {},
     "output_type": "display_data"
    },
    {
     "data": {
      "image/png": "[encoded data removed]",
      "text/plain": [
       "<Figure size 800x600 with 1 Axes>"
      ]
     },
     "metadata": {},
     "output_type": "display_data"
    },
    {
     "data": {
      "image/png": "[encoded data removed]",
      "text/plain": [
       "<Figure size 800x600 with 1 Axes>"
      ]
     },
     "metadata": {},
     "output_type": "display_data"
    },
    {
     "data": {
      "image/png": "[encoded data removed]",
      "text/plain": [
       "<Figure size 800x600 with 1 Axes>"
      ]
     },
     "metadata": {},
     "output_type": "display_data"
    },
    {
     "data": {
      "image/png": "[encoded data removed]",
      "text/plain": [
       "<Figure size 800x600 with 1 Axes>"
      ]
     },
     "metadata": {},
     "output_type": "display_data"
    }
   ],
   "source": [
    "model.plot_weights([i for i in range(len(layer_sizes) - 1)])"
   ]
  },
  {
   "cell_type": "code",
   "execution_count": 17,
   "metadata": {},
   "outputs": [
    {
     "data": {
      "image/png": "[encoded data removed]",
      "text/plain": [
       "<Figure size 800x600 with 1 Axes>"
      ]
     },
     "metadata": {},
     "output_type": "display_data"
    },
    {
     "data": {
      "image/png": "[encoded data removed]",
      "text/plain": [
       "<Figure size 800x600 with 1 Axes>"
      ]
     },
     "metadata": {},
     "output_type": "display_data"
    },
    {
     "data": {
      "image/png": "[encoded data removed]",
      "text/plain": [
       "<Figure size 800x600 with 1 Axes>"
      ]
     },
     "metadata": {},
     "output_type": "display_data"
    },
    {
     "data": {
      "image/png": "[encoded data removed]",
      "text/plain": [
       "<Figure size 800x600 with 1 Axes>"
      ]
     },
     "metadata": {},
     "output_type": "display_data"
    },
    {
     "data": {
      "image/png": "[encoded data removed]",
      "text/plain": [
       "<Figure size 800x600 with 1 Axes>"
      ]
     },
     "metadata": {},
     "output_type": "display_data"
    },
    {
     "data": {
      "image/png": "[encoded data removed]",
      "text/plain": [
       "<Figure size 800x600 with 1 Axes>"
      ]
     },
     "metadata": {},
     "output_type": "display_data"
    }
   ],
   "source": [
    "model.plot_gradients([i for i in range(len(layer_sizes) - 1)])"
   ]
  },
  {
   "cell_type": "code",
   "execution_count": 18,
   "metadata": {},
   "outputs": [
    {
     "data": {
      "image/png": "[encoded data removed]",
      "text/plain": [
       "<Figure size 1000x600 with 1 Axes>"
      ]
     },
     "metadata": {},
     "output_type": "display_data"
    },
    {
     "data": {
      "image/png": "[encoded data removed]",
      "text/plain": [
       "<Figure size 1000x600 with 1 Axes>"
      ]
     },
     "metadata": {},
     "output_type": "display_data"
    }
   ],
   "source": [
    "model.plot_loss_curve()"
   ]
  },
  {
   "cell_type": "code",
   "execution_count": 19,
   "metadata": {},
   "outputs": [],
   "source": [
    "model.save_model(\"../../models/ffnn_model.pkl\")"
   ]
  },
  {
   "cell_type": "code",
   "execution_count": 20,
   "metadata": {},
   "outputs": [
    {
     "name": "stdout",
     "output_type": "stream",
     "text": [
      "Accuracy: 11.31%\n"
     ]
    }
   ],
   "source": [
    "load = FFNN.load_model(\"../../models/ffnn_model.pkl\")\n",
    "y_pred = load.predict(X_test)\n",
    "y_true = y_test\n",
    "\n",
    "accuracy = np.mean(np.argmax(y_pred, axis=1) == np.argmax(y_true, axis=1))\n",
    "\n",
    "print(f\"Accuracy: {accuracy * 100:.2f}%\")"
   ]
  }
 ],
 "metadata": {
  "kernelspec": {
   "display_name": ".venv",
   "language": "python",
   "name": "python3"
  },
  "language_info": {
   "codemirror_mode": {
    "name": "ipython",
    "version": 3
   },
   "file_extension": ".py",
   "mimetype": "text/x-python",
   "name": "python",
   "nbconvert_exporter": "python",
   "pygments_lexer": "ipython3",
   "version": "3.12.0"
  }
 },
 "nbformat": 4,
 "nbformat_minor": 2
}
