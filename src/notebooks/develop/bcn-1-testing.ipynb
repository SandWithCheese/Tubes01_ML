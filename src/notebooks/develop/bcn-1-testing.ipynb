{
 "cells": [
  {
   "cell_type": "code",
   "execution_count": 349,
   "metadata": {},
   "outputs": [
    {
     "name": "stdout",
     "output_type": "stream",
     "text": [
      "Healthcheck\n"
     ]
    }
   ],
   "source": [
    "from ffnn.healthcheck import healthcheck\n",
    "healthcheck()"
   ]
  },
  {
   "cell_type": "code",
   "execution_count": 350,
   "metadata": {},
   "outputs": [],
   "source": [
    "from ffnn.ffnn import FFNN\n",
    "from ffnn.types import ActivationFunction, LossFunction, WeightInitializer, WeightsSetup\n",
    "import numpy as np"
   ]
  },
  {
   "cell_type": "code",
   "execution_count": 351,
   "metadata": {},
   "outputs": [],
   "source": [
    "# 2 node di input layer, 2 node di hidden layer, 2 node di output layer\n",
    "layer_sizes = [2, 2, 2]\n",
    "\n",
    "activation_functions = [\n",
    "    ActivationFunction.SIGMOID, \n",
    "    ActivationFunction.SOFTMAX\n",
    "]\n",
    "\n",
    "loss_function = LossFunction.MEAN_SQUARED_ERROR\n",
    "\n",
    "weights_setup = [\n",
    "    WeightsSetup(initializer=WeightInitializer.UNIFORM, lower_bound=0, upper_bound=1, seed=1),\n",
    "    WeightsSetup(initializer=WeightInitializer.NORMAL, mean=0, variance=1, seed=1),\n",
    "]\n",
    "\n",
    "model = FFNN(\n",
    "    layer_sizes=layer_sizes, \n",
    "    activation_functions=activation_functions, \n",
    "    loss_function=loss_function, \n",
    "    weights_setup=weights_setup,\n",
    "    epochs=2,\n",
    "    learning_rate=0.5,\n",
    "    verbose=True,\n",
    "    random_state=42,\n",
    "    batch_size=1\n",
    ")"
   ]
  },
  {
   "cell_type": "code",
   "execution_count": 352,
   "metadata": {},
   "outputs": [],
   "source": [
    "# Inisialisasi 10 data dummy untuk input dan target\n",
    "dummy_size = 10\n",
    "input_data = np.random.uniform(0.01, 0.1, (dummy_size, 2))  # 10 sampel, 2 fitur\n",
    "target_data = np.random.uniform(0.01, 1.0, (dummy_size, 2))  # 10 sampel, 2 output\n",
    "\n",
    "# Inisialisasi bobot dan bias\n",
    "weights = [\n",
    "    np.random.uniform(0.1, 0.3, (2, 2)),  # Bobot layer pertama (2 input -> 2 hidden)\n",
    "    np.random.uniform(0.4, 0.6, (2, 2)),  # Bobot layer kedua (2 hidden -> 2 output)\n",
    "]\n",
    "\n",
    "biases = [\n",
    "    np.random.uniform(0.3, 0.4, (2,)),  # Bias layer pertama\n",
    "    np.random.uniform(0.6, 0.7, (2,)),  # Bias layer kedua\n",
    "]\n",
    "\n",
    "# Set bobot dan bias ke model\n",
    "model.set_weights(weights)\n",
    "model.set_biases(biases)"
   ]
  },
  {
   "cell_type": "code",
   "execution_count": 353,
   "metadata": {},
   "outputs": [
    {
     "name": "stderr",
     "output_type": "stream",
     "text": [
      "Training...: 100%|██████████| 2/2 [00:00<00:00, 927.02it/s]"
     ]
    },
    {
     "name": "stdout",
     "output_type": "stream",
     "text": [
      "Epoch 1 - Training Loss: 0.07364731925199736, Validation Loss: 0.14198689501159587\n",
      "Epoch 2 - Training Loss: 0.08634168841573645, Validation Loss: 0.09914889959646142\n"
     ]
    },
    {
     "name": "stderr",
     "output_type": "stream",
     "text": [
      "\n"
     ]
    },
    {
     "data": {
      "application/vnd.plotly.v1+json": {
       "config": {
        "displayModeBar": true,
        "plotlyServerURL": "https://plot.ly",
        "scrollZoom": true,
        "toImageButtonOptions": {
         "filename": "neural_network_visualization",
         "format": "png",
         "height": 800,
         "scale": 2,
         "width": 1200
        }
       },
       "data": [
        {
         "hoverinfo": "text",
         "hoverlabel": {
          "bgcolor": "white",
          "bordercolor": "black",
          "font": {
           "family": "Arial",
           "size": 12
          }
         },
         "hovertemplate": "<b>Connection:</b> L0 N0 → L1 N0<br><b>Type:</b> Weight<br><b>Value:</b> 0.1033<br><b>Gradient:</b> 0.001148<extra></extra>",
         "line": {
          "color": "rgba(123, 165, 209, 0.8)",
          "width": 0.5
         },
         "mode": "lines",
         "opacity": 0.7,
         "type": "scatter",
         "x": [
          0,
          10.526315789473683,
          21.052631578947366,
          31.57894736842105,
          42.10526315789473,
          52.63157894736842,
          63.1578947368421,
          73.68421052631578,
          84.21052631578947,
          94.73684210526315,
          105.26315789473684,
          115.78947368421053,
          126.3157894736842,
          136.8421052631579,
          147.36842105263156,
          157.89473684210526,
          168.42105263157893,
          178.94736842105263,
          189.4736842105263,
          200
         ],
         "y": [
          -50,
          -50,
          -50,
          -49.99999999999999,
          -50,
          -50,
          -50,
          -50,
          -50,
          -50,
          -50,
          -50,
          -50,
          -50,
          -50,
          -50,
          -50,
          -50,
          -50,
          -50
         ]
        },
        {
         "hoverinfo": "text",
         "hoverlabel": {
          "bgcolor": "white",
          "bordercolor": "black",
          "font": {
           "family": "Arial",
           "size": 12
          }
         },
         "hovertemplate": "<b>Connection:</b> L0 N0 → L1 N1<br><b>Type:</b> Weight<br><b>Value:</b> 0.1463<br><b>Gradient:</b> 0.000967<extra></extra>",
         "line": {
          "color": "rgba(123, 165, 209, 0.8)",
          "width": 0.5
         },
         "mode": "lines",
         "opacity": 0.7,
         "type": "scatter",
         "x": [
          0,
          10.526315789473683,
          21.052631578947366,
          31.57894736842105,
          42.10526315789473,
          52.63157894736842,
          63.1578947368421,
          73.68421052631578,
          84.21052631578947,
          94.73684210526315,
          105.26315789473684,
          115.78947368421053,
          126.3157894736842,
          136.8421052631579,
          147.36842105263156,
          157.89473684210526,
          168.42105263157893,
          178.94736842105263,
          189.4736842105263,
          200
         ],
         "y": [
          -50,
          -47.36842105263158,
          -44.73684210526316,
          -42.10526315789473,
          -39.473684210526315,
          -36.8421052631579,
          -34.21052631578947,
          -31.57894736842105,
          -28.947368421052634,
          -26.315789473684216,
          -23.68421052631579,
          -21.052631578947366,
          -18.42105263157895,
          -15.789473684210526,
          -13.157894736842108,
          -10.526315789473683,
          -7.8947368421052655,
          -5.263157894736842,
          -2.631578947368424,
          0
         ]
        },
        {
         "hoverinfo": "text",
         "hoverlabel": {
          "bgcolor": "white",
          "bordercolor": "black",
          "font": {
           "family": "Arial",
           "size": 12
          }
         },
         "hovertemplate": "<b>Connection:</b> L0 N1 → L1 N0<br><b>Type:</b> Weight<br><b>Value:</b> 0.2781<br><b>Gradient:</b> 0.001125<extra></extra>",
         "line": {
          "color": "rgba(123, 165, 209, 0.8)",
          "width": 0.8342546050648867
         },
         "mode": "lines",
         "opacity": 0.7,
         "type": "scatter",
         "x": [
          0,
          10.526315789473683,
          21.052631578947366,
          31.57894736842105,
          42.10526315789473,
          52.63157894736842,
          63.1578947368421,
          73.68421052631578,
          84.21052631578947,
          94.73684210526315,
          105.26315789473684,
          115.78947368421053,
          126.3157894736842,
          136.8421052631579,
          147.36842105263156,
          157.89473684210526,
          168.42105263157893,
          178.94736842105263,
          189.4736842105263,
          200
         ],
         "y": [
          0,
          -2.631578947368421,
          -5.263157894736842,
          -7.894736842105263,
          -10.526315789473683,
          -13.157894736842104,
          -15.789473684210526,
          -18.421052631578945,
          -21.052631578947366,
          -23.684210526315788,
          -26.31578947368421,
          -28.947368421052634,
          -31.57894736842105,
          -34.21052631578947,
          -36.84210526315789,
          -39.473684210526315,
          -42.10526315789473,
          -44.73684210526316,
          -47.368421052631575,
          -50
         ]
        },
        {
         "hoverinfo": "text",
         "hoverlabel": {
          "bgcolor": "white",
          "bordercolor": "black",
          "font": {
           "family": "Arial",
           "size": 12
          }
         },
         "hovertemplate": "<b>Connection:</b> L0 N1 → L1 N1<br><b>Type:</b> Weight<br><b>Value:</b> 0.2276<br><b>Gradient:</b> 0.000947<extra></extra>",
         "line": {
          "color": "rgba(123, 165, 209, 0.8)",
          "width": 0.6826818386464751
         },
         "mode": "lines",
         "opacity": 0.7,
         "type": "scatter",
         "x": [
          0,
          10.526315789473683,
          21.052631578947366,
          31.57894736842105,
          42.10526315789473,
          52.63157894736842,
          63.1578947368421,
          73.68421052631578,
          84.21052631578947,
          94.73684210526315,
          105.26315789473684,
          115.78947368421053,
          126.3157894736842,
          136.8421052631579,
          147.36842105263156,
          157.89473684210526,
          168.42105263157893,
          178.94736842105263,
          189.4736842105263,
          200
         ],
         "y": [
          0,
          0,
          0,
          0,
          0,
          0,
          0,
          0,
          0,
          0,
          0,
          0,
          0,
          0,
          0,
          0,
          0,
          0,
          0,
          0
         ]
        },
        {
         "hoverinfo": "text",
         "hoverlabel": {
          "bgcolor": "white",
          "bordercolor": "black",
          "font": {
           "family": "Arial",
           "size": 12
          }
         },
         "hovertemplate": "<b>Connection:</b> L0 Bias → L1 N0<br><b>Type:</b> Bias<br><b>Value:</b> 0.3236<br><b>Gradient:</b> 0.015135<extra></extra>",
         "line": {
          "color": "rgba(200, 100, 200, 0.8)",
          "width": 1
         },
         "mode": "lines",
         "opacity": 0.7,
         "type": "scatter",
         "x": [
          -50,
          -36.8421052631579,
          -23.68421052631579,
          -10.526315789473681,
          2.6315789473684177,
          15.78947368421052,
          28.94736842105263,
          42.105263157894726,
          55.263157894736835,
          68.42105263157893,
          81.57894736842104,
          94.73684210526316,
          107.89473684210526,
          121.05263157894737,
          134.21052631578945,
          147.3684210526316,
          160.52631578947367,
          173.68421052631578,
          186.8421052631579,
          200
         ],
         "y": [
          75,
          68.42105263157895,
          61.8421052631579,
          55.26315789473684,
          48.68421052631579,
          42.10526315789475,
          35.526315789473685,
          28.94736842105263,
          22.368421052631586,
          15.789473684210535,
          9.210526315789476,
          2.6315789473684177,
          -3.9473684210526265,
          -10.526315789473685,
          -17.10526315789473,
          -23.684210526315788,
          -30.263157894736835,
          -36.8421052631579,
          -43.42105263157894,
          -50
         ]
        },
        {
         "hoverinfo": "text",
         "hoverlabel": {
          "bgcolor": "white",
          "bordercolor": "black",
          "font": {
           "family": "Arial",
           "size": 12
          }
         },
         "hovertemplate": "<b>Connection:</b> L0 Bias → L1 N1<br><b>Type:</b> Bias<br><b>Value:</b> 0.3052<br><b>Gradient:</b> 0.014827<extra></extra>",
         "line": {
          "color": "rgba(200, 100, 200, 0.8)",
          "width": 1
         },
         "mode": "lines",
         "opacity": 0.7,
         "type": "scatter",
         "x": [
          -50,
          -36.8421052631579,
          -23.68421052631579,
          -10.526315789473681,
          2.6315789473684177,
          15.78947368421052,
          28.94736842105263,
          42.105263157894726,
          55.263157894736835,
          68.42105263157893,
          81.57894736842104,
          94.73684210526316,
          107.89473684210526,
          121.05263157894737,
          134.21052631578945,
          147.3684210526316,
          160.52631578947367,
          173.68421052631578,
          186.8421052631579,
          200
         ],
         "y": [
          75,
          71.05263157894737,
          67.10526315789474,
          63.1578947368421,
          59.21052631578947,
          55.26315789473685,
          51.31578947368421,
          47.368421052631575,
          43.42105263157895,
          39.47368421052632,
          35.526315789473685,
          31.57894736842105,
          27.631578947368425,
          23.684210526315788,
          19.73684210526316,
          15.789473684210526,
          11.842105263157897,
          7.894736842105263,
          3.9473684210526354,
          0
         ]
        },
        {
         "hoverinfo": "text",
         "hoverlabel": {
          "bgcolor": "white",
          "bordercolor": "black",
          "font": {
           "family": "Arial",
           "size": 12
          }
         },
         "hovertemplate": "<b>Connection:</b> L1 N0 → L2 N0<br><b>Type:</b> Weight<br><b>Value:</b> 0.2495<br><b>Gradient:</b> 0.049937<extra></extra>",
         "line": {
          "color": "rgba(123, 165, 209, 0.8)",
          "width": 0.7486030611422383
         },
         "mode": "lines",
         "opacity": 0.7,
         "type": "scatter",
         "x": [
          200,
          210.5263157894737,
          221.05263157894737,
          231.57894736842104,
          242.10526315789474,
          252.63157894736844,
          263.1578947368421,
          273.6842105263158,
          284.2105263157895,
          294.7368421052632,
          305.2631578947368,
          315.7894736842105,
          326.3157894736842,
          336.84210526315786,
          347.36842105263156,
          357.89473684210526,
          368.4210526315789,
          378.9473684210526,
          389.4736842105263,
          400
         ],
         "y": [
          -50,
          -50,
          -50,
          -49.99999999999999,
          -50,
          -50,
          -50,
          -50,
          -50,
          -50,
          -50,
          -50,
          -50,
          -50,
          -50,
          -50,
          -50,
          -50,
          -50,
          -50
         ]
        },
        {
         "hoverinfo": "text",
         "hoverlabel": {
          "bgcolor": "white",
          "bordercolor": "black",
          "font": {
           "family": "Arial",
           "size": 12
          }
         },
         "hovertemplate": "<b>Connection:</b> L1 N0 → L2 N1<br><b>Type:</b> Weight<br><b>Value:</b> 0.2968<br><b>Gradient:</b> 0.049907<extra></extra>",
         "line": {
          "color": "rgba(123, 165, 209, 0.8)",
          "width": 0.8904012892243288
         },
         "mode": "lines",
         "opacity": 0.7,
         "type": "scatter",
         "x": [
          200,
          210.5263157894737,
          221.05263157894737,
          231.57894736842104,
          242.10526315789474,
          252.63157894736844,
          263.1578947368421,
          273.6842105263158,
          284.2105263157895,
          294.7368421052632,
          305.2631578947368,
          315.7894736842105,
          326.3157894736842,
          336.84210526315786,
          347.36842105263156,
          357.89473684210526,
          368.4210526315789,
          378.9473684210526,
          389.4736842105263,
          400
         ],
         "y": [
          -50,
          -47.36842105263158,
          -44.73684210526316,
          -42.10526315789473,
          -39.473684210526315,
          -36.8421052631579,
          -34.21052631578947,
          -31.57894736842105,
          -28.947368421052634,
          -26.315789473684216,
          -23.68421052631579,
          -21.052631578947366,
          -18.42105263157895,
          -15.789473684210526,
          -13.157894736842108,
          -10.526315789473683,
          -7.8947368421052655,
          -5.263157894736842,
          -2.631578947368424,
          0
         ]
        },
        {
         "hoverinfo": "text",
         "hoverlabel": {
          "bgcolor": "white",
          "bordercolor": "black",
          "font": {
           "family": "Arial",
           "size": 12
          }
         },
         "hovertemplate": "<b>Connection:</b> L1 N1 → L2 N0<br><b>Type:</b> Weight<br><b>Value:</b> 0.3130<br><b>Gradient:</b> 0.046932<extra></extra>",
         "line": {
          "color": "rgba(123, 165, 209, 0.8)",
          "width": 0.9388584472781782
         },
         "mode": "lines",
         "opacity": 0.7,
         "type": "scatter",
         "x": [
          200,
          210.5263157894737,
          221.05263157894737,
          231.57894736842104,
          242.10526315789474,
          252.63157894736844,
          263.1578947368421,
          273.6842105263158,
          284.2105263157895,
          294.7368421052632,
          305.2631578947368,
          315.7894736842105,
          326.3157894736842,
          336.84210526315786,
          347.36842105263156,
          357.89473684210526,
          368.4210526315789,
          378.9473684210526,
          389.4736842105263,
          400
         ],
         "y": [
          0,
          -2.631578947368421,
          -5.263157894736842,
          -7.894736842105263,
          -10.526315789473683,
          -13.157894736842104,
          -15.789473684210526,
          -18.421052631578945,
          -21.052631578947366,
          -23.684210526315788,
          -26.31578947368421,
          -28.947368421052634,
          -31.57894736842105,
          -34.21052631578947,
          -36.84210526315789,
          -39.473684210526315,
          -42.10526315789473,
          -44.73684210526316,
          -47.368421052631575,
          -50
         ]
        },
        {
         "hoverinfo": "text",
         "hoverlabel": {
          "bgcolor": "white",
          "bordercolor": "black",
          "font": {
           "family": "Arial",
           "size": 12
          }
         },
         "hovertemplate": "<b>Connection:</b> L1 N1 → L2 N1<br><b>Type:</b> Weight<br><b>Value:</b> 0.2467<br><b>Gradient:</b> 0.046904<extra></extra>",
         "line": {
          "color": "rgba(123, 165, 209, 0.8)",
          "width": 0.7400281163823345
         },
         "mode": "lines",
         "opacity": 0.7,
         "type": "scatter",
         "x": [
          200,
          210.5263157894737,
          221.05263157894737,
          231.57894736842104,
          242.10526315789474,
          252.63157894736844,
          263.1578947368421,
          273.6842105263158,
          284.2105263157895,
          294.7368421052632,
          305.2631578947368,
          315.7894736842105,
          326.3157894736842,
          336.84210526315786,
          347.36842105263156,
          357.89473684210526,
          368.4210526315789,
          378.9473684210526,
          389.4736842105263,
          400
         ],
         "y": [
          0,
          0,
          0,
          0,
          0,
          0,
          0,
          0,
          0,
          0,
          0,
          0,
          0,
          0,
          0,
          0,
          0,
          0,
          0,
          0
         ]
        },
        {
         "hoverinfo": "text",
         "hoverlabel": {
          "bgcolor": "white",
          "bordercolor": "black",
          "font": {
           "family": "Arial",
           "size": 12
          }
         },
         "hovertemplate": "<b>Connection:</b> L1 Bias → L2 N0<br><b>Type:</b> Bias<br><b>Value:</b> 0.3363<br><b>Gradient:</b> 0.084225<extra></extra>",
         "line": {
          "color": "rgba(200, 100, 200, 0.8)",
          "width": 1
         },
         "mode": "lines",
         "opacity": 0.7,
         "type": "scatter",
         "x": [
          150,
          163.1578947368421,
          176.31578947368422,
          189.4736842105263,
          202.6315789473684,
          215.78947368421052,
          228.94736842105263,
          242.1052631578947,
          255.26315789473682,
          268.42105263157896,
          281.57894736842104,
          294.7368421052632,
          307.89473684210526,
          321.05263157894734,
          334.2105263157894,
          347.36842105263156,
          360.52631578947364,
          373.6842105263158,
          386.84210526315786,
          400
         ],
         "y": [
          75,
          68.42105263157895,
          61.8421052631579,
          55.26315789473684,
          48.68421052631579,
          42.10526315789475,
          35.526315789473685,
          28.94736842105263,
          22.368421052631586,
          15.789473684210535,
          9.210526315789476,
          2.6315789473684177,
          -3.9473684210526265,
          -10.526315789473685,
          -17.10526315789473,
          -23.684210526315788,
          -30.263157894736835,
          -36.8421052631579,
          -43.42105263157894,
          -50
         ]
        },
        {
         "hoverinfo": "text",
         "hoverlabel": {
          "bgcolor": "white",
          "bordercolor": "black",
          "font": {
           "family": "Arial",
           "size": 12
          }
         },
         "hovertemplate": "<b>Connection:</b> L1 Bias → L2 N1<br><b>Type:</b> Bias<br><b>Value:</b> 0.3673<br><b>Gradient:</b> 0.079157<extra></extra>",
         "line": {
          "color": "rgba(200, 100, 200, 0.8)",
          "width": 1
         },
         "mode": "lines",
         "opacity": 0.7,
         "type": "scatter",
         "x": [
          150,
          163.1578947368421,
          176.31578947368422,
          189.4736842105263,
          202.6315789473684,
          215.78947368421052,
          228.94736842105263,
          242.1052631578947,
          255.26315789473682,
          268.42105263157896,
          281.57894736842104,
          294.7368421052632,
          307.89473684210526,
          321.05263157894734,
          334.2105263157894,
          347.36842105263156,
          360.52631578947364,
          373.6842105263158,
          386.84210526315786,
          400
         ],
         "y": [
          75,
          71.05263157894737,
          67.10526315789474,
          63.1578947368421,
          59.21052631578947,
          55.26315789473685,
          51.31578947368421,
          47.368421052631575,
          43.42105263157895,
          39.47368421052632,
          35.526315789473685,
          31.57894736842105,
          27.631578947368425,
          23.684210526315788,
          19.73684210526316,
          15.789473684210526,
          11.842105263157897,
          7.894736842105263,
          3.9473684210526354,
          0
         ]
        },
        {
         "hoverinfo": "text",
         "hovertext": [
          "L0 N0<br>Layer: Input Layer",
          "L0 N1<br>Layer: Input Layer",
          "L0 Bias<br>Layer: Input Layer",
          "L1 N0<br>Layer: Hidden Layer 1",
          "L1 N1<br>Layer: Hidden Layer 1",
          "L1 Bias<br>Layer: Hidden Layer 1",
          "L2 N0<br>Layer: Output Layer",
          "L2 N1<br>Layer: Output Layer"
         ],
         "marker": {
          "color": [
           "lightblue",
           "lightblue",
           "pink",
           "lightyellow",
           "lightyellow",
           "pink",
           "lightgreen",
           "lightgreen"
          ],
          "line": {
           "color": "black",
           "width": 2
          },
          "size": 25
         },
         "mode": "markers+text",
         "text": [
          "L0 N0",
          "L0 N1",
          "L0 Bias",
          "L1 N0",
          "L1 N1",
          "L1 Bias",
          "L2 N0",
          "L2 N1"
         ],
         "textposition": "top center",
         "type": "scatter",
         "x": [
          0,
          0,
          -50,
          200,
          200,
          150,
          400,
          400
         ],
         "y": [
          -50,
          0,
          75,
          -50,
          0,
          75,
          -50,
          0
         ]
        }
       ],
       "layout": {
        "annotations": [
         {
          "font": {
           "color": "black",
           "size": 16
          },
          "showarrow": false,
          "text": "Input Layer",
          "x": 0,
          "y": 100
         },
         {
          "font": {
           "color": "black",
           "size": 16
          },
          "showarrow": false,
          "text": "Hidden Layer 1",
          "x": 200,
          "y": 100
         },
         {
          "font": {
           "color": "black",
           "size": 16
          },
          "showarrow": false,
          "text": "Output Layer",
          "x": 400,
          "y": 100
         },
         {
          "align": "left",
          "bgcolor": "rgba(255, 255, 255, 0.7)",
          "bordercolor": "gray",
          "borderpad": 4,
          "borderwidth": 1,
          "font": {
           "size": 12
          },
          "showarrow": false,
          "text": "<b>Legend:</b><br>• Blue edges: Positive weights<br>• Red edges: Negative weights<br>• Purple edges: Bias connections<br>• Thickness indicates weight magnitude",
          "x": 0.02,
          "xref": "paper",
          "y": 0.02,
          "yref": "paper"
         }
        ],
        "height": 800,
        "hovermode": "closest",
        "margin": {
         "b": 20,
         "l": 5,
         "r": 5,
         "t": 40
        },
        "plot_bgcolor": "rgba(240, 240, 240, 0.2)",
        "showlegend": false,
        "template": {
         "data": {
          "bar": [
           {
            "error_x": {
             "color": "#2a3f5f"
            },
            "error_y": {
             "color": "#2a3f5f"
            },
            "marker": {
             "line": {
              "color": "#E5ECF6",
              "width": 0.5
             },
             "pattern": {
              "fillmode": "overlay",
              "size": 10,
              "solidity": 0.2
             }
            },
            "type": "bar"
           }
          ],
          "barpolar": [
           {
            "marker": {
             "line": {
              "color": "#E5ECF6",
              "width": 0.5
             },
             "pattern": {
              "fillmode": "overlay",
              "size": 10,
              "solidity": 0.2
             }
            },
            "type": "barpolar"
           }
          ],
          "carpet": [
           {
            "aaxis": {
             "endlinecolor": "#2a3f5f",
             "gridcolor": "white",
             "linecolor": "white",
             "minorgridcolor": "white",
             "startlinecolor": "#2a3f5f"
            },
            "baxis": {
             "endlinecolor": "#2a3f5f",
             "gridcolor": "white",
             "linecolor": "white",
             "minorgridcolor": "white",
             "startlinecolor": "#2a3f5f"
            },
            "type": "carpet"
           }
          ],
          "choropleth": [
           {
            "colorbar": {
             "outlinewidth": 0,
             "ticks": ""
            },
            "type": "choropleth"
           }
          ],
          "contour": [
           {
            "colorbar": {
             "outlinewidth": 0,
             "ticks": ""
            },
            "colorscale": [
             [
              0,
              "#0d0887"
             ],
             [
              0.1111111111111111,
              "#46039f"
             ],
             [
              0.2222222222222222,
              "#7201a8"
             ],
             [
              0.3333333333333333,
              "#9c179e"
             ],
             [
              0.4444444444444444,
              "#bd3786"
             ],
             [
              0.5555555555555556,
              "#d8576b"
             ],
             [
              0.6666666666666666,
              "#ed7953"
             ],
             [
              0.7777777777777778,
              "#fb9f3a"
             ],
             [
              0.8888888888888888,
              "#fdca26"
             ],
             [
              1,
              "#f0f921"
             ]
            ],
            "type": "contour"
           }
          ],
          "contourcarpet": [
           {
            "colorbar": {
             "outlinewidth": 0,
             "ticks": ""
            },
            "type": "contourcarpet"
           }
          ],
          "heatmap": [
           {
            "colorbar": {
             "outlinewidth": 0,
             "ticks": ""
            },
            "colorscale": [
             [
              0,
              "#0d0887"
             ],
             [
              0.1111111111111111,
              "#46039f"
             ],
             [
              0.2222222222222222,
              "#7201a8"
             ],
             [
              0.3333333333333333,
              "#9c179e"
             ],
             [
              0.4444444444444444,
              "#bd3786"
             ],
             [
              0.5555555555555556,
              "#d8576b"
             ],
             [
              0.6666666666666666,
              "#ed7953"
             ],
             [
              0.7777777777777778,
              "#fb9f3a"
             ],
             [
              0.8888888888888888,
              "#fdca26"
             ],
             [
              1,
              "#f0f921"
             ]
            ],
            "type": "heatmap"
           }
          ],
          "histogram": [
           {
            "marker": {
             "pattern": {
              "fillmode": "overlay",
              "size": 10,
              "solidity": 0.2
             }
            },
            "type": "histogram"
           }
          ],
          "histogram2d": [
           {
            "colorbar": {
             "outlinewidth": 0,
             "ticks": ""
            },
            "colorscale": [
             [
              0,
              "#0d0887"
             ],
             [
              0.1111111111111111,
              "#46039f"
             ],
             [
              0.2222222222222222,
              "#7201a8"
             ],
             [
              0.3333333333333333,
              "#9c179e"
             ],
             [
              0.4444444444444444,
              "#bd3786"
             ],
             [
              0.5555555555555556,
              "#d8576b"
             ],
             [
              0.6666666666666666,
              "#ed7953"
             ],
             [
              0.7777777777777778,
              "#fb9f3a"
             ],
             [
              0.8888888888888888,
              "#fdca26"
             ],
             [
              1,
              "#f0f921"
             ]
            ],
            "type": "histogram2d"
           }
          ],
          "histogram2dcontour": [
           {
            "colorbar": {
             "outlinewidth": 0,
             "ticks": ""
            },
            "colorscale": [
             [
              0,
              "#0d0887"
             ],
             [
              0.1111111111111111,
              "#46039f"
             ],
             [
              0.2222222222222222,
              "#7201a8"
             ],
             [
              0.3333333333333333,
              "#9c179e"
             ],
             [
              0.4444444444444444,
              "#bd3786"
             ],
             [
              0.5555555555555556,
              "#d8576b"
             ],
             [
              0.6666666666666666,
              "#ed7953"
             ],
             [
              0.7777777777777778,
              "#fb9f3a"
             ],
             [
              0.8888888888888888,
              "#fdca26"
             ],
             [
              1,
              "#f0f921"
             ]
            ],
            "type": "histogram2dcontour"
           }
          ],
          "mesh3d": [
           {
            "colorbar": {
             "outlinewidth": 0,
             "ticks": ""
            },
            "type": "mesh3d"
           }
          ],
          "parcoords": [
           {
            "line": {
             "colorbar": {
              "outlinewidth": 0,
              "ticks": ""
             }
            },
            "type": "parcoords"
           }
          ],
          "pie": [
           {
            "automargin": true,
            "type": "pie"
           }
          ],
          "scatter": [
           {
            "fillpattern": {
             "fillmode": "overlay",
             "size": 10,
             "solidity": 0.2
            },
            "type": "scatter"
           }
          ],
          "scatter3d": [
           {
            "line": {
             "colorbar": {
              "outlinewidth": 0,
              "ticks": ""
             }
            },
            "marker": {
             "colorbar": {
              "outlinewidth": 0,
              "ticks": ""
             }
            },
            "type": "scatter3d"
           }
          ],
          "scattercarpet": [
           {
            "marker": {
             "colorbar": {
              "outlinewidth": 0,
              "ticks": ""
             }
            },
            "type": "scattercarpet"
           }
          ],
          "scattergeo": [
           {
            "marker": {
             "colorbar": {
              "outlinewidth": 0,
              "ticks": ""
             }
            },
            "type": "scattergeo"
           }
          ],
          "scattergl": [
           {
            "marker": {
             "colorbar": {
              "outlinewidth": 0,
              "ticks": ""
             }
            },
            "type": "scattergl"
           }
          ],
          "scattermap": [
           {
            "marker": {
             "colorbar": {
              "outlinewidth": 0,
              "ticks": ""
             }
            },
            "type": "scattermap"
           }
          ],
          "scattermapbox": [
           {
            "marker": {
             "colorbar": {
              "outlinewidth": 0,
              "ticks": ""
             }
            },
            "type": "scattermapbox"
           }
          ],
          "scatterpolar": [
           {
            "marker": {
             "colorbar": {
              "outlinewidth": 0,
              "ticks": ""
             }
            },
            "type": "scatterpolar"
           }
          ],
          "scatterpolargl": [
           {
            "marker": {
             "colorbar": {
              "outlinewidth": 0,
              "ticks": ""
             }
            },
            "type": "scatterpolargl"
           }
          ],
          "scatterternary": [
           {
            "marker": {
             "colorbar": {
              "outlinewidth": 0,
              "ticks": ""
             }
            },
            "type": "scatterternary"
           }
          ],
          "surface": [
           {
            "colorbar": {
             "outlinewidth": 0,
             "ticks": ""
            },
            "colorscale": [
             [
              0,
              "#0d0887"
             ],
             [
              0.1111111111111111,
              "#46039f"
             ],
             [
              0.2222222222222222,
              "#7201a8"
             ],
             [
              0.3333333333333333,
              "#9c179e"
             ],
             [
              0.4444444444444444,
              "#bd3786"
             ],
             [
              0.5555555555555556,
              "#d8576b"
             ],
             [
              0.6666666666666666,
              "#ed7953"
             ],
             [
              0.7777777777777778,
              "#fb9f3a"
             ],
             [
              0.8888888888888888,
              "#fdca26"
             ],
             [
              1,
              "#f0f921"
             ]
            ],
            "type": "surface"
           }
          ],
          "table": [
           {
            "cells": {
             "fill": {
              "color": "#EBF0F8"
             },
             "line": {
              "color": "white"
             }
            },
            "header": {
             "fill": {
              "color": "#C8D4E3"
             },
             "line": {
              "color": "white"
             }
            },
            "type": "table"
           }
          ]
         },
         "layout": {
          "annotationdefaults": {
           "arrowcolor": "#2a3f5f",
           "arrowhead": 0,
           "arrowwidth": 1
          },
          "autotypenumbers": "strict",
          "coloraxis": {
           "colorbar": {
            "outlinewidth": 0,
            "ticks": ""
           }
          },
          "colorscale": {
           "diverging": [
            [
             0,
             "#8e0152"
            ],
            [
             0.1,
             "#c51b7d"
            ],
            [
             0.2,
             "#de77ae"
            ],
            [
             0.3,
             "#f1b6da"
            ],
            [
             0.4,
             "#fde0ef"
            ],
            [
             0.5,
             "#f7f7f7"
            ],
            [
             0.6,
             "#e6f5d0"
            ],
            [
             0.7,
             "#b8e186"
            ],
            [
             0.8,
             "#7fbc41"
            ],
            [
             0.9,
             "#4d9221"
            ],
            [
             1,
             "#276419"
            ]
           ],
           "sequential": [
            [
             0,
             "#0d0887"
            ],
            [
             0.1111111111111111,
             "#46039f"
            ],
            [
             0.2222222222222222,
             "#7201a8"
            ],
            [
             0.3333333333333333,
             "#9c179e"
            ],
            [
             0.4444444444444444,
             "#bd3786"
            ],
            [
             0.5555555555555556,
             "#d8576b"
            ],
            [
             0.6666666666666666,
             "#ed7953"
            ],
            [
             0.7777777777777778,
             "#fb9f3a"
            ],
            [
             0.8888888888888888,
             "#fdca26"
            ],
            [
             1,
             "#f0f921"
            ]
           ],
           "sequentialminus": [
            [
             0,
             "#0d0887"
            ],
            [
             0.1111111111111111,
             "#46039f"
            ],
            [
             0.2222222222222222,
             "#7201a8"
            ],
            [
             0.3333333333333333,
             "#9c179e"
            ],
            [
             0.4444444444444444,
             "#bd3786"
            ],
            [
             0.5555555555555556,
             "#d8576b"
            ],
            [
             0.6666666666666666,
             "#ed7953"
            ],
            [
             0.7777777777777778,
             "#fb9f3a"
            ],
            [
             0.8888888888888888,
             "#fdca26"
            ],
            [
             1,
             "#f0f921"
            ]
           ]
          },
          "colorway": [
           "#636efa",
           "#EF553B",
           "#00cc96",
           "#ab63fa",
           "#FFA15A",
           "#19d3f3",
           "#FF6692",
           "#B6E880",
           "#FF97FF",
           "#FECB52"
          ],
          "font": {
           "color": "#2a3f5f"
          },
          "geo": {
           "bgcolor": "white",
           "lakecolor": "white",
           "landcolor": "#E5ECF6",
           "showlakes": true,
           "showland": true,
           "subunitcolor": "white"
          },
          "hoverlabel": {
           "align": "left"
          },
          "hovermode": "closest",
          "mapbox": {
           "style": "light"
          },
          "paper_bgcolor": "white",
          "plot_bgcolor": "#E5ECF6",
          "polar": {
           "angularaxis": {
            "gridcolor": "white",
            "linecolor": "white",
            "ticks": ""
           },
           "bgcolor": "#E5ECF6",
           "radialaxis": {
            "gridcolor": "white",
            "linecolor": "white",
            "ticks": ""
           }
          },
          "scene": {
           "xaxis": {
            "backgroundcolor": "#E5ECF6",
            "gridcolor": "white",
            "gridwidth": 2,
            "linecolor": "white",
            "showbackground": true,
            "ticks": "",
            "zerolinecolor": "white"
           },
           "yaxis": {
            "backgroundcolor": "#E5ECF6",
            "gridcolor": "white",
            "gridwidth": 2,
            "linecolor": "white",
            "showbackground": true,
            "ticks": "",
            "zerolinecolor": "white"
           },
           "zaxis": {
            "backgroundcolor": "#E5ECF6",
            "gridcolor": "white",
            "gridwidth": 2,
            "linecolor": "white",
            "showbackground": true,
            "ticks": "",
            "zerolinecolor": "white"
           }
          },
          "shapedefaults": {
           "line": {
            "color": "#2a3f5f"
           }
          },
          "ternary": {
           "aaxis": {
            "gridcolor": "white",
            "linecolor": "white",
            "ticks": ""
           },
           "baxis": {
            "gridcolor": "white",
            "linecolor": "white",
            "ticks": ""
           },
           "bgcolor": "#E5ECF6",
           "caxis": {
            "gridcolor": "white",
            "linecolor": "white",
            "ticks": ""
           }
          },
          "title": {
           "x": 0.05
          },
          "xaxis": {
           "automargin": true,
           "gridcolor": "white",
           "linecolor": "white",
           "ticks": "",
           "title": {
            "standoff": 15
           },
           "zerolinecolor": "white",
           "zerolinewidth": 2
          },
          "yaxis": {
           "automargin": true,
           "gridcolor": "white",
           "linecolor": "white",
           "ticks": "",
           "title": {
            "standoff": 15
           },
           "zerolinecolor": "white",
           "zerolinewidth": 2
          }
         }
        },
        "title": {
         "text": "Neural Network Architecture Visualization"
        },
        "width": 1200,
        "xaxis": {
         "range": [
          -100,
          500
         ],
         "showgrid": false,
         "showticklabels": false,
         "zeroline": false
        },
        "yaxis": {
         "scaleanchor": "x",
         "scaleratio": 1,
         "showgrid": false,
         "showticklabels": false,
         "zeroline": false
        }
       }
      }
     },
     "metadata": {},
     "output_type": "display_data"
    }
   ],
   "source": [
    "model.fit(input_data, target_data)\n",
    "model.show_graph()"
   ]
  },
  {
   "cell_type": "code",
   "execution_count": 354,
   "metadata": {},
   "outputs": [],
   "source": [
    "from sklearn.datasets import fetch_openml\n",
    "from sklearn.model_selection import train_test_split\n",
    "import warnings "
   ]
  },
  {
   "cell_type": "code",
   "execution_count": 355,
   "metadata": {},
   "outputs": [],
   "source": [
    "warnings.filterwarnings('ignore') "
   ]
  },
  {
   "cell_type": "code",
   "execution_count": 356,
   "metadata": {},
   "outputs": [],
   "source": [
    "X, y = fetch_openml(\"mnist_784\", version=1, return_X_y=True, as_frame=False)\n",
    "y = np.eye(10)[y.astype(int)]"
   ]
  },
  {
   "cell_type": "code",
   "execution_count": 357,
   "metadata": {},
   "outputs": [
    {
     "name": "stdout",
     "output_type": "stream",
     "text": [
      "(21000, 784) (49000, 784)\n"
     ]
    }
   ],
   "source": [
    "X_train, X_test, y_train, y_test = train_test_split(X, y, random_state=0, test_size=0.7)\n",
    "print(X_train.shape, X_test.shape)"
   ]
  },
  {
   "cell_type": "code",
   "execution_count": 358,
   "metadata": {},
   "outputs": [],
   "source": [
    "# layer_sizes = [784, 256, 128, 10]\n",
    "# layer_sizes = [784, 50, 10]\n",
    "layer_sizes = [784, 50, 10]\n",
    "\n",
    "activation_functions = [\n",
    "    # ActivationFunction.RELU,\n",
    "    ActivationFunction.RELU,\n",
    "    ActivationFunction.SOFTMAX,\n",
    "]\n",
    "\n",
    "loss_function = LossFunction.CATEGORICAL_CROSS_ENTROPY\n",
    "\n",
    "weights_setup = [\n",
    "    # WeightsSetup(initializer=WeightInitializer.ZERO),\n",
    "    # WeightsSetup(initializer=WeightInitializer.ZERO),\n",
    "    WeightsSetup(WeightInitializer.XAVIER, seed=42),\n",
    "    WeightsSetup(WeightInitializer.XAVIER, seed=42),\n",
    "    # WeightsSetup(WeightInitializer.XAVIER, seed=42),\n",
    "    # WeightsSetup(WeightInitializer.NORMAL, mean=0, variance=1, seed=42),\n",
    "    # WeightsSetup(WeightInitializer.NORMAL, mean=0, variance=1, seed=42),\n",
    "    # WeightsSetup(WeightInitializer.NORMAL, mean=0, variance=1, seed=42),\n",
    "    # WeightsSetup(WeightInitializer.UNIFORM, lower_bound=0, upper_bound=1, seed=42),\n",
    "    # WeightsSetup(WeightInitializer.UNIFORM, lower_bound=0, upper_bound=1, seed=42),\n",
    "    # WeightsSetup(WeightInitializer.UNIFORM, lower_bound=0, upper_bound=1, seed=42),\n",
    "]\n",
    "\n",
    "model = FFNN(\n",
    "    layer_sizes=layer_sizes, \n",
    "    activation_functions=activation_functions, \n",
    "    loss_function=loss_function, \n",
    "    weights_setup=weights_setup,\n",
    "    epochs=100,\n",
    "    verbose=True,\n",
    "    learning_rate=0.0001,\n",
    "    batch_size=256,\n",
    "    random_state=42,\n",
    "    # l1=0.0001,\n",
    "    # l2=0.0001,\n",
    ")"
   ]
  },
  {
   "cell_type": "code",
   "execution_count": 359,
   "metadata": {},
   "outputs": [
    {
     "name": "stderr",
     "output_type": "stream",
     "text": [
      "Training...:   1%|          | 1/100 [00:00<00:24,  4.00it/s]"
     ]
    },
    {
     "name": "stdout",
     "output_type": "stream",
     "text": [
      "Epoch 1 - Training Loss: 23.221022958957608, Validation Loss: 16.0072016838516\n"
     ]
    },
    {
     "name": "stderr",
     "output_type": "stream",
     "text": [
      "Training...:   2%|▏         | 2/100 [00:00<00:26,  3.76it/s]"
     ]
    },
    {
     "name": "stdout",
     "output_type": "stream",
     "text": [
      "Epoch 2 - Training Loss: 12.026857222996398, Validation Loss: 9.494631087586642\n"
     ]
    },
    {
     "name": "stderr",
     "output_type": "stream",
     "text": [
      "Training...:   3%|▎         | 3/100 [00:00<00:24,  3.88it/s]"
     ]
    },
    {
     "name": "stdout",
     "output_type": "stream",
     "text": [
      "Epoch 3 - Training Loss: 7.922224111341571, Validation Loss: 6.478795803206667\n"
     ]
    },
    {
     "name": "stderr",
     "output_type": "stream",
     "text": [
      "Training...:   4%|▍         | 4/100 [00:00<00:23,  4.11it/s]"
     ]
    },
    {
     "name": "stdout",
     "output_type": "stream",
     "text": [
      "Epoch 4 - Training Loss: 5.896659717323518, Validation Loss: 5.59588078081362\n"
     ]
    },
    {
     "name": "stderr",
     "output_type": "stream",
     "text": [
      "Training...:   5%|▌         | 5/100 [00:01<00:22,  4.18it/s]"
     ]
    },
    {
     "name": "stdout",
     "output_type": "stream",
     "text": [
      "Epoch 5 - Training Loss: 4.8344247403990055, Validation Loss: 4.650762157561231\n"
     ]
    },
    {
     "name": "stderr",
     "output_type": "stream",
     "text": [
      "Training...:   6%|▌         | 6/100 [00:01<00:21,  4.30it/s]"
     ]
    },
    {
     "name": "stdout",
     "output_type": "stream",
     "text": [
      "Epoch 6 - Training Loss: 4.118492269209206, Validation Loss: 3.8881093072166664\n"
     ]
    },
    {
     "name": "stderr",
     "output_type": "stream",
     "text": [
      "Training...:   7%|▋         | 7/100 [00:01<00:21,  4.37it/s]"
     ]
    },
    {
     "name": "stdout",
     "output_type": "stream",
     "text": [
      "Epoch 7 - Training Loss: 3.6326558127000705, Validation Loss: 3.205065084658968\n"
     ]
    },
    {
     "name": "stderr",
     "output_type": "stream",
     "text": [
      "Training...:   8%|▊         | 8/100 [00:01<00:20,  4.42it/s]"
     ]
    },
    {
     "name": "stdout",
     "output_type": "stream",
     "text": [
      "Epoch 8 - Training Loss: 3.206141154854813, Validation Loss: 2.9245576385202754\n"
     ]
    },
    {
     "name": "stderr",
     "output_type": "stream",
     "text": [
      "Training...:   9%|▉         | 9/100 [00:02<00:20,  4.44it/s]"
     ]
    },
    {
     "name": "stdout",
     "output_type": "stream",
     "text": [
      "Epoch 9 - Training Loss: 2.8128512294800316, Validation Loss: 2.8476313867502543\n"
     ]
    },
    {
     "name": "stderr",
     "output_type": "stream",
     "text": [
      "Training...:  10%|█         | 10/100 [00:02<00:19,  4.54it/s]"
     ]
    },
    {
     "name": "stdout",
     "output_type": "stream",
     "text": [
      "Epoch 10 - Training Loss: 2.6050254596776243, Validation Loss: 2.3501085335503706\n"
     ]
    },
    {
     "name": "stderr",
     "output_type": "stream",
     "text": [
      "Training...:  11%|█         | 11/100 [00:02<00:19,  4.56it/s]"
     ]
    },
    {
     "name": "stdout",
     "output_type": "stream",
     "text": [
      "Epoch 11 - Training Loss: 2.311252515603234, Validation Loss: 2.372479954031636\n"
     ]
    },
    {
     "name": "stderr",
     "output_type": "stream",
     "text": [
      "Training...:  13%|█▎        | 13/100 [00:02<00:18,  4.60it/s]"
     ]
    },
    {
     "name": "stdout",
     "output_type": "stream",
     "text": [
      "Epoch 12 - Training Loss: 2.1166843903765855, Validation Loss: 2.1388243697014095\n",
      "Epoch 13 - Training Loss: 1.9922566669422146, Validation Loss: 1.8313501528614498\n"
     ]
    },
    {
     "name": "stderr",
     "output_type": "stream",
     "text": [
      "Training...:  14%|█▍        | 14/100 [00:03<00:18,  4.70it/s]"
     ]
    },
    {
     "name": "stdout",
     "output_type": "stream",
     "text": [
      "Epoch 14 - Training Loss: 1.8040798758559782, Validation Loss: 1.8072952643131919\n"
     ]
    },
    {
     "name": "stderr",
     "output_type": "stream",
     "text": [
      "Training...:  15%|█▌        | 15/100 [00:03<00:19,  4.39it/s]"
     ]
    },
    {
     "name": "stdout",
     "output_type": "stream",
     "text": [
      "Epoch 15 - Training Loss: 1.6636932598441476, Validation Loss: 1.670654419605948\n"
     ]
    },
    {
     "name": "stderr",
     "output_type": "stream",
     "text": [
      "Training...:  16%|█▌        | 16/100 [00:03<00:20,  4.04it/s]"
     ]
    },
    {
     "name": "stdout",
     "output_type": "stream",
     "text": [
      "Epoch 16 - Training Loss: 1.5675469516998441, Validation Loss: 1.4873762569515063\n"
     ]
    },
    {
     "name": "stderr",
     "output_type": "stream",
     "text": [
      "Training...:  17%|█▋        | 17/100 [00:04<00:21,  3.92it/s]"
     ]
    },
    {
     "name": "stdout",
     "output_type": "stream",
     "text": [
      "Epoch 17 - Training Loss: 1.4548670597221707, Validation Loss: 1.3932316724848761\n"
     ]
    },
    {
     "name": "stderr",
     "output_type": "stream",
     "text": [
      "Training...:  18%|█▊        | 18/100 [00:04<00:20,  4.03it/s]"
     ]
    },
    {
     "name": "stdout",
     "output_type": "stream",
     "text": [
      "Epoch 18 - Training Loss: 1.3725595432557651, Validation Loss: 1.3274075215151224\n"
     ]
    },
    {
     "name": "stderr",
     "output_type": "stream",
     "text": [
      "Training...:  19%|█▉        | 19/100 [00:04<00:19,  4.12it/s]"
     ]
    },
    {
     "name": "stdout",
     "output_type": "stream",
     "text": [
      "Epoch 19 - Training Loss: 1.2743863074409774, Validation Loss: 1.2899729777041071\n"
     ]
    },
    {
     "name": "stderr",
     "output_type": "stream",
     "text": [
      "Training...:  20%|██        | 20/100 [00:04<00:19,  4.12it/s]"
     ]
    },
    {
     "name": "stdout",
     "output_type": "stream",
     "text": [
      "Epoch 20 - Training Loss: 1.1977720285131241, Validation Loss: 1.2779441296408396\n"
     ]
    },
    {
     "name": "stderr",
     "output_type": "stream",
     "text": [
      "Training...:  21%|██        | 21/100 [00:04<00:18,  4.24it/s]"
     ]
    },
    {
     "name": "stdout",
     "output_type": "stream",
     "text": [
      "Epoch 21 - Training Loss: 1.1545207808833604, Validation Loss: 1.1516698820940103\n"
     ]
    },
    {
     "name": "stderr",
     "output_type": "stream",
     "text": [
      "Training...:  22%|██▏       | 22/100 [00:05<00:18,  4.31it/s]"
     ]
    },
    {
     "name": "stdout",
     "output_type": "stream",
     "text": [
      "Epoch 22 - Training Loss: 1.0913282412873129, Validation Loss: 1.136520081615501\n"
     ]
    },
    {
     "name": "stderr",
     "output_type": "stream",
     "text": [
      "Training...:  23%|██▎       | 23/100 [00:05<00:18,  4.22it/s]"
     ]
    },
    {
     "name": "stdout",
     "output_type": "stream",
     "text": [
      "Epoch 23 - Training Loss: 1.0512467637177052, Validation Loss: 1.01712774825527\n"
     ]
    },
    {
     "name": "stderr",
     "output_type": "stream",
     "text": [
      "Training...:  24%|██▍       | 24/100 [00:05<00:17,  4.29it/s]"
     ]
    },
    {
     "name": "stdout",
     "output_type": "stream",
     "text": [
      "Epoch 24 - Training Loss: 1.0035345575528296, Validation Loss: 0.9754661717098781\n"
     ]
    },
    {
     "name": "stderr",
     "output_type": "stream",
     "text": [
      "Training...:  25%|██▌       | 25/100 [00:05<00:17,  4.28it/s]"
     ]
    },
    {
     "name": "stdout",
     "output_type": "stream",
     "text": [
      "Epoch 25 - Training Loss: 0.9489066406651715, Validation Loss: 0.9875308342727582\n"
     ]
    },
    {
     "name": "stderr",
     "output_type": "stream",
     "text": [
      "Training...:  26%|██▌       | 26/100 [00:06<00:17,  4.35it/s]"
     ]
    },
    {
     "name": "stdout",
     "output_type": "stream",
     "text": [
      "Epoch 26 - Training Loss: 0.9236365770843681, Validation Loss: 0.8939904969154981\n"
     ]
    },
    {
     "name": "stderr",
     "output_type": "stream",
     "text": [
      "Training...:  27%|██▋       | 27/100 [00:06<00:16,  4.40it/s]"
     ]
    },
    {
     "name": "stdout",
     "output_type": "stream",
     "text": [
      "Epoch 27 - Training Loss: 0.8752848974865548, Validation Loss: 0.9173659472327512\n"
     ]
    },
    {
     "name": "stderr",
     "output_type": "stream",
     "text": [
      "Training...:  28%|██▊       | 28/100 [00:06<00:16,  4.36it/s]"
     ]
    },
    {
     "name": "stdout",
     "output_type": "stream",
     "text": [
      "Epoch 28 - Training Loss: 0.8396585125912797, Validation Loss: 0.8845179878752966\n"
     ]
    },
    {
     "name": "stderr",
     "output_type": "stream",
     "text": [
      "Training...:  29%|██▉       | 29/100 [00:06<00:16,  4.42it/s]"
     ]
    },
    {
     "name": "stdout",
     "output_type": "stream",
     "text": [
      "Epoch 29 - Training Loss: 0.8257215572316832, Validation Loss: 0.8051978140723489\n"
     ]
    },
    {
     "name": "stderr",
     "output_type": "stream",
     "text": [
      "Training...:  30%|███       | 30/100 [00:06<00:15,  4.44it/s]"
     ]
    },
    {
     "name": "stdout",
     "output_type": "stream",
     "text": [
      "Epoch 30 - Training Loss: 0.800009187640775, Validation Loss: 0.7537179531021869\n"
     ]
    },
    {
     "name": "stderr",
     "output_type": "stream",
     "text": [
      "Training...:  31%|███       | 31/100 [00:07<00:16,  4.30it/s]"
     ]
    },
    {
     "name": "stdout",
     "output_type": "stream",
     "text": [
      "Epoch 31 - Training Loss: 0.7582352557014236, Validation Loss: 0.7770128258144438\n"
     ]
    },
    {
     "name": "stderr",
     "output_type": "stream",
     "text": [
      "Training...:  32%|███▏      | 32/100 [00:07<00:16,  4.20it/s]"
     ]
    },
    {
     "name": "stdout",
     "output_type": "stream",
     "text": [
      "Epoch 32 - Training Loss: 0.7356577934500733, Validation Loss: 0.7338845349661927\n"
     ]
    },
    {
     "name": "stderr",
     "output_type": "stream",
     "text": [
      "Training...:  33%|███▎      | 33/100 [00:07<00:16,  4.06it/s]"
     ]
    },
    {
     "name": "stdout",
     "output_type": "stream",
     "text": [
      "Epoch 33 - Training Loss: 0.6904727711442594, Validation Loss: 0.8097823434633782\n"
     ]
    },
    {
     "name": "stderr",
     "output_type": "stream",
     "text": [
      "Training...:  34%|███▍      | 34/100 [00:08<00:16,  3.92it/s]"
     ]
    },
    {
     "name": "stdout",
     "output_type": "stream",
     "text": [
      "Epoch 34 - Training Loss: 0.7133655763289358, Validation Loss: 0.6337542376397476\n"
     ]
    },
    {
     "name": "stderr",
     "output_type": "stream",
     "text": [
      "Training...:  35%|███▌      | 35/100 [00:08<00:16,  4.04it/s]"
     ]
    },
    {
     "name": "stdout",
     "output_type": "stream",
     "text": [
      "Epoch 35 - Training Loss: 0.6748648507587719, Validation Loss: 0.6641200320851536\n"
     ]
    },
    {
     "name": "stderr",
     "output_type": "stream",
     "text": [
      "Training...:  36%|███▌      | 36/100 [00:08<00:15,  4.11it/s]"
     ]
    },
    {
     "name": "stdout",
     "output_type": "stream",
     "text": [
      "Epoch 36 - Training Loss: 0.6722055397423625, Validation Loss: 0.5520856446948519\n"
     ]
    },
    {
     "name": "stderr",
     "output_type": "stream",
     "text": [
      "Training...:  37%|███▋      | 37/100 [00:08<00:14,  4.25it/s]"
     ]
    },
    {
     "name": "stdout",
     "output_type": "stream",
     "text": [
      "Epoch 37 - Training Loss: 0.6506583377489795, Validation Loss: 0.5689989058981323\n"
     ]
    },
    {
     "name": "stderr",
     "output_type": "stream",
     "text": [
      "Training...:  38%|███▊      | 38/100 [00:08<00:15,  3.92it/s]"
     ]
    },
    {
     "name": "stdout",
     "output_type": "stream",
     "text": [
      "Epoch 38 - Training Loss: 0.6110156613589601, Validation Loss: 0.632245661625411\n"
     ]
    },
    {
     "name": "stderr",
     "output_type": "stream",
     "text": [
      "Training...:  39%|███▉      | 39/100 [00:09<00:15,  4.04it/s]"
     ]
    },
    {
     "name": "stdout",
     "output_type": "stream",
     "text": [
      "Epoch 39 - Training Loss: 0.5808557416693312, Validation Loss: 0.6635929432238958\n"
     ]
    },
    {
     "name": "stderr",
     "output_type": "stream",
     "text": [
      "Training...:  40%|████      | 40/100 [00:09<00:14,  4.01it/s]"
     ]
    },
    {
     "name": "stdout",
     "output_type": "stream",
     "text": [
      "Epoch 40 - Training Loss: 0.585974819827923, Validation Loss: 0.5643586260417597\n"
     ]
    },
    {
     "name": "stderr",
     "output_type": "stream",
     "text": [
      "Training...:  41%|████      | 41/100 [00:09<00:15,  3.85it/s]"
     ]
    },
    {
     "name": "stdout",
     "output_type": "stream",
     "text": [
      "Epoch 41 - Training Loss: 0.5477713881916171, Validation Loss: 0.6440291662407525\n"
     ]
    },
    {
     "name": "stderr",
     "output_type": "stream",
     "text": [
      "Training...:  42%|████▏     | 42/100 [00:10<00:14,  3.87it/s]"
     ]
    },
    {
     "name": "stdout",
     "output_type": "stream",
     "text": [
      "Epoch 42 - Training Loss: 0.557472012271788, Validation Loss: 0.5263637640241567\n"
     ]
    },
    {
     "name": "stderr",
     "output_type": "stream",
     "text": [
      "Training...:  43%|████▎     | 43/100 [00:10<00:14,  3.99it/s]"
     ]
    },
    {
     "name": "stdout",
     "output_type": "stream",
     "text": [
      "Epoch 43 - Training Loss: 0.5277318537402942, Validation Loss: 0.5747771220986319\n"
     ]
    },
    {
     "name": "stderr",
     "output_type": "stream",
     "text": [
      "Training...:  44%|████▍     | 44/100 [00:10<00:13,  4.09it/s]"
     ]
    },
    {
     "name": "stdout",
     "output_type": "stream",
     "text": [
      "Epoch 44 - Training Loss: 0.5259202740268144, Validation Loss: 0.533403273769917\n"
     ]
    },
    {
     "name": "stderr",
     "output_type": "stream",
     "text": [
      "Training...:  45%|████▌     | 45/100 [00:10<00:13,  4.14it/s]"
     ]
    },
    {
     "name": "stdout",
     "output_type": "stream",
     "text": [
      "Epoch 45 - Training Loss: 0.5121802683534985, Validation Loss: 0.5189382508280317\n"
     ]
    },
    {
     "name": "stderr",
     "output_type": "stream",
     "text": [
      "Training...:  46%|████▌     | 46/100 [00:10<00:12,  4.25it/s]"
     ]
    },
    {
     "name": "stdout",
     "output_type": "stream",
     "text": [
      "Epoch 46 - Training Loss: 0.5024739879438835, Validation Loss: 0.5007954046338668\n"
     ]
    },
    {
     "name": "stderr",
     "output_type": "stream",
     "text": [
      "Training...:  47%|████▋     | 47/100 [00:11<00:12,  4.30it/s]"
     ]
    },
    {
     "name": "stdout",
     "output_type": "stream",
     "text": [
      "Epoch 47 - Training Loss: 0.48862324770634163, Validation Loss: 0.5010789452106006\n"
     ]
    },
    {
     "name": "stderr",
     "output_type": "stream",
     "text": [
      "Training...:  48%|████▊     | 48/100 [00:11<00:12,  4.16it/s]"
     ]
    },
    {
     "name": "stdout",
     "output_type": "stream",
     "text": [
      "Epoch 48 - Training Loss: 0.47589194552614067, Validation Loss: 0.47913749398873956\n"
     ]
    },
    {
     "name": "stderr",
     "output_type": "stream",
     "text": [
      "Training...:  49%|████▉     | 49/100 [00:11<00:12,  3.97it/s]"
     ]
    },
    {
     "name": "stdout",
     "output_type": "stream",
     "text": [
      "Epoch 49 - Training Loss: 0.4721280006247122, Validation Loss: 0.4644519784563335\n"
     ]
    },
    {
     "name": "stderr",
     "output_type": "stream",
     "text": [
      "Training...:  50%|█████     | 50/100 [00:11<00:13,  3.84it/s]"
     ]
    },
    {
     "name": "stdout",
     "output_type": "stream",
     "text": [
      "Epoch 50 - Training Loss: 0.46728185267998124, Validation Loss: 0.4209731171047727\n"
     ]
    },
    {
     "name": "stderr",
     "output_type": "stream",
     "text": [
      "Training...:  51%|█████     | 51/100 [00:12<00:12,  3.86it/s]"
     ]
    },
    {
     "name": "stdout",
     "output_type": "stream",
     "text": [
      "Epoch 51 - Training Loss: 0.44879920562001335, Validation Loss: 0.445674197618438\n"
     ]
    },
    {
     "name": "stderr",
     "output_type": "stream",
     "text": [
      "Training...:  52%|█████▏    | 52/100 [00:12<00:12,  3.72it/s]"
     ]
    },
    {
     "name": "stdout",
     "output_type": "stream",
     "text": [
      "Epoch 52 - Training Loss: 0.44566183156565714, Validation Loss: 0.42292378324514596\n"
     ]
    },
    {
     "name": "stderr",
     "output_type": "stream",
     "text": [
      "Training...:  53%|█████▎    | 53/100 [00:12<00:12,  3.68it/s]"
     ]
    },
    {
     "name": "stdout",
     "output_type": "stream",
     "text": [
      "Epoch 53 - Training Loss: 0.4227326795220403, Validation Loss: 0.47608997539298864\n"
     ]
    },
    {
     "name": "stderr",
     "output_type": "stream",
     "text": [
      "Training...:  54%|█████▍    | 54/100 [00:13<00:12,  3.72it/s]"
     ]
    },
    {
     "name": "stdout",
     "output_type": "stream",
     "text": [
      "Epoch 54 - Training Loss: 0.429222499124806, Validation Loss: 0.40837501592080866\n"
     ]
    },
    {
     "name": "stderr",
     "output_type": "stream",
     "text": [
      "Training...:  55%|█████▌    | 55/100 [00:13<00:11,  3.95it/s]"
     ]
    },
    {
     "name": "stdout",
     "output_type": "stream",
     "text": [
      "Epoch 55 - Training Loss: 0.40068371080241333, Validation Loss: 0.48937991506250444\n"
     ]
    },
    {
     "name": "stderr",
     "output_type": "stream",
     "text": [
      "Training...:  56%|█████▌    | 56/100 [00:13<00:10,  4.12it/s]"
     ]
    },
    {
     "name": "stdout",
     "output_type": "stream",
     "text": [
      "Epoch 56 - Training Loss: 0.42431705715719487, Validation Loss: 0.34073955771885295\n"
     ]
    },
    {
     "name": "stderr",
     "output_type": "stream",
     "text": [
      "Training...:  57%|█████▋    | 57/100 [00:13<00:10,  4.23it/s]"
     ]
    },
    {
     "name": "stdout",
     "output_type": "stream",
     "text": [
      "Epoch 57 - Training Loss: 0.4050967759290778, Validation Loss: 0.3902888839543509\n"
     ]
    },
    {
     "name": "stderr",
     "output_type": "stream",
     "text": [
      "Training...:  58%|█████▊    | 58/100 [00:13<00:09,  4.34it/s]"
     ]
    },
    {
     "name": "stdout",
     "output_type": "stream",
     "text": [
      "Epoch 58 - Training Loss: 0.3922884346279618, Validation Loss: 0.402282178981823\n"
     ]
    },
    {
     "name": "stderr",
     "output_type": "stream",
     "text": [
      "Training...:  59%|█████▉    | 59/100 [00:14<00:09,  4.40it/s]"
     ]
    },
    {
     "name": "stdout",
     "output_type": "stream",
     "text": [
      "Epoch 59 - Training Loss: 0.3927140470937869, Validation Loss: 0.36745879638344386\n"
     ]
    },
    {
     "name": "stderr",
     "output_type": "stream",
     "text": [
      "Training...:  60%|██████    | 60/100 [00:14<00:09,  4.40it/s]"
     ]
    },
    {
     "name": "stdout",
     "output_type": "stream",
     "text": [
      "Epoch 60 - Training Loss: 0.39812338950631493, Validation Loss: 0.3179651707472328\n"
     ]
    },
    {
     "name": "stderr",
     "output_type": "stream",
     "text": [
      "Training...:  61%|██████    | 61/100 [00:14<00:09,  4.33it/s]"
     ]
    },
    {
     "name": "stdout",
     "output_type": "stream",
     "text": [
      "Epoch 61 - Training Loss: 0.37986392866244056, Validation Loss: 0.3447641976681765\n"
     ]
    },
    {
     "name": "stderr",
     "output_type": "stream",
     "text": [
      "Training...:  62%|██████▏   | 62/100 [00:14<00:08,  4.40it/s]"
     ]
    },
    {
     "name": "stdout",
     "output_type": "stream",
     "text": [
      "Epoch 62 - Training Loss: 0.36280337326574763, Validation Loss: 0.37391490603005734\n"
     ]
    },
    {
     "name": "stderr",
     "output_type": "stream",
     "text": [
      "Training...:  63%|██████▎   | 63/100 [00:15<00:08,  4.24it/s]"
     ]
    },
    {
     "name": "stdout",
     "output_type": "stream",
     "text": [
      "Epoch 63 - Training Loss: 0.36615258006320506, Validation Loss: 0.3452375044738293\n"
     ]
    },
    {
     "name": "stderr",
     "output_type": "stream",
     "text": [
      "Training...:  64%|██████▍   | 64/100 [00:15<00:08,  4.21it/s]"
     ]
    },
    {
     "name": "stdout",
     "output_type": "stream",
     "text": [
      "Epoch 64 - Training Loss: 0.3718833290727214, Validation Loss: 0.29670262724586177\n"
     ]
    },
    {
     "name": "stderr",
     "output_type": "stream",
     "text": [
      "Training...:  65%|██████▌   | 65/100 [00:15<00:08,  3.91it/s]"
     ]
    },
    {
     "name": "stdout",
     "output_type": "stream",
     "text": [
      "Epoch 65 - Training Loss: 0.344186658155337, Validation Loss: 0.37211200912379816\n"
     ]
    },
    {
     "name": "stderr",
     "output_type": "stream",
     "text": [
      "Training...:  66%|██████▌   | 66/100 [00:15<00:08,  3.79it/s]"
     ]
    },
    {
     "name": "stdout",
     "output_type": "stream",
     "text": [
      "Epoch 66 - Training Loss: 0.35070425502013314, Validation Loss: 0.334557803243424\n"
     ]
    },
    {
     "name": "stderr",
     "output_type": "stream",
     "text": [
      "Training...:  67%|██████▋   | 67/100 [00:16<00:08,  3.87it/s]"
     ]
    },
    {
     "name": "stdout",
     "output_type": "stream",
     "text": [
      "Epoch 67 - Training Loss: 0.3378084412689839, Validation Loss: 0.33656043611408254\n"
     ]
    },
    {
     "name": "stderr",
     "output_type": "stream",
     "text": [
      "Training...:  68%|██████▊   | 68/100 [00:16<00:08,  3.85it/s]"
     ]
    },
    {
     "name": "stdout",
     "output_type": "stream",
     "text": [
      "Epoch 68 - Training Loss: 0.338406237126737, Validation Loss: 0.3160919239590779\n"
     ]
    },
    {
     "name": "stderr",
     "output_type": "stream",
     "text": [
      "Training...:  69%|██████▉   | 69/100 [00:16<00:08,  3.73it/s]"
     ]
    },
    {
     "name": "stdout",
     "output_type": "stream",
     "text": [
      "Epoch 69 - Training Loss: 0.3277290382966523, Validation Loss: 0.3365722949486248\n"
     ]
    },
    {
     "name": "stderr",
     "output_type": "stream",
     "text": [
      "Training...:  70%|███████   | 70/100 [00:17<00:08,  3.68it/s]"
     ]
    },
    {
     "name": "stdout",
     "output_type": "stream",
     "text": [
      "Epoch 70 - Training Loss: 0.31670671755820023, Validation Loss: 0.3506592071501129\n"
     ]
    },
    {
     "name": "stderr",
     "output_type": "stream",
     "text": [
      "Training...:  71%|███████   | 71/100 [00:17<00:07,  3.83it/s]"
     ]
    },
    {
     "name": "stdout",
     "output_type": "stream",
     "text": [
      "Epoch 71 - Training Loss: 0.3173079048594802, Validation Loss: 0.31819221096621925\n"
     ]
    },
    {
     "name": "stderr",
     "output_type": "stream",
     "text": [
      "Training...:  72%|███████▏  | 72/100 [00:17<00:07,  3.89it/s]"
     ]
    },
    {
     "name": "stdout",
     "output_type": "stream",
     "text": [
      "Epoch 72 - Training Loss: 0.3114539245393467, Validation Loss: 0.3151982055331866\n"
     ]
    },
    {
     "name": "stderr",
     "output_type": "stream",
     "text": [
      "Training...:  73%|███████▎  | 73/100 [00:17<00:06,  3.99it/s]"
     ]
    },
    {
     "name": "stdout",
     "output_type": "stream",
     "text": [
      "Epoch 73 - Training Loss: 0.3070282232496206, Validation Loss: 0.3103031177150263\n"
     ]
    },
    {
     "name": "stderr",
     "output_type": "stream",
     "text": [
      "Training...:  74%|███████▍  | 74/100 [00:17<00:06,  4.02it/s]"
     ]
    },
    {
     "name": "stdout",
     "output_type": "stream",
     "text": [
      "Epoch 74 - Training Loss: 0.30069891508047597, Validation Loss: 0.3153275802116089\n"
     ]
    },
    {
     "name": "stderr",
     "output_type": "stream",
     "text": [
      "Training...:  75%|███████▌  | 75/100 [00:18<00:06,  4.07it/s]"
     ]
    },
    {
     "name": "stdout",
     "output_type": "stream",
     "text": [
      "Epoch 75 - Training Loss: 0.29263080095126204, Validation Loss: 0.3360353692806557\n"
     ]
    },
    {
     "name": "stderr",
     "output_type": "stream",
     "text": [
      "Training...:  76%|███████▌  | 76/100 [00:18<00:06,  3.96it/s]"
     ]
    },
    {
     "name": "stdout",
     "output_type": "stream",
     "text": [
      "Epoch 76 - Training Loss: 0.2866446872364432, Validation Loss: 0.343921896076974\n"
     ]
    },
    {
     "name": "stderr",
     "output_type": "stream",
     "text": [
      "Training...:  77%|███████▋  | 77/100 [00:18<00:05,  3.95it/s]"
     ]
    },
    {
     "name": "stdout",
     "output_type": "stream",
     "text": [
      "Epoch 77 - Training Loss: 0.28787277611019446, Validation Loss: 0.31364070162426855\n"
     ]
    },
    {
     "name": "stderr",
     "output_type": "stream",
     "text": [
      "Training...:  78%|███████▊  | 78/100 [00:18<00:05,  3.90it/s]"
     ]
    },
    {
     "name": "stdout",
     "output_type": "stream",
     "text": [
      "Epoch 78 - Training Loss: 0.28745434814318993, Validation Loss: 0.2924855248044745\n"
     ]
    },
    {
     "name": "stderr",
     "output_type": "stream",
     "text": [
      "Training...:  79%|███████▉  | 79/100 [00:19<00:05,  3.94it/s]"
     ]
    },
    {
     "name": "stdout",
     "output_type": "stream",
     "text": [
      "Epoch 79 - Training Loss: 0.28998145163911815, Validation Loss: 0.252773057921544\n"
     ]
    },
    {
     "name": "stderr",
     "output_type": "stream",
     "text": [
      "Training...:  80%|████████  | 80/100 [00:19<00:05,  3.96it/s]"
     ]
    },
    {
     "name": "stdout",
     "output_type": "stream",
     "text": [
      "Epoch 80 - Training Loss: 0.28378834187892876, Validation Loss: 0.2747424780306979\n"
     ]
    },
    {
     "name": "stderr",
     "output_type": "stream",
     "text": [
      "Training...:  81%|████████  | 81/100 [00:19<00:04,  4.10it/s]"
     ]
    },
    {
     "name": "stdout",
     "output_type": "stream",
     "text": [
      "Epoch 81 - Training Loss: 0.2752579549010076, Validation Loss: 0.2875984090704886\n"
     ]
    },
    {
     "name": "stderr",
     "output_type": "stream",
     "text": [
      "Training...:  82%|████████▏ | 82/100 [00:19<00:04,  3.91it/s]"
     ]
    },
    {
     "name": "stdout",
     "output_type": "stream",
     "text": [
      "Epoch 82 - Training Loss: 0.2583288982978475, Validation Loss: 0.34271979466521135\n"
     ]
    },
    {
     "name": "stderr",
     "output_type": "stream",
     "text": [
      "Training...:  83%|████████▎ | 83/100 [00:20<00:04,  3.86it/s]"
     ]
    },
    {
     "name": "stdout",
     "output_type": "stream",
     "text": [
      "Epoch 83 - Training Loss: 0.27377464956072467, Validation Loss: 0.23649764459932784\n"
     ]
    },
    {
     "name": "stderr",
     "output_type": "stream",
     "text": [
      "Training...:  84%|████████▍ | 84/100 [00:20<00:04,  3.99it/s]"
     ]
    },
    {
     "name": "stdout",
     "output_type": "stream",
     "text": [
      "Epoch 84 - Training Loss: 0.26053049801630135, Validation Loss: 0.2812219602540483\n"
     ]
    },
    {
     "name": "stderr",
     "output_type": "stream",
     "text": [
      "Training...:  85%|████████▌ | 85/100 [00:20<00:03,  4.01it/s]"
     ]
    },
    {
     "name": "stdout",
     "output_type": "stream",
     "text": [
      "Epoch 85 - Training Loss: 0.26648401755269474, Validation Loss: 0.25880015210260576\n"
     ]
    },
    {
     "name": "stderr",
     "output_type": "stream",
     "text": [
      "Training...:  86%|████████▌ | 86/100 [00:21<00:03,  3.86it/s]"
     ]
    },
    {
     "name": "stdout",
     "output_type": "stream",
     "text": [
      "Epoch 86 - Training Loss: 0.24809522282949592, Validation Loss: 0.3091103691392157\n"
     ]
    },
    {
     "name": "stderr",
     "output_type": "stream",
     "text": [
      "Training...:  87%|████████▋ | 87/100 [00:21<00:03,  3.78it/s]"
     ]
    },
    {
     "name": "stdout",
     "output_type": "stream",
     "text": [
      "Epoch 87 - Training Loss: 0.26291685886404853, Validation Loss: 0.23611892761803227\n"
     ]
    },
    {
     "name": "stderr",
     "output_type": "stream",
     "text": [
      "Training...:  88%|████████▊ | 88/100 [00:21<00:03,  3.78it/s]"
     ]
    },
    {
     "name": "stdout",
     "output_type": "stream",
     "text": [
      "Epoch 88 - Training Loss: 0.250079353179356, Validation Loss: 0.2585925480316129\n"
     ]
    },
    {
     "name": "stderr",
     "output_type": "stream",
     "text": [
      "Training...:  89%|████████▉ | 89/100 [00:21<00:03,  3.61it/s]"
     ]
    },
    {
     "name": "stdout",
     "output_type": "stream",
     "text": [
      "Epoch 89 - Training Loss: 0.250356218866952, Validation Loss: 0.26706654873934854\n"
     ]
    },
    {
     "name": "stderr",
     "output_type": "stream",
     "text": [
      "Training...:  90%|█████████ | 90/100 [00:22<00:02,  3.55it/s]"
     ]
    },
    {
     "name": "stdout",
     "output_type": "stream",
     "text": [
      "Epoch 90 - Training Loss: 0.24359135206233803, Validation Loss: 0.28047374617893617\n"
     ]
    },
    {
     "name": "stderr",
     "output_type": "stream",
     "text": [
      "Training...:  91%|█████████ | 91/100 [00:22<00:02,  3.60it/s]"
     ]
    },
    {
     "name": "stdout",
     "output_type": "stream",
     "text": [
      "Epoch 91 - Training Loss: 0.23511865540105104, Validation Loss: 0.28547670424713184\n"
     ]
    },
    {
     "name": "stderr",
     "output_type": "stream",
     "text": [
      "Training...:  92%|█████████▏| 92/100 [00:22<00:02,  3.56it/s]"
     ]
    },
    {
     "name": "stdout",
     "output_type": "stream",
     "text": [
      "Epoch 92 - Training Loss: 0.24687169008731752, Validation Loss: 0.2312451680114523\n"
     ]
    },
    {
     "name": "stderr",
     "output_type": "stream",
     "text": [
      "Training...:  93%|█████████▎| 93/100 [00:22<00:01,  3.71it/s]"
     ]
    },
    {
     "name": "stdout",
     "output_type": "stream",
     "text": [
      "Epoch 93 - Training Loss: 0.2432779012064443, Validation Loss: 0.22641592262698715\n"
     ]
    },
    {
     "name": "stderr",
     "output_type": "stream",
     "text": [
      "Training...:  94%|█████████▍| 94/100 [00:23<00:01,  3.90it/s]"
     ]
    },
    {
     "name": "stdout",
     "output_type": "stream",
     "text": [
      "Epoch 94 - Training Loss: 0.2380435019117366, Validation Loss: 0.22895340453280638\n"
     ]
    },
    {
     "name": "stderr",
     "output_type": "stream",
     "text": [
      "Training...:  95%|█████████▌| 95/100 [00:23<00:01,  3.98it/s]"
     ]
    },
    {
     "name": "stdout",
     "output_type": "stream",
     "text": [
      "Epoch 95 - Training Loss: 0.23875934490941628, Validation Loss: 0.2150466002234448\n"
     ]
    },
    {
     "name": "stderr",
     "output_type": "stream",
     "text": [
      "Training...:  96%|█████████▌| 96/100 [00:23<00:01,  3.95it/s]"
     ]
    },
    {
     "name": "stdout",
     "output_type": "stream",
     "text": [
      "Epoch 96 - Training Loss: 0.22786766126742902, Validation Loss: 0.24071917159628156\n"
     ]
    },
    {
     "name": "stderr",
     "output_type": "stream",
     "text": [
      "Training...:  97%|█████████▋| 97/100 [00:23<00:00,  3.95it/s]"
     ]
    },
    {
     "name": "stdout",
     "output_type": "stream",
     "text": [
      "Epoch 97 - Training Loss: 0.2309946782558585, Validation Loss: 0.2197282314381602\n"
     ]
    },
    {
     "name": "stderr",
     "output_type": "stream",
     "text": [
      "Training...:  98%|█████████▊| 98/100 [00:24<00:00,  4.11it/s]"
     ]
    },
    {
     "name": "stdout",
     "output_type": "stream",
     "text": [
      "Epoch 98 - Training Loss: 0.22141769660888183, Validation Loss: 0.25030385785179715\n"
     ]
    },
    {
     "name": "stderr",
     "output_type": "stream",
     "text": [
      "Training...:  99%|█████████▉| 99/100 [00:24<00:00,  4.14it/s]"
     ]
    },
    {
     "name": "stdout",
     "output_type": "stream",
     "text": [
      "Epoch 99 - Training Loss: 0.2290010259272571, Validation Loss: 0.18695369871854464\n"
     ]
    },
    {
     "name": "stderr",
     "output_type": "stream",
     "text": [
      "Training...: 100%|██████████| 100/100 [00:24<00:00,  4.06it/s]"
     ]
    },
    {
     "name": "stdout",
     "output_type": "stream",
     "text": [
      "Epoch 100 - Training Loss: 0.22273040494650606, Validation Loss: 0.22176651843255993\n"
     ]
    },
    {
     "name": "stderr",
     "output_type": "stream",
     "text": [
      "\n"
     ]
    }
   ],
   "source": [
    "model.fit(X_train, y_train)"
   ]
  },
  {
   "cell_type": "code",
   "execution_count": 360,
   "metadata": {},
   "outputs": [
    {
     "name": "stdout",
     "output_type": "stream",
     "text": [
      "Accuracy: 90.35%\n"
     ]
    }
   ],
   "source": [
    "y_pred = model.predict(X_test)\n",
    "y_true = y_test\n",
    "\n",
    "accuracy = np.mean(np.argmax(y_pred, axis=1) == np.argmax(y_true, axis=1))\n",
    "\n",
    "print(f\"Accuracy: {accuracy * 100:.2f}%\")"
   ]
  },
  {
   "cell_type": "code",
   "execution_count": 361,
   "metadata": {},
   "outputs": [],
   "source": [
    "import pandas as pd"
   ]
  },
  {
   "cell_type": "code",
   "execution_count": 362,
   "metadata": {},
   "outputs": [
    {
     "data": {
      "text/html": [
       "<div>\n",
       "<style scoped>\n",
       "    .dataframe tbody tr th:only-of-type {\n",
       "        vertical-align: middle;\n",
       "    }\n",
       "\n",
       "    .dataframe tbody tr th {\n",
       "        vertical-align: top;\n",
       "    }\n",
       "\n",
       "    .dataframe thead th {\n",
       "        text-align: right;\n",
       "    }\n",
       "</style>\n",
       "<table border=\"1\" class=\"dataframe\">\n",
       "  <thead>\n",
       "    <tr style=\"text-align: right;\">\n",
       "      <th></th>\n",
       "      <th>0</th>\n",
       "      <th>1</th>\n",
       "      <th>2</th>\n",
       "      <th>3</th>\n",
       "      <th>4</th>\n",
       "      <th>5</th>\n",
       "      <th>6</th>\n",
       "      <th>7</th>\n",
       "      <th>8</th>\n",
       "      <th>9</th>\n",
       "    </tr>\n",
       "  </thead>\n",
       "  <tbody>\n",
       "    <tr>\n",
       "      <th>0</th>\n",
       "      <td>8.222513e-01</td>\n",
       "      <td>1.539402e-13</td>\n",
       "      <td>1.188949e-08</td>\n",
       "      <td>6.125788e-24</td>\n",
       "      <td>3.223556e-10</td>\n",
       "      <td>1.476517e-01</td>\n",
       "      <td>2.888691e-02</td>\n",
       "      <td>1.209293e-03</td>\n",
       "      <td>6.971638e-07</td>\n",
       "      <td>1.006013e-08</td>\n",
       "    </tr>\n",
       "    <tr>\n",
       "      <th>1</th>\n",
       "      <td>1.573039e-65</td>\n",
       "      <td>1.235523e-55</td>\n",
       "      <td>1.321281e-26</td>\n",
       "      <td>6.687254e-31</td>\n",
       "      <td>1.000000e+00</td>\n",
       "      <td>9.430149e-19</td>\n",
       "      <td>1.317725e-37</td>\n",
       "      <td>4.616133e-39</td>\n",
       "      <td>5.450107e-41</td>\n",
       "      <td>4.092363e-18</td>\n",
       "    </tr>\n",
       "    <tr>\n",
       "      <th>2</th>\n",
       "      <td>1.535374e-18</td>\n",
       "      <td>1.000000e+00</td>\n",
       "      <td>4.052694e-25</td>\n",
       "      <td>8.526775e-18</td>\n",
       "      <td>5.529382e-16</td>\n",
       "      <td>1.676120e-21</td>\n",
       "      <td>1.405576e-28</td>\n",
       "      <td>8.657652e-25</td>\n",
       "      <td>1.382687e-14</td>\n",
       "      <td>2.911323e-21</td>\n",
       "    </tr>\n",
       "    <tr>\n",
       "      <th>3</th>\n",
       "      <td>2.355659e-14</td>\n",
       "      <td>1.304629e-37</td>\n",
       "      <td>1.000000e+00</td>\n",
       "      <td>1.448526e-15</td>\n",
       "      <td>1.760457e-41</td>\n",
       "      <td>2.238396e-15</td>\n",
       "      <td>1.870909e-27</td>\n",
       "      <td>1.007281e-30</td>\n",
       "      <td>1.251626e-18</td>\n",
       "      <td>7.460827e-27</td>\n",
       "    </tr>\n",
       "    <tr>\n",
       "      <th>4</th>\n",
       "      <td>4.925331e-44</td>\n",
       "      <td>5.346738e-28</td>\n",
       "      <td>1.635378e-23</td>\n",
       "      <td>9.648874e-34</td>\n",
       "      <td>1.000000e+00</td>\n",
       "      <td>3.148691e-19</td>\n",
       "      <td>2.920490e-21</td>\n",
       "      <td>3.572167e-15</td>\n",
       "      <td>4.933033e-40</td>\n",
       "      <td>3.633827e-16</td>\n",
       "    </tr>\n",
       "  </tbody>\n",
       "</table>\n",
       "</div>"
      ],
      "text/plain": [
       "              0             1             2             3             4  \\\n",
       "0  8.222513e-01  1.539402e-13  1.188949e-08  6.125788e-24  3.223556e-10   \n",
       "1  1.573039e-65  1.235523e-55  1.321281e-26  6.687254e-31  1.000000e+00   \n",
       "2  1.535374e-18  1.000000e+00  4.052694e-25  8.526775e-18  5.529382e-16   \n",
       "3  2.355659e-14  1.304629e-37  1.000000e+00  1.448526e-15  1.760457e-41   \n",
       "4  4.925331e-44  5.346738e-28  1.635378e-23  9.648874e-34  1.000000e+00   \n",
       "\n",
       "              5             6             7             8             9  \n",
       "0  1.476517e-01  2.888691e-02  1.209293e-03  6.971638e-07  1.006013e-08  \n",
       "1  9.430149e-19  1.317725e-37  4.616133e-39  5.450107e-41  4.092363e-18  \n",
       "2  1.676120e-21  1.405576e-28  8.657652e-25  1.382687e-14  2.911323e-21  \n",
       "3  2.238396e-15  1.870909e-27  1.007281e-30  1.251626e-18  7.460827e-27  \n",
       "4  3.148691e-19  2.920490e-21  3.572167e-15  4.933033e-40  3.633827e-16  "
      ]
     },
     "execution_count": 362,
     "metadata": {},
     "output_type": "execute_result"
    }
   ],
   "source": [
    "y_pred_df = pd.DataFrame(y_pred)\n",
    "y_pred_df.head()"
   ]
  },
  {
   "cell_type": "code",
   "execution_count": 363,
   "metadata": {},
   "outputs": [
    {
     "data": {
      "text/html": [
       "<div>\n",
       "<style scoped>\n",
       "    .dataframe tbody tr th:only-of-type {\n",
       "        vertical-align: middle;\n",
       "    }\n",
       "\n",
       "    .dataframe tbody tr th {\n",
       "        vertical-align: top;\n",
       "    }\n",
       "\n",
       "    .dataframe thead th {\n",
       "        text-align: right;\n",
       "    }\n",
       "</style>\n",
       "<table border=\"1\" class=\"dataframe\">\n",
       "  <thead>\n",
       "    <tr style=\"text-align: right;\">\n",
       "      <th></th>\n",
       "      <th>0</th>\n",
       "      <th>1</th>\n",
       "      <th>2</th>\n",
       "      <th>3</th>\n",
       "      <th>4</th>\n",
       "      <th>5</th>\n",
       "      <th>6</th>\n",
       "      <th>7</th>\n",
       "      <th>8</th>\n",
       "      <th>9</th>\n",
       "    </tr>\n",
       "  </thead>\n",
       "  <tbody>\n",
       "    <tr>\n",
       "      <th>0</th>\n",
       "      <td>1.0</td>\n",
       "      <td>0.0</td>\n",
       "      <td>0.0</td>\n",
       "      <td>0.0</td>\n",
       "      <td>0.0</td>\n",
       "      <td>0.0</td>\n",
       "      <td>0.0</td>\n",
       "      <td>0.0</td>\n",
       "      <td>0.0</td>\n",
       "      <td>0.0</td>\n",
       "    </tr>\n",
       "    <tr>\n",
       "      <th>1</th>\n",
       "      <td>0.0</td>\n",
       "      <td>0.0</td>\n",
       "      <td>0.0</td>\n",
       "      <td>0.0</td>\n",
       "      <td>1.0</td>\n",
       "      <td>0.0</td>\n",
       "      <td>0.0</td>\n",
       "      <td>0.0</td>\n",
       "      <td>0.0</td>\n",
       "      <td>0.0</td>\n",
       "    </tr>\n",
       "    <tr>\n",
       "      <th>2</th>\n",
       "      <td>0.0</td>\n",
       "      <td>1.0</td>\n",
       "      <td>0.0</td>\n",
       "      <td>0.0</td>\n",
       "      <td>0.0</td>\n",
       "      <td>0.0</td>\n",
       "      <td>0.0</td>\n",
       "      <td>0.0</td>\n",
       "      <td>0.0</td>\n",
       "      <td>0.0</td>\n",
       "    </tr>\n",
       "    <tr>\n",
       "      <th>3</th>\n",
       "      <td>0.0</td>\n",
       "      <td>0.0</td>\n",
       "      <td>1.0</td>\n",
       "      <td>0.0</td>\n",
       "      <td>0.0</td>\n",
       "      <td>0.0</td>\n",
       "      <td>0.0</td>\n",
       "      <td>0.0</td>\n",
       "      <td>0.0</td>\n",
       "      <td>0.0</td>\n",
       "    </tr>\n",
       "    <tr>\n",
       "      <th>4</th>\n",
       "      <td>0.0</td>\n",
       "      <td>0.0</td>\n",
       "      <td>0.0</td>\n",
       "      <td>0.0</td>\n",
       "      <td>0.0</td>\n",
       "      <td>0.0</td>\n",
       "      <td>0.0</td>\n",
       "      <td>1.0</td>\n",
       "      <td>0.0</td>\n",
       "      <td>0.0</td>\n",
       "    </tr>\n",
       "  </tbody>\n",
       "</table>\n",
       "</div>"
      ],
      "text/plain": [
       "     0    1    2    3    4    5    6    7    8    9\n",
       "0  1.0  0.0  0.0  0.0  0.0  0.0  0.0  0.0  0.0  0.0\n",
       "1  0.0  0.0  0.0  0.0  1.0  0.0  0.0  0.0  0.0  0.0\n",
       "2  0.0  1.0  0.0  0.0  0.0  0.0  0.0  0.0  0.0  0.0\n",
       "3  0.0  0.0  1.0  0.0  0.0  0.0  0.0  0.0  0.0  0.0\n",
       "4  0.0  0.0  0.0  0.0  0.0  0.0  0.0  1.0  0.0  0.0"
      ]
     },
     "execution_count": 363,
     "metadata": {},
     "output_type": "execute_result"
    }
   ],
   "source": [
    "y_true_df = pd.DataFrame(y_true)\n",
    "y_true_df.head()"
   ]
  },
  {
   "cell_type": "code",
   "execution_count": 364,
   "metadata": {},
   "outputs": [
    {
     "data": {
      "image/png": "[encoded data removed]",
      "text/plain": [
       "<Figure size 800x600 with 1 Axes>"
      ]
     },
     "metadata": {},
     "output_type": "display_data"
    },
    {
     "data": {
      "image/png": "[encoded data removed]",
      "text/plain": [
       "<Figure size 800x600 with 1 Axes>"
      ]
     },
     "metadata": {},
     "output_type": "display_data"
    },
    {
     "data": {
      "image/png": "[encoded data removed]",
      "text/plain": [
       "<Figure size 800x600 with 1 Axes>"
      ]
     },
     "metadata": {},
     "output_type": "display_data"
    },
    {
     "data": {
      "image/png": "[encoded data removed]",
      "text/plain": [
       "<Figure size 800x600 with 1 Axes>"
      ]
     },
     "metadata": {},
     "output_type": "display_data"
    }
   ],
   "source": [
    "model.plot_weights([i for i in range(len(layer_sizes) - 1)])"
   ]
  },
  {
   "cell_type": "code",
   "execution_count": 365,
   "metadata": {},
   "outputs": [
    {
     "data": {
      "image/png": "[encoded data removed]",
      "text/plain": [
       "<Figure size 800x600 with 1 Axes>"
      ]
     },
     "metadata": {},
     "output_type": "display_data"
    },
    {
     "data": {
      "image/png": "[encoded data removed]",
      "text/plain": [
       "<Figure size 800x600 with 1 Axes>"
      ]
     },
     "metadata": {},
     "output_type": "display_data"
    },
    {
     "data": {
      "image/png": "[encoded data removed]",
      "text/plain": [
       "<Figure size 800x600 with 1 Axes>"
      ]
     },
     "metadata": {},
     "output_type": "display_data"
    },
    {
     "data": {
      "image/png": "[encoded data removed]",
      "text/plain": [
       "<Figure size 800x600 with 1 Axes>"
      ]
     },
     "metadata": {},
     "output_type": "display_data"
    }
   ],
   "source": [
    "model.plot_gradients([i for i in range(len(layer_sizes) - 1)])"
   ]
  },
  {
   "cell_type": "code",
   "execution_count": 366,
   "metadata": {},
   "outputs": [
    {
     "data": {
      "image/png": "[encoded data removed]",
      "text/plain": [
       "<Figure size 1000x600 with 1 Axes>"
      ]
     },
     "metadata": {},
     "output_type": "display_data"
    },
    {
     "data": {
      "image/png": "[encoded data removed]",
      "text/plain": [
       "<Figure size 1000x600 with 1 Axes>"
      ]
     },
     "metadata": {},
     "output_type": "display_data"
    }
   ],
   "source": [
    "model.plot_loss_curve()"
   ]
  },
  {
   "cell_type": "code",
   "execution_count": 367,
   "metadata": {},
   "outputs": [],
   "source": [
    "model.save_model(\"../../models/ffnn_model.pkl\")"
   ]
  },
  {
   "cell_type": "code",
   "execution_count": 368,
   "metadata": {},
   "outputs": [
    {
     "name": "stdout",
     "output_type": "stream",
     "text": [
      "Accuracy: 90.35%\n"
     ]
    }
   ],
   "source": [
    "load = FFNN.load_model(\"../../models/ffnn_model.pkl\")\n",
    "y_pred = load.predict(X_test)\n",
    "y_true = y_test\n",
    "\n",
    "accuracy = np.mean(np.argmax(y_pred, axis=1) == np.argmax(y_true, axis=1))\n",
    "\n",
    "print(f\"Accuracy: {accuracy * 100:.2f}%\")"
   ]
  }
 ],
 "metadata": {
  "kernelspec": {
   "display_name": ".venv",
   "language": "python",
   "name": "python3"
  },
  "language_info": {
   "codemirror_mode": {
    "name": "ipython",
    "version": 3
   },
   "file_extension": ".py",
   "mimetype": "text/x-python",
   "name": "python",
   "nbconvert_exporter": "python",
   "pygments_lexer": "ipython3",
   "version": "3.12.0"
  }
 },
 "nbformat": 4,
 "nbformat_minor": 2
}
