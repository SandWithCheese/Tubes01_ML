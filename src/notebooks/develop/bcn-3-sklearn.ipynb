{
 "cells": [
  {
   "cell_type": "code",
   "execution_count": 1,
   "metadata": {},
   "outputs": [],
   "source": [
    "import warnings\n",
    "\n",
    "import matplotlib.pyplot as plt\n",
    "\n",
    "from sklearn.datasets import fetch_openml\n",
    "from sklearn.exceptions import ConvergenceWarning\n",
    "from sklearn.model_selection import train_test_split\n",
    "from sklearn.neural_network import MLPClassifier"
   ]
  },
  {
   "cell_type": "code",
   "execution_count": 2,
   "metadata": {},
   "outputs": [],
   "source": [
    "X, y = fetch_openml(\"mnist_784\", version=1, return_X_y=True, as_frame=False)\n",
    "X = X / 255.0"
   ]
  },
  {
   "cell_type": "code",
   "execution_count": 3,
   "metadata": {},
   "outputs": [
    {
     "name": "stdout",
     "output_type": "stream",
     "text": [
      "(21000, 784) (49000, 784)\n"
     ]
    }
   ],
   "source": [
    "X_train, X_test, y_train, y_test = train_test_split(X, y, random_state=0, test_size=0.7)\n",
    "print(X_train.shape, X_test.shape)"
   ]
  },
  {
   "cell_type": "code",
   "execution_count": 4,
   "metadata": {},
   "outputs": [],
   "source": [
    "mlp = MLPClassifier(\n",
    "    hidden_layer_sizes=(256,128,),\n",
    "    max_iter=100,\n",
    "    learning_rate_init=0.001,\n",
    "    learning_rate='constant',\n",
    "    batch_size=256,\n",
    "    verbose=True,\n",
    "    random_state=42,\n",
    "    activation='relu',\n",
    ")"
   ]
  },
  {
   "cell_type": "code",
   "execution_count": 5,
   "metadata": {},
   "outputs": [
    {
     "name": "stdout",
     "output_type": "stream",
     "text": [
      "Iteration 1, loss = 0.55023009\n",
      "Iteration 2, loss = 0.20717752\n",
      "Iteration 3, loss = 0.14594798\n",
      "Iteration 4, loss = 0.10893824\n",
      "Iteration 5, loss = 0.10914021\n",
      "Iteration 6, loss = 0.06511461\n",
      "Iteration 7, loss = 0.05301479\n",
      "Iteration 8, loss = 0.04043422\n",
      "Iteration 9, loss = 0.03303779\n",
      "Iteration 10, loss = 0.02379861\n",
      "Iteration 11, loss = 0.02446882\n",
      "Iteration 12, loss = 0.01645604\n",
      "Iteration 13, loss = 0.01134230\n",
      "Iteration 14, loss = 0.00800287\n",
      "Iteration 15, loss = 0.00643594\n",
      "Iteration 16, loss = 0.00573374\n",
      "Iteration 17, loss = 0.00384974\n",
      "Iteration 18, loss = 0.00303289\n",
      "Iteration 19, loss = 0.00287951\n",
      "Iteration 20, loss = 0.00225999\n",
      "Iteration 21, loss = 0.00188948\n",
      "Iteration 22, loss = 0.00165306\n",
      "Iteration 23, loss = 0.00148218\n",
      "Iteration 24, loss = 0.00133431\n",
      "Iteration 25, loss = 0.00118565\n",
      "Iteration 26, loss = 0.00107245\n",
      "Iteration 27, loss = 0.00099328\n",
      "Iteration 28, loss = 0.00097474\n",
      "Iteration 29, loss = 0.00084957\n",
      "Iteration 30, loss = 0.00077983\n",
      "Iteration 31, loss = 0.00072194\n",
      "Iteration 32, loss = 0.00067816\n",
      "Iteration 33, loss = 0.00067047\n",
      "Iteration 34, loss = 0.00060217\n",
      "Iteration 35, loss = 0.00056845\n",
      "Iteration 36, loss = 0.00055123\n",
      "Iteration 37, loss = 0.00051466\n",
      "Iteration 38, loss = 0.00051336\n",
      "Iteration 39, loss = 0.00046935\n",
      "Iteration 40, loss = 0.00044961\n",
      "Training loss did not improve more than tol=0.000100 for 10 consecutive epochs. Stopping.\n",
      "Training set score: 1.000000\n",
      "Test set score: 0.971000\n"
     ]
    }
   ],
   "source": [
    "with warnings.catch_warnings():\n",
    "    warnings.filterwarnings(\"ignore\", category=ConvergenceWarning, module=\"sklearn\")\n",
    "    mlp.fit(X_train, y_train)\n",
    "\n",
    "print(\"Training set score: %f\" % mlp.score(X_train, y_train))\n",
    "print(\"Test set score: %f\" % mlp.score(X_test, y_test))"
   ]
  },
  {
   "cell_type": "code",
   "execution_count": 7,
   "metadata": {},
   "outputs": [
    {
     "data": {
      "image/png": "[encoded data removed]",
      "text/plain": [
       "<Figure size 640x480 with 1 Axes>"
      ]
     },
     "metadata": {},
     "output_type": "display_data"
    }
   ],
   "source": [
    "# Plot the loss curve\n",
    "plt.plot(mlp.loss_curve_)\n",
    "plt.title(\"Loss Curve\")\n",
    "plt.xlabel(\"Iterations\")\n",
    "plt.ylabel(\"Loss\")\n",
    "plt.grid()\n",
    "plt.show()"
   ]
  }
 ],
 "metadata": {
  "kernelspec": {
   "display_name": ".venv",
   "language": "python",
   "name": "python3"
  },
  "language_info": {
   "codemirror_mode": {
    "name": "ipython",
    "version": 3
   },
   "file_extension": ".py",
   "mimetype": "text/x-python",
   "name": "python",
   "nbconvert_exporter": "python",
   "pygments_lexer": "ipython3",
   "version": "3.12.0"
  }
 },
 "nbformat": 4,
 "nbformat_minor": 2
}
